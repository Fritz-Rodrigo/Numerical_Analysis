{
  "cells": [
    {
      "cell_type": "markdown",
      "metadata": {
        "id": "view-in-github",
        "colab_type": "text"
      },
      "source": [
        "<a href=\"https://colab.research.google.com/github/Fritz-Rodrigo/Numerical_Analysis/blob/main/2020-1.ipynb\" target=\"_parent\"><img src=\"https://colab.research.google.com/assets/colab-badge.svg\" alt=\"Open In Colab\"/></a>"
      ]
    },
    {
      "cell_type": "markdown",
      "metadata": {
        "id": "kYkSgqmKyngP"
      },
      "source": [
        "# 1\n",
        "\n",
        "Considere el sistema de punto flotante $fl(10, 4, -15, 17)$\n",
        "\n",
        "**a)** Usando truncamiento, halle el elemento más grande que cumple la ecuación\n",
        "\n",
        "$$x \\oplus 30 = 30$$\n",
        "\n",
        "El número más grande es $x = 0.9999\\times10^{-3}$, pues $30 + x = 0.30009999\\times10^2 = 0.3\\times10^2 = 30$\n",
        "\n"
      ]
    },
    {
      "cell_type": "code",
      "source": [
        "0b11"
      ],
      "metadata": {
        "colab": {
          "base_uri": "https://localhost:8080/"
        },
        "id": "hApE0kpk4hZF",
        "outputId": "21004aed-d5f9-4c6f-d438-6a9ace877192"
      },
      "execution_count": null,
      "outputs": [
        {
          "output_type": "execute_result",
          "data": {
            "text/plain": [
              "3"
            ]
          },
          "metadata": {},
          "execution_count": 5
        }
      ]
    },
    {
      "cell_type": "markdown",
      "source": [
        "**b)** Convierta el número binario $(11111000111)_2$ a un elemento normalizado del sistema.\n",
        "\n",
        "$\\begin{align}\n",
        "2\\cdot0 + 1 & = 1 \\\\\n",
        "2\\cdot1 + 1 & = 3 \\\\\n",
        "2\\cdot3 + 1 & = 7 \\\\\n",
        "2\\cdot7 + 1 & = 15\\\\\n",
        "2\\cdot15+ 1 & = 31\\\\\n",
        "2\\cdot31+ 0 & = 62\\\\\n",
        "2\\cdot62+ 0 & = 124\\\\\n",
        "2\\cdot124+0 & = 248\\\\\n",
        "2\\cdot248+1 & = 497\\\\\n",
        "2\\cdot497+1 & = 995\\\\\n",
        "2\\cdot995+1 & = 1991\n",
        "\\end{align}$"
      ],
      "metadata": {
        "id": "RdXh3-ZN4gEZ"
      }
    },
    {
      "cell_type": "code",
      "execution_count": null,
      "metadata": {
        "id": "luq1EY5IyngW",
        "outputId": "f659ffd2-98f8-48d1-fcff-2e7ebadd3a23"
      },
      "outputs": [
        {
          "data": {
            "text/plain": [
              "1991"
            ]
          },
          "execution_count": 1,
          "metadata": {},
          "output_type": "execute_result"
        }
      ],
      "source": [
        "0b11111000111"
      ]
    },
    {
      "cell_type": "markdown",
      "metadata": {
        "id": "uED7a6xfyngX"
      },
      "source": [
        "Por lo tanto $(11111000111)_2 = (0.1991\\times10^4)_{10}$"
      ]
    },
    {
      "cell_type": "markdown",
      "metadata": {
        "id": "OMU-KMuDyngY"
      },
      "source": [
        "**c)** Intente predecir cuándo la suma parcial\n",
        "\n",
        "$$s_n = \\sum\\limits_{k=1}^n \\dfrac{1}{k}$$\n",
        "\n",
        "deja de cambiar en el sistema de punto \n",
        "otante dado.\n",
        "\n",
        "Si no tuviéramos la APF de 4 dígitos, entonces la suma se detendría cuando $\\dfrac{1}{n}$ se vuelve despreciable en comparación con la suma parcial, i.e.\n",
        "$$\\dfrac{1}{n} < \\epsilon_\\text{mach} \\sum\\limits_{k=1}^{n-1} \\dfrac{1}{k}$$\n",
        "\n",
        "Pero como sí tenemos la APF de 4 dígitos con redondeo, entonces la suma parcial se detiene cuando\n",
        "\n",
        "$\\dfrac{1}{n} < \\epsilon_\\text{mach} = \\dfrac{1}{2}\\beta^{1-p}$\n",
        "\n",
        "en este caso $\\beta = 10$ y $p=4$, entonces\n",
        "\n",
        "$\\epsilon_\\text{mach} = \\dfrac{1}{2}10^{-3} = \\dfrac{1}{2000} = 0.0005$\n",
        "\n",
        "Si $\\dfrac{1}{n} < \\epsilon_\\text{mach}$ entonces $n > \\dfrac{1}{\\epsilon_\\text{mach}} = 2000$, por lo que el último término que aporta algo a la suma es $n=2000$\n",
        "\n",
        "A continuación se implementa esta idea numéricamente"
      ]
    },
    {
      "cell_type": "code",
      "execution_count": null,
      "metadata": {
        "id": "F5PxpPbcyngY",
        "outputId": "d9e0d140-9a90-4fac-83eb-adb5b03e4b7b"
      },
      "outputs": [
        {
          "data": {
            "text/plain": [
              "8.448"
            ]
          },
          "execution_count": 17,
          "metadata": {},
          "output_type": "execute_result"
        }
      ],
      "source": [
        "p=4\n",
        "x=0\n",
        "y=[]\n",
        "for i in range(1,2*10**(p-1)+3): # La n crítica es 2*10**(p-1)\n",
        "    x = round(x + round(1/i,p-1),p-1) # n = i+1 corre de 1 a 500\n",
        "    y.append(x)\n",
        "x"
      ]
    },
    {
      "cell_type": "code",
      "execution_count": null,
      "metadata": {
        "id": "B3vU_DN6yngZ",
        "outputId": "8d60b12a-af45-48d0-a68a-25041df8d9cb"
      },
      "outputs": [
        {
          "data": {
            "text/plain": [
              "2002"
            ]
          },
          "execution_count": 18,
          "metadata": {},
          "output_type": "execute_result"
        }
      ],
      "source": [
        "len(y)"
      ]
    },
    {
      "cell_type": "code",
      "execution_count": null,
      "metadata": {
        "id": "78hDG9KnyngZ",
        "outputId": "a02703f3-5b8f-456d-cdc3-7a208290317c"
      },
      "outputs": [
        {
          "data": {
            "text/plain": [
              "[8.444, 8.445, 8.446, 8.447, 8.448, 8.448, 8.448]"
            ]
          },
          "execution_count": 20,
          "metadata": {},
          "output_type": "execute_result"
        }
      ],
      "source": [
        "y[1995:2002] #se detiene en i = 1999 = n-1, i.e. n = 2000"
      ]
    },
    {
      "cell_type": "markdown",
      "source": [
        "## 2 Cholesky Factorization\n",
        "\n",
        "**a)** Let $v \\in \\mathbb{R}^3$ and\n",
        "$$B =\n",
        "\\begin{bmatrix}\n",
        "2 & 2 & 3 \\\\\n",
        "2 & 5 & 6 \\\\\n",
        "3 & 6 & 10\n",
        "\\end{bmatrix}$$\n",
        "\n",
        "Prove that the matrix\n",
        "$$A =\n",
        "\\begin{bmatrix}\n",
        "B & v \\\\\n",
        "v^T & 1\n",
        "\\end{bmatrix}\n",
        "$$\n",
        "is positive definite (it is __not__)."
      ],
      "metadata": {
        "id": "3DAmzxWj433V"
      }
    },
    {
      "cell_type": "markdown",
      "metadata": {
        "id": "92y3f7QWynga"
      },
      "source": [
        "__Answer__\n",
        "\n",
        "Let $v^T = (x,\\ y,\\ z)$, then\n",
        "$$A =\n",
        "\\begin{bmatrix}\n",
        "2 & 2 & 3 & x \\\\\n",
        "2 & 5 & 6 & y \\\\\n",
        "3 & 6 & 10 & z \\\\\n",
        "x & y & z & 1\n",
        "\\end{bmatrix}\n",
        "$$\n",
        "\n",
        "Now, let $u^T = (a,\\ b,\\ c,\\ d)$, then $u^TAu$ is a \n",
        "$(1\\times4)(4\\times4)(4\\times1) = (1\\times1)$ matrix multiplication, which gives\n",
        "\n",
        "$$u^TAu = \n",
        "[a\\quad b\\quad c\\quad d]\n",
        "\\begin{bmatrix}\n",
        "2 & 2 & 3 & x \\\\\n",
        "2 & 5 & 6 & y \\\\\n",
        "3 & 6 & 10 & z \\\\\n",
        "x & y & z & 1\n",
        "\\end{bmatrix}\n",
        "\\begin{bmatrix}\n",
        "a \\\\\n",
        "b \\\\\n",
        "c \\\\\n",
        "d\n",
        "\\end{bmatrix}$$\n",
        "\n",
        "$$ = [a\\quad b\\quad c\\quad d]\n",
        "\\begin{bmatrix}\n",
        "2a + 2b + 3c + xd \\\\\n",
        "2a + 5b + 6c + yd \\\\\n",
        "3a + 6b + 10c + zd \\\\\n",
        "xa + yb + zc + d\n",
        "\\end{bmatrix}$$\n",
        "\n",
        "$$ = a(2a + 2b + 3c + xd) + b(2a + 5b + 6c + yd) + c(3a + 6b + 10c + zd) + d(xa + yb + zc + d)$$\n",
        "\n",
        "$$ = 2a^2 + 2ab + 3ac + xad + 2ab + 5b^2 + 6bc + ybd + 3ac + 6bc + 10c^2 + zcd + xad + ybd + zcd + d^2$$\n",
        "\n",
        "$$ = 2a^2 + 4ab + 6ac + 2xad + 5b^2 + 12bc + 2ybd + 10c^2 + 2zcd + d^2$$\n",
        "\n",
        "$$ = (a^2 + 4ab + 4b^2) + (a^2 + 6ac + 9c^2) + (b^2 + 12bc + c^2) + d^2 + 2d(xa + yb + zc)$$\n",
        "\n",
        "$$ = (a + 2b)^2 + (a + 3c)^2 + (b + c)^2 + d^2 + 10bc + 2d(xa + yb + zc) $$\n",
        "\n",
        "This is postive iff\n",
        "$$(a + 2b)^2 + (a + 3c)^2 + (b + c)^2 + d^2 > - 10bc - 2d(xa + yb + zc)$$\n",
        "\n",
        "thus in general it is **not positive definite**, as we can check in\n",
        "[Wolfram](https://www.wolframalpha.com/input?i=%28%282%2C+2%2C+3%2C+x%29%2C+%282%2C+5%2C+6%2C+y%29%2C+%283%2C+6%2C+10%2C+z%29%2C+%28x%2C+y%2C+z%2C+1%29%29+positive+definite).\n",
        "\n",
        "$ $\n",
        "\n",
        "__Counterexample__\n",
        "\n",
        "For instance, set $u = [1,1,1,1]^T$, then $u^TAu > 0$ iff\n",
        "\n",
        "$$ 40 + 2(x + y + z) > 0$$\n",
        "\n",
        "$$ x + y + z > -20 $$\n",
        "\n",
        "so, for example, if $v = (-7,-7,-7)$ then $u^TAu = -2$\n",
        "\n",
        "$ $\n",
        "\n",
        "Let's see if $B$ is postive definite.\n",
        "\n",
        "Let $u = (a, b, c)$\n",
        "\n",
        "$$u^TBu = \n",
        "[a\\quad b\\quad c]\n",
        "\\begin{bmatrix}\n",
        "2 & 2 & 3 \\\\\n",
        "2 & 5 & 6 \\\\\n",
        "3 & 6 & 10\n",
        "\\end{bmatrix}\n",
        "\\begin{bmatrix}\n",
        "a \\\\\n",
        "b \\\\\n",
        "c\n",
        "\\end{bmatrix}$$\n",
        "\n",
        "$$ = a (2 a + 2 b + 3 c) + b (2 a + 5 b + 6 c) + c (3 a + 6 b + 10 c) $$\n",
        "\n",
        "$$ = (2a^2 + 2ab + 3ac) + (2ab + 5b^2 + 6bc) + (3ac + 6bc + 10c^2) $$\n",
        "\n",
        "$$ = 2a^2 + 5b^2 + 10c^2 + 4ab + 6ac + 12bc $$\n",
        "\n",
        "$$ = (a + 2b)^2 + (a + 3c)^2 + (b + c)^2 + 10bc $$\n",
        "\n",
        "This is always positive, but to be sure we have to find the matrix eigenvalues, which are $\\lambda_1 = 15, \\lambda_2 = \\lambda_3 = 1$, all positive, therefore $B$ is positive definite ([Wolfram](https://www.wolframalpha.com/input?i=%28%282%2C+2%2C+3%29%2C+%282%2C+5%2C+6%29%2C+%283%2C+6%2C+10%29%29+positive+definite))."
      ]
    },
    {
      "cell_type": "markdown",
      "metadata": {
        "id": "lMDKR5MDyngb"
      },
      "source": [
        "$ $\n",
        "\n",
        "**b)** Suponga que la matriz $C = B - vv^T$ es positiva definida. Halle la factorización de Cholesky de $A$ para cada $v \\in \\mathbb{R}^3$.\n",
        "\n",
        "Sea $v = [x,\\ y,\\ z]^T$, entonces\n",
        "$$C =\n",
        "\\begin{bmatrix}\n",
        "2 - x^2 & 2 - xy & 3 - xz \\\\\n",
        "2 - xy & 5 - y^2 & 6 - yz \\\\\n",
        "3 - xz & 6 - yz & 10 - z^2 \\\\\n",
        "\\end{bmatrix}\n",
        "$$\n",
        "\n",
        "Primero veamos la factorización de Cholesky para la matriz $B$. \n",
        "\n",
        "https://en.wikipedia.org/wiki/Cholesky_decomposition#The_Cholesky%E2%80%93Banachiewicz_and_Cholesky%E2%80%93Crout_algorithms\n",
        "\n",
        "Debemos sacar la raíz cuadrada en la primera entrada de la diagonal y dividir las entradas que quedan en la 1ra columna entre el resultado. Para la 2da columna, le restamos al elemento de la diagonal el elemento de la misma fila en la 1ra columna al cuadrado, y al siguiente de la 2da columna le restamos el de la misma fila multiplicado por el de la fila anterior en la 1ra columna. En la 3ra columna restamos los resultados al cuadrado de la misma fila y finalmente sacamos raíz.\n",
        "\n",
        "$$\n",
        "\\begin{bmatrix}\n",
        "\\sqrt{2} & 0 & 0 \\\\\n",
        "2/\\sqrt{2} & 5-(2/\\sqrt{2})^2 & 0 \\\\\n",
        "3/\\sqrt{2} & 6-(2/\\sqrt{2})(3/\\sqrt{2}) & 10-(3/\\sqrt{2})^2\n",
        "\\end{bmatrix}\n",
        "=\n",
        "\\begin{bmatrix}\n",
        "\\sqrt{2} & 0 & 0 \\\\\n",
        "2/\\sqrt{2} & 3 & 0 \\\\\n",
        "3/\\sqrt{2} & 3 & 11/2\n",
        "\\end{bmatrix}\n",
        "$$\n",
        "\n",
        "$$\n",
        "\\begin{bmatrix}\n",
        "\\sqrt{2} & 0 & 0 \\\\\n",
        "2/\\sqrt{2} & \\sqrt{3} & 0 \\\\\n",
        "3/\\sqrt{2} & 3/\\sqrt{3} & 11/2 - (3/\\sqrt{3})^2\n",
        "\\end{bmatrix}\n",
        "=\n",
        "\\begin{bmatrix}\n",
        "\\sqrt{2} & 0 & 0 \\\\\n",
        "2/\\sqrt{2} & \\sqrt{3} & 0 \\\\\n",
        "3/\\sqrt{2} & \\sqrt{3} & 5/2\n",
        "\\end{bmatrix}\n",
        "$$\n",
        "\n",
        "$$L =\n",
        "\\begin{bmatrix}\n",
        "\\sqrt{2} & 0 & 0 \\\\\n",
        "2/\\sqrt{2} & \\sqrt{3} & 0 \\\\\n",
        "3/\\sqrt{2} & \\sqrt{3} & \\sqrt{5/2}\n",
        "\\end{bmatrix}\n",
        "$$"
      ]
    },
    {
      "cell_type": "code",
      "source": [
        "1/np.sqrt(3)"
      ],
      "metadata": {
        "colab": {
          "base_uri": "https://localhost:8080/"
        },
        "id": "qZEoCe2cNU2k",
        "outputId": "68bdb371-7f2f-4755-dbe2-1fbc5266594f"
      },
      "execution_count": null,
      "outputs": [
        {
          "output_type": "execute_result",
          "data": {
            "text/plain": [
              "0.5773502691896258"
            ]
          },
          "metadata": {},
          "execution_count": 9
        }
      ]
    },
    {
      "cell_type": "code",
      "source": [
        "3 - 1/3"
      ],
      "metadata": {
        "colab": {
          "base_uri": "https://localhost:8080/"
        },
        "outputId": "965ac1bf-c6f3-4904-ff8d-ad549bf2149c",
        "id": "bM9Eyv00OKeu"
      },
      "execution_count": null,
      "outputs": [
        {
          "output_type": "execute_result",
          "data": {
            "text/plain": [
              "2.6666666666666665"
            ]
          },
          "metadata": {},
          "execution_count": 7
        }
      ]
    },
    {
      "cell_type": "code",
      "source": [
        "-1 - 1/3"
      ],
      "metadata": {
        "colab": {
          "base_uri": "https://localhost:8080/"
        },
        "id": "lMtQQjGEOfS6",
        "outputId": "f7dc80c7-299a-4c7b-c68b-08509083ee84"
      },
      "execution_count": null,
      "outputs": [
        {
          "output_type": "execute_result",
          "data": {
            "text/plain": [
              "-1.3333333333333333"
            ]
          },
          "metadata": {},
          "execution_count": 10
        }
      ]
    },
    {
      "cell_type": "code",
      "execution_count": null,
      "metadata": {
        "id": "XfWcqxdyyngb"
      },
      "outputs": [],
      "source": [
        "import numpy as np\n",
        "import numpy.linalg as la"
      ]
    },
    {
      "cell_type": "code",
      "execution_count": null,
      "metadata": {
        "id": "XEhq5c51yngc",
        "outputId": "b1da6fae-58f3-4683-d544-b88a2f1a5be3"
      },
      "outputs": [
        {
          "data": {
            "text/plain": [
              "array([[1.41421356, 0.        , 0.        ],\n",
              "       [1.41421356, 1.73205081, 0.        ],\n",
              "       [2.12132034, 1.73205081, 1.58113883]])"
            ]
          },
          "execution_count": 31,
          "metadata": {},
          "output_type": "execute_result"
        }
      ],
      "source": [
        "np.array([\n",
        "    [np.sqrt(2),0,0],\n",
        "    [2/np.sqrt(2),np.sqrt(3),0],\n",
        "    [3/np.sqrt(2),3/np.sqrt(3),np.sqrt(5/2)]])"
      ]
    },
    {
      "cell_type": "code",
      "execution_count": null,
      "metadata": {
        "id": "j7msLXSKyngc"
      },
      "outputs": [],
      "source": [
        "B = np.array([\n",
        "    [2,2,3],\n",
        "    [2,5,6],\n",
        "    [3,6,10]])"
      ]
    },
    {
      "cell_type": "code",
      "execution_count": null,
      "metadata": {
        "id": "am_ZX2q9yngc",
        "outputId": "42d26bab-6ee7-4fc3-cc75-7b91a8e74beb"
      },
      "outputs": [
        {
          "data": {
            "text/plain": [
              "array([[1.41421356, 0.        , 0.        ],\n",
              "       [1.41421356, 1.73205081, 0.        ],\n",
              "       [2.12132034, 1.73205081, 1.58113883]])"
            ]
          },
          "execution_count": 24,
          "metadata": {},
          "output_type": "execute_result"
        }
      ],
      "source": [
        "la.cholesky(B)"
      ]
    },
    {
      "cell_type": "markdown",
      "metadata": {
        "id": "hWwELT3Tyngc"
      },
      "source": [
        "En el ejemplo 2.21 del Heath, se tiene"
      ]
    },
    {
      "cell_type": "code",
      "execution_count": null,
      "metadata": {
        "id": "Aa38LMHnyngd"
      },
      "outputs": [],
      "source": [
        "B = np.array([\n",
        "    [3,-1,-1],\n",
        "    [-1,3,-1],\n",
        "    [-1,-1,3]])"
      ]
    },
    {
      "cell_type": "code",
      "execution_count": null,
      "metadata": {
        "id": "sU4Zqh7Byngd",
        "outputId": "3ed4ec2d-ac9d-4b24-eb47-0020533b44a6"
      },
      "outputs": [
        {
          "data": {
            "text/plain": [
              "2.6666666666666665"
            ]
          },
          "execution_count": 11,
          "metadata": {},
          "output_type": "execute_result"
        }
      ],
      "source": [
        "3 - 1/3"
      ]
    },
    {
      "cell_type": "code",
      "execution_count": null,
      "metadata": {
        "id": "zQyujxoGyngd",
        "outputId": "09b4ec66-47e2-48bd-bd0e-fe8be4ea8ab4"
      },
      "outputs": [
        {
          "data": {
            "text/plain": [
              "-1.3333333333333333"
            ]
          },
          "execution_count": 10,
          "metadata": {},
          "output_type": "execute_result"
        }
      ],
      "source": [
        "-1 - 1/3"
      ]
    },
    {
      "cell_type": "code",
      "execution_count": null,
      "metadata": {
        "id": "5lmglM93yngd",
        "outputId": "aa299ce6-975f-49c8-a12b-902901a5ddb7"
      },
      "outputs": [
        {
          "data": {
            "text/plain": [
              "1.632993161855452"
            ]
          },
          "execution_count": 12,
          "metadata": {},
          "output_type": "execute_result"
        }
      ],
      "source": [
        "np.sqrt(3 - 1/3)"
      ]
    },
    {
      "cell_type": "code",
      "execution_count": null,
      "metadata": {
        "id": "HV6TqNnzynge",
        "outputId": "d24e84f5-2aff-4901-c785-7f04b7ad01c1"
      },
      "outputs": [
        {
          "data": {
            "text/plain": [
              "-0.816496580927726"
            ]
          },
          "execution_count": 13,
          "metadata": {},
          "output_type": "execute_result"
        }
      ],
      "source": [
        "(-1 - 1/3)/np.sqrt(3 - 1/3)"
      ]
    },
    {
      "cell_type": "code",
      "execution_count": null,
      "metadata": {
        "id": "iZh8GO0Hynge",
        "outputId": "657b9ac4-c628-4117-bfae-8f8110f8d150"
      },
      "outputs": [
        {
          "data": {
            "text/plain": [
              "0.6666666666666666"
            ]
          },
          "execution_count": 14,
          "metadata": {},
          "output_type": "execute_result"
        }
      ],
      "source": [
        "( (-1 - 1/3)/np.sqrt(3 - 1/3) )**2"
      ]
    },
    {
      "cell_type": "code",
      "execution_count": null,
      "metadata": {
        "id": "eSKYfBhgynge",
        "outputId": "a3bf7f8d-4b60-4f17-c383-9a8768d11772"
      },
      "outputs": [
        {
          "data": {
            "text/plain": [
              "array([[ 1.73205081,  0.        ,  0.        ],\n",
              "       [-0.57735027,  1.63299316,  0.        ],\n",
              "       [-0.57735027, -0.81649658,  1.41421356]])"
            ]
          },
          "execution_count": 26,
          "metadata": {},
          "output_type": "execute_result"
        }
      ],
      "source": [
        "la.cholesky(B)"
      ]
    },
    {
      "cell_type": "code",
      "execution_count": null,
      "metadata": {
        "id": "_iag8H-Qynge"
      },
      "outputs": [],
      "source": [
        "def C(x,y,z):\n",
        "    \n",
        "    C = np.array([\n",
        "        [2-x**2,2-x*y,3-x*z],\n",
        "        [2-x*y,5-y**2,6-y*z],\n",
        "        [3-x*z,6-y*z,10-z**2]])\n",
        "    \n",
        "    return C"
      ]
    },
    {
      "cell_type": "code",
      "execution_count": null,
      "metadata": {
        "id": "7UXHJNXAyngf",
        "outputId": "20637a9f-db23-4fc4-fc78-a35386d4d531"
      },
      "outputs": [
        {
          "data": {
            "text/plain": [
              "array([[1, 1, 2],\n",
              "       [1, 4, 5],\n",
              "       [2, 5, 9]])"
            ]
          },
          "execution_count": 33,
          "metadata": {},
          "output_type": "execute_result"
        }
      ],
      "source": [
        "C(1,1,1)"
      ]
    },
    {
      "cell_type": "code",
      "execution_count": null,
      "metadata": {
        "id": "Bb6xFINvyngf",
        "outputId": "5922a435-6e4e-41cc-c933-977d539cdc37"
      },
      "outputs": [
        {
          "data": {
            "text/plain": [
              "array([[1.        , 0.        , 0.        ],\n",
              "       [1.        , 1.73205081, 0.        ],\n",
              "       [2.        , 1.73205081, 1.41421356]])"
            ]
          },
          "execution_count": 34,
          "metadata": {},
          "output_type": "execute_result"
        }
      ],
      "source": [
        "la.cholesky(C(1,1,1))"
      ]
    },
    {
      "cell_type": "code",
      "execution_count": null,
      "metadata": {
        "id": "5jBWJXEuyngf",
        "outputId": "cb8a6820-5300-40aa-a369-eba52840183e"
      },
      "outputs": [
        {
          "data": {
            "text/plain": [
              "1.1547005383792517"
            ]
          },
          "execution_count": 38,
          "metadata": {},
          "output_type": "execute_result"
        }
      ],
      "source": [
        "2/np.sqrt(3)"
      ]
    },
    {
      "cell_type": "markdown",
      "metadata": {
        "id": "nuXP4XLEyngf"
      },
      "source": [
        "$$\n",
        "\\begin{bmatrix}\n",
        "1 & 0 & 0 \\\\\n",
        "1 & 4-1^2 & 0 \\\\\n",
        "2 & 5-(1)(2) & 9-2^2\n",
        "\\end{bmatrix}\n",
        "=\n",
        "\\begin{bmatrix}\n",
        "1 & 0 & 0 \\\\\n",
        "1 & 3 & 0 \\\\\n",
        "2 & 3 & 5\n",
        "\\end{bmatrix}\n",
        "$$\n",
        "\n",
        "$$\n",
        "\\begin{bmatrix}\n",
        "1 & 0 & 0 \\\\\n",
        "1 & \\sqrt{3} & 0 \\\\\n",
        "2 & 3/\\sqrt{3} & 5-(3/\\sqrt{3})^2\n",
        "\\end{bmatrix}\n",
        "=\n",
        "\\begin{bmatrix}\n",
        "1 & 0 & 0 \\\\\n",
        "1 & \\sqrt{3} & 0 \\\\\n",
        "2 & \\sqrt{3} & 2\n",
        "\\end{bmatrix}\n",
        "$$\n",
        "\n",
        "$$L =\n",
        "\\begin{bmatrix}\n",
        "1 & 0 & 0 \\\\\n",
        "1 & \\sqrt{3} & 0 \\\\\n",
        "2 & \\sqrt{3} & \\sqrt{2}\n",
        "\\end{bmatrix}\n",
        "$$"
      ]
    },
    {
      "cell_type": "code",
      "execution_count": null,
      "metadata": {
        "id": "NUFVAGhZyngf",
        "outputId": "50cb20f6-3890-493e-ddaf-5f572b6dfcda"
      },
      "outputs": [
        {
          "data": {
            "text/plain": [
              "array([[1, 0, 0],\n",
              "       [0, 1, 0],\n",
              "       [0, 0, 1]])"
            ]
          },
          "execution_count": 42,
          "metadata": {},
          "output_type": "execute_result"
        }
      ],
      "source": [
        "C(1,2,3)"
      ]
    },
    {
      "cell_type": "code",
      "execution_count": null,
      "metadata": {
        "id": "8k35PXaUyngg",
        "outputId": "a71efebf-c3ef-420a-adc4-411bfaf55466"
      },
      "outputs": [
        {
          "data": {
            "text/plain": [
              "array([[-7, -4,  0],\n",
              "       [-4,  1,  4],\n",
              "       [ 0,  4,  9]])"
            ]
          },
          "execution_count": 43,
          "metadata": {},
          "output_type": "execute_result"
        }
      ],
      "source": [
        "C(3,2,1)"
      ]
    },
    {
      "cell_type": "code",
      "execution_count": null,
      "metadata": {
        "id": "gLvsTLQwyngg"
      },
      "outputs": [],
      "source": [
        "#la.cholesky(C(3,2,1))\n",
        "#No es positiva definida"
      ]
    },
    {
      "cell_type": "code",
      "execution_count": null,
      "metadata": {
        "id": "o6vifu2zyngg"
      },
      "outputs": [],
      "source": [
        "def A(x,y,z):\n",
        "    \n",
        "    A = np.array([\n",
        "        [2,2,3,x],\n",
        "        [2,5,6,y],\n",
        "        [3,6,10,z],\n",
        "        [x,y,z,1]])\n",
        "    \n",
        "    return A"
      ]
    },
    {
      "cell_type": "code",
      "execution_count": null,
      "metadata": {
        "id": "wUn97enByngg",
        "outputId": "fcea2bbc-c5dc-46ea-c703-b5e66def0f30"
      },
      "outputs": [
        {
          "data": {
            "text/plain": [
              "array([[ 2,  2,  3,  1],\n",
              "       [ 2,  5,  6,  1],\n",
              "       [ 3,  6, 10,  1],\n",
              "       [ 1,  1,  1,  1]])"
            ]
          },
          "execution_count": 49,
          "metadata": {},
          "output_type": "execute_result"
        }
      ],
      "source": [
        "A(1,1,1)"
      ]
    },
    {
      "cell_type": "markdown",
      "metadata": {
        "id": "bF_xryN6yngg"
      },
      "source": [
        "$$ L_{jj} = \\pm\\sqrt{ A_{jj} - \\sum_{k=1}^{j-1} L_{jk}^2 } $$\n",
        "\n",
        "$$ L_{ij} = \\frac{1}{L_{jj}} \\left( A_{ij} - \\sum_{k=1}^{j-1} L_{ik} L_{jk} \\right) \\quad \\text{for } i>j $$\n",
        "\n",
        "$$\n",
        "\\begin{bmatrix}\n",
        "\\sqrt{2} & 0 & 0 & 0\\\\\n",
        "\\sqrt{2} & 5-\\sqrt{2}^2 & 0 & 0 \\\\\n",
        "3/\\sqrt{2} & 6-3 & 10-9/2 & 0 \\\\\n",
        "1/\\sqrt{2} & 1-(\\sqrt{2})(1/\\sqrt{2}) & 1 & 1\n",
        "\\end{bmatrix}\n",
        "=\n",
        "\\begin{bmatrix}\n",
        "\\sqrt{2} & 0 & 0 & 0\\\\\n",
        "\\sqrt{2} & \\sqrt{3} & 0 & 0 \\\\\n",
        "3/\\sqrt{2} & \\sqrt{3} & 11/2-3 & 0 \\\\\n",
        "1/\\sqrt{2} & 0/\\sqrt{3} & 1 & 1\n",
        "\\end{bmatrix}\n",
        "$$\n",
        "\n",
        "$$\n",
        "\\begin{bmatrix}\n",
        "\\sqrt{2} & 0 & 0 & 0\\\\\n",
        "\\sqrt{2} & \\sqrt{3} & 0 & 0 \\\\\n",
        "3/\\sqrt{2} & \\sqrt{3} & \\sqrt{5/2} & 0 \\\\\n",
        "1/\\sqrt{2} & 0/\\sqrt{3} & 1-3/2 - 0 & 1\n",
        "\\end{bmatrix}\n",
        "=\n",
        "\\begin{bmatrix}\n",
        "\\sqrt{2} & 0 & 0 & 0\\\\\n",
        "\\sqrt{2} & \\sqrt{3} & 0 & 0 \\\\\n",
        "3/\\sqrt{2} & \\sqrt{3} & \\sqrt{5/2} & 0 \\\\\n",
        "1/\\sqrt{2} & 0/\\sqrt{3} & -1/\\sqrt{10} & 1-1/10-0-1/2\n",
        "\\end{bmatrix}\n",
        "$$\n",
        "\n",
        "$$L =\n",
        "\\begin{bmatrix}\n",
        "\\sqrt{2} & 0 & 0 & 0\\\\\n",
        "\\sqrt{2} & \\sqrt{3} & 0 & 0 \\\\\n",
        "3/\\sqrt{2} & \\sqrt{3} & \\sqrt{5/2} & 0 \\\\\n",
        "1/\\sqrt{2} & 0/\\sqrt{3} & -1/\\sqrt{10} & \\sqrt{2/5}\n",
        "\\end{bmatrix}\n",
        "$$"
      ]
    },
    {
      "cell_type": "code",
      "execution_count": null,
      "metadata": {
        "id": "mIrGYRkAyngh",
        "outputId": "3ed222db-b51e-4ce4-9a79-f5a4ea7c30bb"
      },
      "outputs": [
        {
          "data": {
            "text/plain": [
              "2.1213203435596424"
            ]
          },
          "execution_count": 57,
          "metadata": {},
          "output_type": "execute_result"
        }
      ],
      "source": [
        "3/np.sqrt(2)"
      ]
    },
    {
      "cell_type": "code",
      "execution_count": null,
      "metadata": {
        "id": "oPrSwzrdyngh",
        "outputId": "77136170-d8bb-47ab-fa63-c716c99f832a"
      },
      "outputs": [
        {
          "data": {
            "text/plain": [
              "1.5811388300841898"
            ]
          },
          "execution_count": 61,
          "metadata": {},
          "output_type": "execute_result"
        }
      ],
      "source": [
        "np.sqrt(5/2)"
      ]
    },
    {
      "cell_type": "code",
      "execution_count": null,
      "metadata": {
        "id": "sUqdS0-byngh",
        "outputId": "dc38aae5-274f-4d21-e310-6daf3bb78928"
      },
      "outputs": [
        {
          "data": {
            "text/plain": [
              "0.6324555320336759"
            ]
          },
          "execution_count": 62,
          "metadata": {},
          "output_type": "execute_result"
        }
      ],
      "source": [
        "np.sqrt(2/5)"
      ]
    },
    {
      "cell_type": "code",
      "execution_count": null,
      "metadata": {
        "id": "bQTX1RKqyngh",
        "outputId": "72a13517-4881-461c-e0f1-9a28bf750d05"
      },
      "outputs": [
        {
          "data": {
            "text/plain": [
              "-0.31622776601683794"
            ]
          },
          "execution_count": 63,
          "metadata": {},
          "output_type": "execute_result"
        }
      ],
      "source": [
        "-1/np.sqrt(10)"
      ]
    },
    {
      "cell_type": "code",
      "execution_count": null,
      "metadata": {
        "id": "yu3_IE7Eyngh",
        "outputId": "848157d8-75f5-487b-d4b2-906996e83c6b"
      },
      "outputs": [
        {
          "data": {
            "text/plain": [
              "array([[ 1.41421356e+00,  0.00000000e+00,  0.00000000e+00,\n",
              "         0.00000000e+00],\n",
              "       [ 1.41421356e+00,  1.73205081e+00,  0.00000000e+00,\n",
              "         0.00000000e+00],\n",
              "       [ 2.12132034e+00,  1.73205081e+00,  1.58113883e+00,\n",
              "         0.00000000e+00],\n",
              "       [ 7.07106781e-01,  1.28197512e-16, -3.16227766e-01,\n",
              "         6.32455532e-01]])"
            ]
          },
          "execution_count": 50,
          "metadata": {},
          "output_type": "execute_result"
        }
      ],
      "source": [
        "la.cholesky(A(1,1,1))"
      ]
    },
    {
      "cell_type": "code",
      "execution_count": null,
      "metadata": {
        "id": "y1hMAa9hyngh",
        "outputId": "5b9ada53-28de-4d0d-cc29-ca3943f8c794"
      },
      "outputs": [
        {
          "data": {
            "text/plain": [
              "array([[ 2,  2,  3, -1],\n",
              "       [ 2,  5,  6,  1],\n",
              "       [ 3,  6, 10,  1],\n",
              "       [-1,  1,  1,  1]])"
            ]
          },
          "execution_count": 54,
          "metadata": {},
          "output_type": "execute_result"
        }
      ],
      "source": [
        "A(-1,1,1)"
      ]
    },
    {
      "cell_type": "code",
      "execution_count": null,
      "metadata": {
        "id": "AWOtjdqZyngi"
      },
      "outputs": [],
      "source": [
        "#la.cholesky(A(-1,1,1))\n",
        "#No es definida positiva"
      ]
    },
    {
      "cell_type": "markdown",
      "metadata": {
        "id": "hZc7b2hQyngi"
      },
      "source": [
        "# 3\n",
        "\n",
        "Halle la parábola $$y = a_0 + a_1t + a_2t^2$$\n",
        "\n",
        "que ajusta por mínimos cuadrados a los datos de la tabla\n",
        "$$\n",
        "\\begin{array}{c|c}\n",
        "t_i & y_i \\\\ \\hline\n",
        "0 & 100 \\\\\n",
        "1 & 118 \\\\\n",
        "2 & 92 \\\\\n",
        "3 & 48 \\\\\n",
        "3.5 & 7 \\\\\n",
        "\\end{array}\n",
        "$$"
      ]
    },
    {
      "cell_type": "code",
      "execution_count": null,
      "metadata": {
        "id": "YPhvze_Ryngi"
      },
      "outputs": [],
      "source": [
        "import numpy as np\n",
        "import numpy.linalg as la\n",
        "import matplotlib.pyplot as plt"
      ]
    },
    {
      "cell_type": "code",
      "execution_count": null,
      "metadata": {
        "id": "oK-cjDNxyngi"
      },
      "outputs": [],
      "source": [
        "y = np.array([100, 118, 92, 48, 7])"
      ]
    },
    {
      "cell_type": "code",
      "execution_count": null,
      "metadata": {
        "id": "gcvdLzRdyngi",
        "outputId": "93962c95-d712-4f09-8c39-44724c16a7a7"
      },
      "outputs": [
        {
          "data": {
            "text/plain": [
              "array([0. , 1. , 2. , 3. , 3.5])"
            ]
          },
          "execution_count": 3,
          "metadata": {},
          "output_type": "execute_result"
        }
      ],
      "source": [
        "t = np.array(range(4))\n",
        "t = np.append(t,3.5)\n",
        "t"
      ]
    },
    {
      "cell_type": "code",
      "execution_count": null,
      "metadata": {
        "id": "Dn__t4Gryngi",
        "outputId": "35e5548e-2f83-40d7-de3f-f801533eeea2"
      },
      "outputs": [
        {
          "data": {
            "text/plain": [
              "array([[ 1.  ,  0.  ,  0.  ],\n",
              "       [ 1.  ,  1.  ,  1.  ],\n",
              "       [ 1.  ,  2.  ,  4.  ],\n",
              "       [ 1.  ,  3.  ,  9.  ],\n",
              "       [ 1.  ,  3.5 , 12.25]])"
            ]
          },
          "execution_count": 4,
          "metadata": {},
          "output_type": "execute_result"
        }
      ],
      "source": [
        "A = np.zeros([5,3])\n",
        "for i in range(5):\n",
        "    for j in range(3):\n",
        "        A[i,j] = t[i]**j\n",
        "A"
      ]
    },
    {
      "cell_type": "code",
      "execution_count": null,
      "metadata": {
        "id": "niC8R4hDyngj",
        "outputId": "3d4e834c-46f3-4aba-c210-81693cc21367"
      },
      "outputs": [
        {
          "data": {
            "text/plain": [
              "array([[  5.    ,   9.5   ,  26.25  ],\n",
              "       [  9.5   ,  26.25  ,  78.875 ],\n",
              "       [ 26.25  ,  78.875 , 248.0625]])"
            ]
          },
          "execution_count": 5,
          "metadata": {},
          "output_type": "execute_result"
        }
      ],
      "source": [
        "ATA = np.transpose(A).dot(A)\n",
        "ATA"
      ]
    },
    {
      "cell_type": "code",
      "execution_count": null,
      "metadata": {
        "id": "GmFhG74Uyngj",
        "outputId": "f2380083-11f5-45b2-b026-4de8caaf7653"
      },
      "outputs": [
        {
          "data": {
            "text/plain": [
              "array([ 365.  ,  470.5 , 1003.75])"
            ]
          },
          "execution_count": 6,
          "metadata": {},
          "output_type": "execute_result"
        }
      ],
      "source": [
        "b = np.transpose(A).dot(y)\n",
        "b"
      ]
    },
    {
      "cell_type": "code",
      "execution_count": null,
      "metadata": {
        "id": "SpT0d154yngj",
        "outputId": "9845b024-2e79-4397-c7e1-9db1fc463014"
      },
      "outputs": [
        {
          "data": {
            "text/plain": [
              "array([101.00237906,  29.76605868, -16.10626487])"
            ]
          },
          "execution_count": 7,
          "metadata": {},
          "output_type": "execute_result"
        }
      ],
      "source": [
        "a = la.solve(ATA,b)\n",
        "a"
      ]
    },
    {
      "cell_type": "code",
      "execution_count": null,
      "metadata": {
        "id": "IpzRN9ipyngj",
        "outputId": "e5fa086e-23f0-4811-aa23-d929115998c9"
      },
      "outputs": [
        {
          "data": {
            "image/png": "[encoded data removed]",
            "text/plain": [
              "<Figure size 432x288 with 1 Axes>"
            ]
          },
          "metadata": {
            "needs_background": "light"
          },
          "output_type": "display_data"
        }
      ],
      "source": [
        "x = np.linspace(0,3.5,351)\n",
        "plt.plot(t,y,'.')\n",
        "plt.plot(x, a[0] + a[1]*x + a[2]*x**2)\n",
        "plt.show()"
      ]
    },
    {
      "cell_type": "markdown",
      "metadata": {
        "id": "sO-tx8hWyngj"
      },
      "source": [
        "## 4 Regla de cuadratura.\n",
        "\n",
        "**a)** Calcule una regla de cuadratura gaussiana de 3 puntos en el intervalo $[-2, 2]$.\n",
        "\n",
        "**b)** Use la regla de cuadratura obtenida para aproximar\n",
        "\n",
        "$$\\int_{-2}^2 x \\cos(x)\\ dx = \\big[x\\sin(x) + \\cos(x)\\big]_{-2}^2 = 0$$\n",
        "\n",
        "La regla de cuadratura es\n",
        "\n",
        "$$I(f) = \\int_{-2}^2 x \\cos(x)\\ dx \\approx w_1 f(x_1) + w_2 f(x_2) + w_3 f(x_3) = G_3(f)$$\n",
        "\n",
        "con\n",
        "\n",
        "$$w_1 + w_2 + w_3 = \\int_{-2}^2 dx = 4$$\n",
        "\n",
        "$$w_1x_1 + w_2x_2 + w_3x_3 = \\int_{-2}^2 x\\ dx = 0$$\n",
        "\n",
        "$$w_1x_1^2 + w_2x_2^2 + w_3x_3^2 = \\int_{-2}^2 x^2\\ dx = \\frac{16}{3}$$\n",
        "\n",
        "$$w_1x_1^3 + w_2x_2^3 + w_3x_3^3 = \\int_{-2}^2 x^3\\ dx = 0$$\n",
        "\n",
        "$$w_1x_1^4 + w_2x_2^4 + w_3x_3^4 = \\int_{-2}^2 x^4\\ dx = \\frac{64}{5}$$\n",
        "\n",
        "$$w_1x_1^5 + w_2x_2^5 + w_3x_3^5 = \\int_{-2}^2 x^5\\ dx = 0$$\n",
        "\n",
        "Dado el intervalo, tomamos $\\boxed{x_1 = -x_3}$ y $\\boxed{x_2 = 0}$\n",
        "\n",
        "De la 2da ecuación:\n",
        "$$x_1(w_1 - w_3) = 0$$\n",
        "\n",
        "por lo tanto $\\boxed{w_1 = w_3}$. De la 3ra ecuación:\n",
        "$$x_1^2(w_1 + w_3) = 2w_1x_1^2 = \\frac{16}{3}$$\n",
        "\n",
        "De la 5ta ecuación:\n",
        "$$2w_1x_1^4 = \\frac{64}{5} = \\frac{16}{3}x_1^2$$\n",
        "\n",
        "por lo tanto $$x_1 = \\pm\\sqrt{\\frac{12}{5}}$$\n",
        "\n",
        "Tomamos $$\\boxed{x_1 = - \\sqrt{\\frac{12}{5}},\\quad x_2 = 0,\\quad x_3 = \\sqrt{\\frac{12}{5}}}$$\n",
        "\n",
        "Sustituyendo en lo que se obtuvo de la 3ra ecuación:\n",
        "$$\\boxed{w_1 = \\frac{10}{9} = w_3}$$\n",
        "\n",
        "Y de la 1ra ecuación: $$\\boxed{w_2 = 4 - \\frac{20}{9} = \\frac{16}{9}}$$\n",
        "\n",
        "por lo tanto\n",
        "\n",
        "$$w_1 f(x_1) + w_2 f(x_2) + w_3 f(x_3) = \\frac{10}{9}(-\\sqrt{12/5})\\cos(-\\sqrt{12/5}) + \\frac{16}{9}(0) + \\frac{10}{9}(\\sqrt{12/5})\\cos(\\sqrt{12/5}) = 0$$"
      ]
    },
    {
      "cell_type": "code",
      "execution_count": null,
      "metadata": {
        "id": "dyCJZOsGyngk"
      },
      "outputs": [],
      "source": [
        "import numpy as np"
      ]
    },
    {
      "cell_type": "markdown",
      "metadata": {
        "id": "jRc8bTZYyngk"
      },
      "source": [
        "Para verificar, calculemos la cuadratura con un cambio de variable de $x$ en el intervalo $[\\alpha,\\beta] = [-2,2]$ a $t$ en el intervalo $[a,b] = [0,2]$ en $x=0,1,2$ con la siguiente transformación lineal\n",
        "$$t = \\frac{(b-a)x + a\\beta - b\\alpha}{\\beta-\\alpha} = \\frac{2x + 4}{4} = \\frac{x}{2} + 1$$\n",
        "\n",
        "Y la integral está dada por\n",
        "$$I(g) = \\frac{b-a}{\\beta-\\alpha} \\int_\\alpha^\\beta g(t)\\ dx\n",
        "\\approx \\frac{b-a}{\\beta-\\alpha} \\sum_{i=1}^n w_i g\\left(\\frac{(b-a)x_i + a\\beta - b\\alpha}{\\beta-\\alpha}\\right)$$\n",
        "\n",
        "entonces $$I(g) \\approx \\frac{1}{2} \\Big[w_1 g(t_1) + w_2 g(t_2) + w_3 g(t_3)\\Big]$$\n",
        "\n",
        "$$ = \\frac{1}{2} \\Big[\\frac{10}{9} g(-\\sqrt{3/5}+1) + \\frac{16}{9} g(1) + \\frac{10}{9} g(\\sqrt{3/5}+1)\\Big]$$\n",
        "\n",
        "$$ = \\frac{1}{2} \\Big[\\frac{10}{9} (-\\sqrt{3/5}+1)\\cos(-\\sqrt{3/5}+1) + \\frac{16}{9} \\cos(1) + \\frac{10}{9} (\\sqrt{3/5}+1)\\cos(\\sqrt{3/5}+1)\\Big]$$"
      ]
    },
    {
      "cell_type": "code",
      "execution_count": null,
      "metadata": {
        "id": "f2VO25s4yngk",
        "outputId": "5992c5d6-876f-449e-d6ca-13937964f570"
      },
      "outputs": [
        {
          "data": {
            "text/plain": [
              "0.4027890075332904"
            ]
          },
          "execution_count": 13,
          "metadata": {},
          "output_type": "execute_result"
        }
      ],
      "source": [
        "((10/9)*(1-np.sqrt(3/5))*np.cos(1-np.sqrt(3/5)) + (16/9)*np.cos(1) + (10/9)*(1+np.sqrt(3/5))*np.cos(1+np.sqrt(3/5)))/2"
      ]
    },
    {
      "cell_type": "code",
      "execution_count": null,
      "metadata": {
        "id": "fyzQUh__yngk",
        "outputId": "0561f859-2668-4560-ea4c-c305738e84dc"
      },
      "outputs": [
        {
          "data": {
            "text/plain": [
              "0.40244801710422107"
            ]
          },
          "execution_count": 13,
          "metadata": {},
          "output_type": "execute_result"
        }
      ],
      "source": [
        "2*np.sin(2) + np.cos(2) - 1"
      ]
    },
    {
      "cell_type": "markdown",
      "metadata": {
        "id": "ZLOJ-r0iyngk"
      },
      "source": [
        "# 5\n",
        "\n",
        "Calcule un spline cuadrático $s(P,2)$ continuamente diferenciable en la partición $P := \\{-2, 0, 1, 6\\}$ del intervalo $[-2, 6]$ tal que\n",
        "\n",
        "$$s(-2) = s'(-2) = 0$$\n",
        "$$s(6) = s'(6) = 0$$\n",
        "\n",
        "### Spline Cuadrático\n",
        "\n",
        "Para 4 puntos tenemos 3 intervalos: $[t_1,t_2]$, $[t_2,t_3]$, $[t_3,t_4]$, así que el interpolante requerido es una función cúbica a trozos definida por 3 polinomios cuadráticos:\n",
        "\n",
        "$$p(t) = a_0 + a_1 t + a_2 t^2$$\n",
        "\n",
        "$$q(t) = b_0 + b_1 t + b_2 t^2$$\n",
        "\n",
        "$$r(t) = c_0 + c_1 t + c_2 t^2$$\n",
        "\n",
        "De modo que el sistema de ecuaciones a resolver es el siguiente\n",
        "\n",
        "$$Ax = \n",
        "\\begin{pmatrix}\n",
        "    1 & t_1 & t_1^2 & 0 & 0 & 0 & 0 & 0 & 0\\\\\n",
        "    1 & t_2 & t_2^2 & -1 & -t_2 & -t_2^2 & 0 & 0 & 0\\\\\n",
        "    0 & 0 & 0 & 1 & t_3 & t_3^2 & -1 & -t_3 & -t_3^2\\\\\n",
        "    0 & 0 & 0 & 0 & 0 & 0 & 1 & t_4 & t_4^2\\\\\n",
        "    0 & 1 & 2t_2 & 0 & -1 & -2t_2 & 0 & 0 & 0\\\\\n",
        "    0 & 0 & 0 & 0 & 1 & 2t_3 & 0 & -1 & -2t_3\\\\\n",
        "    0 & 1 & 2t_1 & 0 & 0 & 0 & 0 & 0 & 0\\\\\n",
        "    0 & 0 & 0 & 0 & 0 & 0 & 0 & 1 & 2t_4\\\\\n",
        "    0 & 0 & 0 & 0 & 0 & 0 & 0 & 0 & 1\\\\\n",
        "\\end{pmatrix}\n",
        "\\begin{pmatrix}\n",
        "    a_0 \\\\\n",
        "    a_1 \\\\\n",
        "    a_2 \\\\\n",
        "    b_0 \\\\\n",
        "    b_1 \\\\\n",
        "    b_2 \\\\\n",
        "    c_0 \\\\\n",
        "    c_1 \\\\\n",
        "    c_2 \\\\\n",
        "\\end{pmatrix}\n",
        "=\n",
        "\\begin{pmatrix}\n",
        "    0 \\\\\n",
        "    0 \\\\\n",
        "    0 \\\\\n",
        "    0 \\\\\n",
        "    0 \\\\\n",
        "    0 \\\\\n",
        "    0 \\\\\n",
        "    0 \\\\\n",
        "    1 \\\\\n",
        "\\end{pmatrix}\n",
        "= y$$\n",
        "\n",
        "donde sabemos de antemano que todo queda en términos de $c_2$, así que lo escogemos igual a $1$.\n",
        "\n",
        "$$c_0 = 36c_2, \\qquad c_1 = -12c_2$$\n",
        "\n",
        "$$a_2 = 5c_2, \\qquad b_2 = -15c_2$$\n",
        "\n",
        "$$a_0 = b_0 = a_1 = b_1 = 20c_2 = 4a_2$$"
      ]
    },
    {
      "cell_type": "code",
      "execution_count": null,
      "metadata": {
        "id": "1QDYQOPHyngl"
      },
      "outputs": [],
      "source": [
        "import numpy as np\n",
        "import numpy.linalg as la\n",
        "import matplotlib.pyplot as plt"
      ]
    },
    {
      "cell_type": "code",
      "execution_count": null,
      "metadata": {
        "id": "LZQ0rv9Pyngl"
      },
      "outputs": [],
      "source": [
        "def pol(t,c):\n",
        "    p = 0\n",
        "    for i in range(len(c)): #Solo funciona con len(c) y no con len(t), no sé por qué\n",
        "        p = p + c[i]*(t)**i\n",
        "    return p"
      ]
    },
    {
      "cell_type": "code",
      "execution_count": null,
      "metadata": {
        "id": "PJ42XyJMyngl"
      },
      "outputs": [],
      "source": [
        "def cuad_spline(t):\n",
        "    \n",
        "    A = np.zeros([9,9])\n",
        "\n",
        "    for i in range(1):\n",
        "\n",
        "        for j in range(3):\n",
        "            A[0,j] = t[i]**j\n",
        "            A[1,j] = t[i+1]**j\n",
        "            A[1,j+3] = -t[i+1]**j\n",
        "            A[2,j+3] = t[i+2]**j\n",
        "            A[2,j+6] = -t[i+2]**j\n",
        "            A[3,j+6] = t[i+3]**j\n",
        "        for j in range(2):\n",
        "            A[4,j+1] = (j+1)*t[i+1]**(j)\n",
        "            A[4,j+4] = -(j+1)*t[i+1]**(j)\n",
        "            A[5,j+4] = (j+1)*t[i+2]**(j)\n",
        "            A[5,j+7] = -(j+1)*t[i+2]**(j)\n",
        "        A[6,1] = 1\n",
        "        A[6,2] = 2*t[i]\n",
        "        A[7,7] = 1\n",
        "        A[7,8] = 2*t[i+3]\n",
        "        A[8,8] = 1\n",
        "        print(A)\n",
        "\n",
        "        y = np.zeros(9)\n",
        "        y[8] = 1\n",
        "\n",
        "        k = la.solve(A,y)\n",
        "        a = k[0:3]\n",
        "        b = k[3:6]\n",
        "        c = k[6:9]\n",
        "        x1 = np.linspace(t[i],t[i+1],51)\n",
        "        x2 = np.linspace(t[i+1],t[i+2],51)\n",
        "        x3 = np.linspace(t[i+2],t[i+3],51)\n",
        "        plt.plot(x1, pol(x1,a))\n",
        "        plt.plot(x2, pol(x2,b))\n",
        "        plt.plot(x3, pol(x3,c))\n",
        "        plt.title('Splines cuadráticos')\n",
        "        \n",
        "    s = [pol(t[0],a), pol(t[1],b), pol(t[2],b), pol(t[3],c)]\n",
        "    plt.plot(t, s, 'ko')\n",
        "    \n",
        "    return a,b,c"
      ]
    },
    {
      "cell_type": "code",
      "execution_count": null,
      "metadata": {
        "id": "D0v-uPaRyngl",
        "outputId": "9e9a485d-ffed-4355-fea0-6a307bc35dd9"
      },
      "outputs": [
        {
          "name": "stdout",
          "output_type": "stream",
          "text": [
            "[[ 1. -2.  4.  0.  0.  0.  0.  0.  0.]\n",
            " [ 1.  0.  0. -1.  0.  0.  0.  0.  0.]\n",
            " [ 0.  0.  0.  1.  1.  1. -1. -1. -1.]\n",
            " [ 0.  0.  0.  0.  0.  0.  1.  6. 36.]\n",
            " [ 0.  1.  0.  0. -1.  0.  0.  0.  0.]\n",
            " [ 0.  0.  0.  0.  1.  2.  0. -1. -2.]\n",
            " [ 0.  1. -4.  0.  0.  0.  0.  0.  0.]\n",
            " [ 0.  0.  0.  0.  0.  0.  0.  1. 12.]\n",
            " [ 0.  0.  0.  0.  0.  0.  0.  0.  1.]]\n"
          ]
        },
        {
          "data": {
            "text/plain": [
              "(array([20., 20.,  5.]), array([ 20.,  20., -15.]), array([ 36., -12.,   1.]))"
            ]
          },
          "execution_count": 108,
          "metadata": {},
          "output_type": "execute_result"
        },
        {
          "data": {
            "image/png": "[encoded data removed]",
            "text/plain": [
              "<Figure size 432x288 with 1 Axes>"
            ]
          },
          "metadata": {
            "needs_background": "light"
          },
          "output_type": "display_data"
        }
      ],
      "source": [
        "cuad_spline([-2,0,1,6])"
      ]
    },
    {
      "cell_type": "code",
      "execution_count": null,
      "metadata": {
        "id": "2T8Vc01Kyngl",
        "outputId": "9edd5cb6-aac2-4ac5-aca6-1612538b88be"
      },
      "outputs": [
        {
          "data": {
            "image/png": "[encoded data removed]",
            "text/plain": [
              "<Figure size 432x288 with 1 Axes>"
            ]
          },
          "metadata": {
            "needs_background": "light"
          },
          "output_type": "display_data"
        }
      ],
      "source": [
        "x1 = np.linspace(-2,0,51)\n",
        "x2 = np.linspace(0,1,51)\n",
        "x3 = np.linspace(1,6,51)\n",
        "c2 = 1\n",
        "a = [20*c2,20*c2,5*c2]\n",
        "b = [20*c2,20*c2,-15*c2]\n",
        "c = [36*c2,-12*c2,1*c2]\n",
        "plt.plot(x1, pol(x1,a))\n",
        "plt.plot(x2, pol(x2,b))\n",
        "plt.plot(x3, pol(x3,c))\n",
        "y1 = pol(-2,a)\n",
        "y2 = pol(0,b)\n",
        "y3 = pol(1,b)\n",
        "y4 = pol(6,c)\n",
        "plt.plot([-2,0,1,6], [y1,y2,y3,y4], 'ko')\n",
        "plt.grid(lw=0.3)"
      ]
    },
    {
      "cell_type": "markdown",
      "metadata": {
        "id": "0mGpsSI_yngm"
      },
      "source": [
        "# 6\n",
        "\n",
        "Sea $g \\in C[a,b]$ tal que $g(x) \\in [a,b]$ para todo $x \\in [a,b]$\n",
        "\n",
        "**a)** Pruebe que $g$ tiene al menos un punto fijo en $[a,b]$\n",
        "\n",
        "Como $g(x) \\in [a,b]$ entonces $g(a) \\geq a$ y $g(b) \\leq b$. Sea $f(x) = g(x) - x$, entonces $f(a) \\geq 0$ y $f(b) \\leq 0$, y como $g$ es continua entonces $f$ es continua y existe por lo menos un $\\xi \\in [a,b]$ tal que $f(\\xi) = 0$, i.e. $g(\\xi) = \\xi$ para algún $\\xi \\in [a,b]$, i.e. $\\xi$ es punto fijo.\n",
        "\n",
        "**b)** Suponga además que $g$ es diferenciable sobre $(a,b)$ y que existe una constante positiva $k < 1$ tal que\n",
        "\n",
        "$$|g'(x)| \\leq k \\quad \\forall\\ x \\in (a,b)$$\n",
        "\n",
        "Pruebe que $g$ tiene un único punto fijo sobre $[a,b]$\n",
        "\n",
        "Por el TVM, existe $c \\in (x,y) \\subset (a,b)$ tal que\n",
        "\n",
        "$$\\frac{|g(x)-g(y)|}{|x-y|} = |g'(c)| \\leq k < 1$$\n",
        "\n",
        "por lo tanto $$|g(x)-g(y)| < |x-y|$$\n",
        "\n",
        "Si $x$ y $y$ ambos fueran puntos fijos entonces $$|g(x)-g(y)| = |x-y|\\ ! $$\n",
        "\n",
        "por lo tanto $g$ tiene un único punto fijo en $[a,b]$"
      ]
    }
  ],
  "metadata": {
    "kernelspec": {
      "display_name": "Python 3",
      "language": "python",
      "name": "python3"
    },
    "language_info": {
      "codemirror_mode": {
        "name": "ipython",
        "version": 3
      },
      "file_extension": ".py",
      "mimetype": "text/x-python",
      "name": "python",
      "nbconvert_exporter": "python",
      "pygments_lexer": "ipython3",
      "version": "3.8.5"
    },
    "colab": {
      "provenance": [],
      "include_colab_link": true
    }
  },
  "nbformat": 4,
  "nbformat_minor": 0
}