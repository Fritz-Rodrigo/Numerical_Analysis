{
  "cells": [
    {
      "cell_type": "markdown",
      "metadata": {
        "id": "view-in-github",
        "colab_type": "text"
      },
      "source": [
        "<a href=\"https://colab.research.google.com/github/Fritz-Rodrigo/Numerical_Analysis/blob/main/2020-2_julio.ipynb\" target=\"_parent\"><img src=\"https://colab.research.google.com/assets/colab-badge.svg\" alt=\"Open In Colab\"/></a>"
      ]
    },
    {
      "cell_type": "markdown",
      "metadata": {
        "id": "JmErXA7Dy7VR"
      },
      "source": [
        "# 1\n",
        "\n",
        "We denote $fl(\\beta, p, L, U)$ the floating-point number system of base $\\beta$ with precision $p$ and exponent range $[L, U]$.\n",
        "\n",
        "**a)** By use of truncation, find the smallest positve element of the system $fl(10, 4, −9, 9)$ that satisfies\n",
        "\n",
        "$$x ⊕ \\text{float}(π) = x$$"
      ]
    },
    {
      "cell_type": "markdown",
      "source": [
        "To begin, $\\text{float}(\\pi) = 3.141$, then\n",
        "\n",
        "$$\\text{float}(10,000 + \\pi) = (1 + 3.141\\times10^{-4})\\times10^{4} = 10^4$$\n",
        "\n",
        "The next smaller number of the system is $9,999 = 9.999 \\times 10^3$, for which\n",
        "\n",
        "$$\\text{float}(9999 + \\pi) = (9.999 + 3.141 \\times 10^{-3})\\times10^{3} = \\text{float}(10.002 \\times 10^3) = 10.00 \\times 10^3 = 10,000$$\n",
        "\n",
        "i.e. $\\boxed{x=10^4}$ is the smallest number that satisfies the equation. This is equivalent to $\\boxed{\\beta^p}$"
      ],
      "metadata": {
        "id": "-62lIArt7lO_"
      }
    },
    {
      "cell_type": "code",
      "source": [
        "(9.999+3.141e-3)"
      ],
      "metadata": {
        "colab": {
          "base_uri": "https://localhost:8080/"
        },
        "id": "NsWJnMWACujE",
        "outputId": "a0cce67e-41c9-4ab3-f445-d1ff07696f19"
      },
      "execution_count": null,
      "outputs": [
        {
          "output_type": "execute_result",
          "data": {
            "text/plain": [
              "10.002141"
            ]
          },
          "metadata": {},
          "execution_count": 2
        }
      ]
    },
    {
      "cell_type": "markdown",
      "source": [
        "Since $$\\beta = 10,\\ p=4,\\ L=-9,\\ U=9$$\n",
        "\n",
        "there's a total of $2(\\beta-1)\\beta^{p-1}(U-L+1)+1 = 18(10^3)(19) + 1 = \\boxed{342,001}$ elements of the system,\n",
        "\n",
        "from $\\boxed{\\text{UFL} = \\beta^L = 10^{-9}}$\n",
        "\n",
        "to $\\beta^{U}(\\beta - \\epsilon_\\text{mach}) = \\beta^{U}(\\beta - \\beta^{1-p}) = 10^9(10 - 10^{-3}) = 9,999,000,000$ i.e. $\\boxed{\\text{OFL} = 9.999\\times10^9}$\n",
        "\n",
        "with $\\epsilon_\\text{mach} = \\beta^{1-p} = 10^{-3} = 0.001$"
      ],
      "metadata": {
        "id": "V_nxdvrt7dcA"
      }
    },
    {
      "cell_type": "markdown",
      "source": [
        "If we set $d_0 = 1$ how many numbers can we write?\n",
        "\n",
        "$2(10^3)(19) = 38,000$ the same for $d_0 = 2,\\dots,9$"
      ],
      "metadata": {
        "id": "EuJQxu656CPx"
      }
    },
    {
      "cell_type": "code",
      "execution_count": null,
      "metadata": {
        "id": "5KKoMoYny7VV",
        "outputId": "1acd03fa-ae88-44b8-ad45-fd60054a7ec3"
      },
      "outputs": [
        {
          "data": {
            "text/plain": [
              "342000"
            ]
          },
          "execution_count": 57,
          "metadata": {},
          "output_type": "execute_result"
        }
      ],
      "source": [
        "38000*9"
      ]
    },
    {
      "cell_type": "markdown",
      "source": [
        "The mantissa takes the values $1.000, 1.001, \\dots, 9.998, 9.999$,\n",
        "\n",
        "those are 9999 numbers for each $10^E$ with $-9 \\leq E \\leq 9$"
      ],
      "metadata": {
        "id": "jvuIWkBI6uOc"
      }
    },
    {
      "cell_type": "code",
      "source": [
        "count = []\n",
        "n = 1\n",
        "for E in range(0,2): #range(-9,10):\n",
        "  # for i in range(1,4):\n",
        "    for j in range(10000):\n",
        "      # count.append(m*10**E)\n",
        "      # k = i + j/1000\n",
        "      k = j/1000\n",
        "      # print(k)\n",
        "      count.append(k)\n",
        "# print(k)\n",
        "len(count), count[-10:]"
      ],
      "metadata": {
        "colab": {
          "base_uri": "https://localhost:8080/"
        },
        "id": "5a8VBRjm6xcQ",
        "outputId": "767248d4-02b1-4dd6-dfd7-1ae3f4ec21e5"
      },
      "execution_count": null,
      "outputs": [
        {
          "output_type": "execute_result",
          "data": {
            "text/plain": [
              "(20000, [9.99, 9.991, 9.992, 9.993, 9.994, 9.995, 9.996, 9.997, 9.998, 9.999])"
            ]
          },
          "metadata": {},
          "execution_count": 45
        }
      ]
    },
    {
      "cell_type": "code",
      "source": [
        "2/1000"
      ],
      "metadata": {
        "colab": {
          "base_uri": "https://localhost:8080/"
        },
        "id": "4zMnEoxSETUq",
        "outputId": "2ae046b6-635e-492f-fc06-3afa6d208bb4"
      },
      "execution_count": null,
      "outputs": [
        {
          "output_type": "execute_result",
          "data": {
            "text/plain": [
              "0.002"
            ]
          },
          "metadata": {},
          "execution_count": 4
        }
      ]
    },
    {
      "cell_type": "markdown",
      "metadata": {
        "id": "0NVPeZ55y7VY"
      },
      "source": [
        "**b)** How many numbers of the system $fl(10, 5, −5, 7)$ are greater than 1000?\n",
        "\n",
        "There are $2(\\beta-1)\\beta^{p-1}(U-L+1)+1 = 18(10^4)(13) + 1 = 2,340,001$ elements in the system,\n",
        "\n",
        "from $\\beta^L = 10^{-5}$ \n",
        "\n",
        "to $\\beta^{U+1}(1 - \\beta^{-p}) = 10^8(1 - 10^{-5}) = 99,999,000 = 9.9999\\times10^7$"
      ]
    },
    {
      "cell_type": "code",
      "execution_count": null,
      "metadata": {
        "id": "2z_jVgquy7VY",
        "outputId": "5b426a9a-c33c-4e34-9c0f-3c3414a756f1"
      },
      "outputs": [
        {
          "data": {
            "text/plain": [
              "2340001"
            ]
          },
          "execution_count": 43,
          "metadata": {},
          "output_type": "execute_result"
        }
      ],
      "source": [
        "18*(10**4)*13 + 1"
      ]
    },
    {
      "cell_type": "code",
      "execution_count": null,
      "metadata": {
        "id": "uJwCo8Aiy7VZ",
        "outputId": "a92f2f85-6c14-4223-c643-5003bcdd1562"
      },
      "outputs": [
        {
          "data": {
            "text/plain": [
              "99999000.0"
            ]
          },
          "execution_count": 42,
          "metadata": {},
          "output_type": "execute_result"
        }
      ],
      "source": [
        "(10**8)*(1-10**-5)"
      ]
    },
    {
      "cell_type": "markdown",
      "source": [
        "Let's consider a new floating-point system restricted to the positives and that's begins with 1000, i.e. $fl(10, 5, 3, 7)$, $L=3$.\n",
        "\n",
        "In this new system the UFL is $10^3 = 1000$, but the OFL is the same.\n",
        "\n",
        "We don't need neither the negatives nor zero, so we don't need neither to muitiply by 2 nor to sum 1.\n",
        "\n",
        "If we were to add the negatives, we'll see a jump like this:\n",
        "\n",
        "$$-99,999,000, ... ,-1002,-1001,-1000,\\quad 1000,1001,1002, ... 99,999,000$$\n",
        "\n",
        "And there are $\\boxed{9(10^4)(5) = 450,000}$ elements in this new system, which are exactly the elements greater than 1000 in the original system."
      ],
      "metadata": {
        "id": "NkNDLH2GXZpc"
      }
    },
    {
      "cell_type": "code",
      "source": [
        "9*(10**4)*5"
      ],
      "metadata": {
        "colab": {
          "base_uri": "https://localhost:8080/"
        },
        "id": "TMVNNUfj-Rdw",
        "outputId": "f1a5ad29-1651-46c8-9963-ea94b88011dd"
      },
      "execution_count": null,
      "outputs": [
        {
          "output_type": "execute_result",
          "data": {
            "text/plain": [
              "450000"
            ]
          },
          "metadata": {},
          "execution_count": 1
        }
      ]
    },
    {
      "cell_type": "markdown",
      "metadata": {
        "id": "axq-hC-Ey7Va"
      },
      "source": [
        "**c)** Justifique por qué $\\dfrac{1}{5}$ no puede representarse exactamente en un sistema binario\n",
        "de precisión finita.\n",
        "\n",
        "Porque $1/5 = 0.2$ no tiene una expansión binaria finita.\n",
        "\n",
        "Para pasar a binario:\n",
        "$$\\begin{align}\n",
        "(0.2)2 = 0.4 = 0 + 0.4 \\\\\n",
        "(0.4)2 = 0.8 = 0 + 0.8 \\\\\n",
        "(0.8)2 = 1.6 = 1 + 0.6 \\\\\n",
        "(0.6)2 = 1.2 = 1 + 0.2 \\\\\n",
        "\\end{align}$$\n",
        "\n",
        "así que se tiene un binario periódico con periodo 0011 en los decimales, i.e.\n",
        "\n",
        "$$0.0011 0011 0011 \\dots$$"
      ]
    },
    {
      "cell_type": "code",
      "source": [
        "0.001100110011"
      ],
      "metadata": {
        "id": "Zn_Sd_kCaanB"
      },
      "execution_count": null,
      "outputs": []
    },
    {
      "cell_type": "markdown",
      "metadata": {
        "id": "bGKJZkfly7Va"
      },
      "source": [
        "## 2 Álgebra Lineal Numérica\n",
        "\n",
        "**a)** Sea $H$ una matriz de Householder $n \\times n$. Pruebe que\n",
        "$$\\hat{H} =\n",
        "\\begin{bmatrix}\n",
        "I_{m \\times m} & O_{m \\times n} \\\\\n",
        "O_{n \\times m} & H\n",
        "\\end{bmatrix}$$\n",
        "es una matriz de Householder.\n",
        "\n",
        "P.d. $$\\hat{H} = I - 2\\frac{uu^T}{u^Tu}$$\n",
        "para algún vector $u \\in \\mathbb{R}^{n+m}$, dado que\n",
        "$$H = I_{n \\times n} - 2\\frac{vv^T}{v^Tv}$$\n",
        "con $v \\in \\mathbb{R}^n$\n",
        "\n",
        "Si tomamos al vector de Householder como el $$\\boxed{u = (0_1, \\dots, 0_m, v_1, \\dots, v_n)^T}$$\n",
        "entonces $$v^Tv = \\| v \\|^2 = \\| u \\|^2 = u^Tu$$\n",
        "y $$(uu^T)_{ij} = u_iu_j = 0 \\quad \\text{si} \\quad i,j \\leq m$$\n",
        "\n",
        "esto es\n",
        "$$uu^T =\n",
        "\\begin{bmatrix}\n",
        "O_{m \\times m} & O_{m \\times n} \\\\\n",
        "O_{n \\times m} & vv^T\n",
        "\\end{bmatrix}$$\n",
        "\n",
        "por lo tanto\n",
        "$$\n",
        "\\hat{H}\n",
        "= \n",
        "\\begin{bmatrix}\n",
        "I_{m \\times m} & O_{m \\times n} \\\\\n",
        "O_{n \\times m} & H\n",
        "\\end{bmatrix}\n",
        "=\n",
        "\\begin{bmatrix}\n",
        "I_{m \\times m} & O_{m \\times n} \\\\\n",
        "O_{n \\times m} & I_{n \\times n} - 2\\dfrac{vv^T}{v^Tv}\n",
        "\\end{bmatrix}\n",
        "= I - 2\\frac{uu^T}{u^Tu}\n",
        "$$\n",
        "\n",
        "$ $\n",
        "\n",
        "**b)** Considere las rectas\n",
        "$$0.641x + 0.242y = 0.883$$\n",
        "\n",
        "$$0.321x + 0.121y = 0.442$$\n",
        "\n",
        "Halle el punto de intersección usando precisión de tres dígitos con redondeo al más cercano y compárelo con la solución exacta.\n",
        "Dé una interpretación geométrica de la sensibilidad del sistema.\n",
        "\n",
        "La solución exacta se encuentra restando 2 veces la segunda ecuación menos la primera, $0.001x = 0.001$, por lo tanto $x = 1$ y $y = 1$\n",
        "\n",
        "Con precisión de 3 dígitos con redondeo, se obtiene que\n",
        "\n",
        "$$y = \\frac{0.883 - 0.641x}{0.242} = 3.65 - 2.65x$$\n",
        "\n",
        "$$y = \\frac{0.442 - 0.321x}{0.121} = 3.65 - 2.65x$$\n",
        "\n",
        "es decir, se obtiene **la misma recta** y todos sus puntos se intersecan, en lugar de solo uno.\n",
        "\n",
        "Con 4 dígitos se obtiene\n",
        "\n",
        "$$y = \\frac{0.883 - 0.641x}{0.242} = 3.649 - 2.649x$$\n",
        "\n",
        "$$y = \\frac{0.442 - 0.321x}{0.121} = 3.653 - 2.653x$$\n",
        "\n",
        "entonces $0.004x = 0.004$, esto es $x=1, y=1$\n",
        "\n",
        "Tenemos que el \n",
        "$$\\text{número de condición} \\approx \\left| \\dfrac{xf'(x)}{f(x)} \\right| = \\left| \\dfrac{- 2.65x}{3.65 - 2.65x} \\right|$$\n",
        "\n",
        "que es igual a $2.65$ en $x=1$. Como el número de condición es mayor a uno, tenemos una sensibilidad alta en $x=1$. Con las rectas originales se obtiene un número de condición de $0.641$ y $0.321$, respectivamente, en $x=1$."
      ]
    },
    {
      "cell_type": "code",
      "execution_count": null,
      "metadata": {
        "id": "j8bM3OsKy7Vb",
        "outputId": "5926a90b-32c7-46b3-8d32-a74434e77858"
      },
      "outputs": [
        {
          "data": {
            "text/plain": [
              "2.6487603305785123"
            ]
          },
          "execution_count": 139,
          "metadata": {},
          "output_type": "execute_result"
        }
      ],
      "source": [
        "0.641/(0.883-0.641)"
      ]
    },
    {
      "cell_type": "code",
      "execution_count": null,
      "metadata": {
        "id": "4BrcG6rby7Vc",
        "outputId": "0ba5b63e-9344-450d-eeaa-74575c79d9ba"
      },
      "outputs": [
        {
          "data": {
            "text/plain": [
              "2.6528925619834713"
            ]
          },
          "execution_count": 136,
          "metadata": {},
          "output_type": "execute_result"
        }
      ],
      "source": [
        "0.321/(0.442-0.321)"
      ]
    },
    {
      "cell_type": "code",
      "execution_count": null,
      "metadata": {
        "id": "RDbCUzTGy7Vc"
      },
      "outputs": [],
      "source": [
        "def cond(x):\n",
        "    return 2.65*x/abs(3.65 - 2.65*x)"
      ]
    },
    {
      "cell_type": "code",
      "execution_count": null,
      "metadata": {
        "id": "POTRPMxey7Vc"
      },
      "outputs": [],
      "source": [
        "import matplotlib.pyplot as plt\n",
        "import numpy as np"
      ]
    },
    {
      "cell_type": "code",
      "execution_count": null,
      "metadata": {
        "id": "yuiSIYuHy7Vc",
        "outputId": "6a536436-846b-4183-d79b-1a2194eff11b"
      },
      "outputs": [
        {
          "data": {
            "image/png": "[encoded data removed]",
            "text/plain": [
              "<Figure size 432x288 with 1 Axes>"
            ]
          },
          "metadata": {
            "needs_background": "light"
          },
          "output_type": "display_data"
        }
      ],
      "source": [
        "x = np.linspace(0,1.3,201)\n",
        "plt.plot(x,cond(x),'-')\n",
        "plt.show()"
      ]
    },
    {
      "cell_type": "code",
      "execution_count": null,
      "metadata": {
        "id": "G6TuBXQBy7Vd",
        "outputId": "e55c71de-0ff5-4544-c0b5-5747e589b5e2"
      },
      "outputs": [
        {
          "data": {
            "text/plain": [
              "1.3773584905660377"
            ]
          },
          "execution_count": 132,
          "metadata": {},
          "output_type": "execute_result"
        }
      ],
      "source": [
        "3.65/2.65"
      ]
    },
    {
      "cell_type": "code",
      "execution_count": null,
      "metadata": {
        "id": "uL9PWKgRy7Vd",
        "outputId": "b92b0496-0d58-4225-ae51-6d852a472ade"
      },
      "outputs": [
        {
          "data": {
            "image/png": "[encoded data removed]",
            "text/plain": [
              "<Figure size 432x288 with 1 Axes>"
            ]
          },
          "metadata": {
            "needs_background": "light"
          },
          "output_type": "display_data"
        }
      ],
      "source": [
        "x = np.linspace(0,3,201)\n",
        "plt.plot(x,cond(x),'-')\n",
        "plt.show()"
      ]
    },
    {
      "cell_type": "code",
      "execution_count": null,
      "metadata": {
        "id": "EHptkTu4y7Vd",
        "outputId": "04fd670d-4254-498e-9cb4-37298d910e67"
      },
      "outputs": [
        {
          "data": {
            "text/plain": [
              "3.6487603305785123"
            ]
          },
          "execution_count": 1,
          "metadata": {},
          "output_type": "execute_result"
        }
      ],
      "source": [
        "0.883/0.242"
      ]
    },
    {
      "cell_type": "code",
      "execution_count": null,
      "metadata": {
        "id": "ximR6DJQy7Vd",
        "outputId": "d3fd3325-0296-41bb-aaab-8b7829b72f47"
      },
      "outputs": [
        {
          "data": {
            "text/plain": [
              "2.6487603305785123"
            ]
          },
          "execution_count": 2,
          "metadata": {},
          "output_type": "execute_result"
        }
      ],
      "source": [
        "0.641/0.242"
      ]
    },
    {
      "cell_type": "code",
      "execution_count": null,
      "metadata": {
        "id": "ZIGChoPty7Ve",
        "outputId": "9841f00d-9535-417b-bd34-cea57fde4eef"
      },
      "outputs": [
        {
          "data": {
            "text/plain": [
              "3.6528925619834713"
            ]
          },
          "execution_count": 3,
          "metadata": {},
          "output_type": "execute_result"
        }
      ],
      "source": [
        "0.442/0.121"
      ]
    },
    {
      "cell_type": "code",
      "execution_count": null,
      "metadata": {
        "id": "p9OYoPCly7Ve",
        "outputId": "9bce1a98-37a1-45e7-ac2f-01071cbab9a5"
      },
      "outputs": [
        {
          "data": {
            "text/plain": [
              "2.6528925619834713"
            ]
          },
          "execution_count": 4,
          "metadata": {},
          "output_type": "execute_result"
        }
      ],
      "source": [
        "0.321/0.121"
      ]
    },
    {
      "cell_type": "code",
      "execution_count": null,
      "metadata": {
        "id": "21V3BNq9y7Ve",
        "outputId": "0a08e5d2-e9fd-40bb-cbdd-b5dfb0481d44"
      },
      "outputs": [
        {
          "data": {
            "text/plain": [
              "-1.6528925619834713"
            ]
          },
          "execution_count": 25,
          "metadata": {},
          "output_type": "execute_result"
        }
      ],
      "source": [
        "0.442/0.121 - 2*(0.321/0.121)"
      ]
    },
    {
      "cell_type": "code",
      "execution_count": null,
      "metadata": {
        "id": "9P8IGGV1y7Ve",
        "outputId": "0d62d8df-40ed-4bdf-c452-3a1d62023a2b"
      },
      "outputs": [
        {
          "data": {
            "image/png": "[encoded data removed]",
            "text/plain": [
              "<Figure size 432x288 with 1 Axes>"
            ]
          },
          "metadata": {
            "needs_background": "light"
          },
          "output_type": "display_data"
        }
      ],
      "source": [
        "x = np.linspace(0,2,11)\n",
        "plt.plot(x, (0.442 - 0.321*x)/0.121, label='$y = \\dfrac{0.442 - 0.321x}{0.121}$')\n",
        "plt.plot(x, (0.883 - 0.641*x)/0.242, '--', label='$y = \\dfrac{0.883 - 0.641x}{0.242}$')\n",
        "plt.plot(1,1,'o',label='$(1,1)$')\n",
        "plt.plot(x, 3.65 - 2.65*x, '.', label='$y = 3.65 - 2.65x$')\n",
        "#plt.plot([0,2],[3.65,3.65],'k',lw=0.3)\n",
        "#plt.plot([0,2],[-1.65,-1.65],'k',lw=0.3)\n",
        "plt.xticks([0,1,2])\n",
        "plt.yticks([-1.65,1,3.65],[-1.65,1,3.65])\n",
        "plt.xlim(0,2)\n",
        "plt.legend()\n",
        "plt.grid(lw=0.3)"
      ]
    },
    {
      "cell_type": "markdown",
      "metadata": {
        "id": "qAQyYedWy7Ve"
      },
      "source": [
        "## 3 Problema de Cuadrados Mínimos\n",
        "Dados los puntos $P_i = (x_i, y_i),\\ i = 1, \\dots , n$ queremos calcular los valores de los\n",
        "parámetros $\\beta_0, \\beta_1 \\in \\mathbb{R}$ de la recta $l$:\n",
        "\n",
        "$$y = \\beta_0 + \\beta_1x$$\n",
        "\n",
        "de modo que la suma de los cuadrados de las distancias ortogonales de los puntos $P_i$ a la recta sea mínima.\n",
        "\n",
        "**a)** Halle una expresión para la función objetivo $f(\\mathbf{\\beta})$ en términos del residual\n",
        "\n",
        "$$r(\\mathbf{\\beta}) = \\mathbf{y} - \\beta_0\\mathbf{1} - \\beta_1 \\mathbf{x}$$\n",
        "\n",
        "donde $\\mathbf{\\beta} = [\\beta_0, \\beta_1]^T$, $\\mathbf{1}$ es el vector de unos y $\\mathbf{x}$, $\\mathbf{y}$ son vectores con elementos $x_i$, $y_i$, respectivamente.\n",
        "\n",
        "**b)** Pruebe que los valores óptimos de los parámetros $\\beta_0$ y $\\beta_1$ satisfacen la ecuación\n",
        "\n",
        "$$\\beta_0 = \\text{Promedio}(y_i) - \\beta_1\\text{Promedio}(x_i)$$\n",
        "\n",
        "**c)** Calcule los valores óptimos de los parámetros $\\beta_0$ y $\\beta_1$ de la recta $l$ que ajusta\n",
        "los puntos $P_1 = (-3,1)$, $P_2 = (-1,1)$ y $P_3 = (1,5)$ con la distancia ortogonal y\n",
        "compare su resultado con la solución de la regresión lineal correspondiente."
      ]
    },
    {
      "cell_type": "markdown",
      "metadata": {
        "id": "zBKl1SBHy7Vf"
      },
      "source": [
        "$ $\n",
        "\n",
        "El sistema que queremos resolver es el\n",
        "$$\n",
        "A\\mathbf{\\beta} = \\begin{bmatrix}\n",
        "1 & x_1 \\\\\n",
        "\\vdots & \\vdots \\\\\n",
        "1 & x_n\n",
        "\\end{bmatrix}\n",
        "\\begin{bmatrix}\n",
        "    \\beta_0 \\\\\n",
        "    \\beta_1\n",
        "\\end{bmatrix}\n",
        "\\simeq\n",
        "\\begin{bmatrix}\n",
        "    y_1 \\\\\n",
        "    \\vdots \\\\\n",
        "    y_n\n",
        "\\end{bmatrix} = \\mathbf{y}\n",
        "$$\n",
        "\n",
        "con\n",
        "$$r(\\mathbf{\\beta}) = \\mathbf{y} - A\\beta = \\mathbf{y} - \\beta_0\\mathbf{1} - \\beta_1 \\mathbf{x}$$\n",
        "\n",
        "$ $\n",
        "\n",
        "La función objetivo $f(\\mathbf{\\beta})$ se define como el cuadrado de la norma Euclideana del vector residual:\n",
        "\n",
        "$$\\boxed{f(\\mathbf{\\beta}) = \\| r(\\mathbf{\\beta}) \\|^2 = r(\\mathbf{\\beta})^Tr(\\mathbf{\\beta})} = (y - A\\beta)^T(y - A\\beta) = y^Ty - 2\\beta^TA^Ty + \\beta^TA^TA\\beta$$\n",
        "\n",
        "$$= (\\mathbf{y} - \\beta_0\\mathbf{1} - \\beta_1 \\mathbf{x})^T(\\mathbf{y} - \\beta_0\\mathbf{1} - \\beta_1 \\mathbf{x})\n",
        "= \\mathbf{y}^T\\mathbf{y} - 2(\\beta_0\\mathbf{1} - \\beta_1 \\mathbf{x})^T\\mathbf{y} + (\\beta_0\\mathbf{1} - \\beta_1 \\mathbf{x})^T(\\beta_0\\mathbf{1} - \\beta_1 \\mathbf{x})$$\n",
        "\n",
        "$ $\n",
        "\n",
        "Una condición necesaria para un mínimo de $f(\\beta)$ es que $\\beta$ sea un punto crítico, donde el vector gradiente debe ser cero:\n",
        "\n",
        "$$\\nabla f(\\beta) = 2A^TA\\beta - 2A^Ty = 0$$\n",
        "\n",
        "así que cualquier vector $\\beta$ que minimice a $f(\\beta)$ debe satisfacer el sistema\n",
        "\n",
        "$$A^TA\\beta = A^Ty$$\n",
        "\n",
        "$ $\n",
        "\n",
        "$$A^TA\\mathbf{\\beta} = \n",
        "\\begin{bmatrix}\n",
        "1 & \\cdots & 1 \\\\\n",
        "x_1 & \\cdots & x_n\n",
        "\\end{bmatrix}\n",
        "\\begin{bmatrix}\n",
        "1 & x_1 \\\\\n",
        "\\vdots & \\vdots \\\\\n",
        "1 & x_n\n",
        "\\end{bmatrix}\n",
        "\\begin{bmatrix}\n",
        "    \\beta_0 \\\\\n",
        "    \\beta_1\n",
        "\\end{bmatrix}\n",
        "=\n",
        "\\begin{bmatrix}\n",
        "1 & \\cdots & 1 \\\\\n",
        "x_1 & \\cdots & x_n\n",
        "\\end{bmatrix}\n",
        "\\begin{bmatrix}\n",
        "    y_1 \\\\\n",
        "    \\vdots \\\\\n",
        "    y_n\n",
        "\\end{bmatrix}\n",
        "= A^T\\mathbf{y}$$\n",
        "\n",
        "$ $\n",
        "\n",
        "$$A^TA\\mathbf{\\beta} = \n",
        "\\begin{bmatrix}\n",
        "n\\beta_0 + \\beta_1\\sum x_i \\\\\n",
        "\\beta_0\\sum x_i + \\beta_1\\sum x_i^2\n",
        "\\end{bmatrix}\n",
        "=\n",
        "\\begin{bmatrix}\n",
        "\\sum y_i \\\\\n",
        "\\sum x_i y_i\n",
        "\\end{bmatrix}\n",
        "= A^T\\mathbf{y}$$\n",
        "\n",
        "por lo tanto\n",
        "\n",
        "$$\\boxed{\\beta_0 = \\frac{\\sum y_i - \\beta_1\\sum x_i}{n} = \\bar{y} - \\beta_1\\bar{x}}$$\n",
        "\n",
        "$$\\beta_0 = \\frac{\\sum x_i y_i - \\beta_1\\sum x_i^2}{\\sum x_i}$$\n",
        "\n",
        "$ $\n",
        "\n",
        "La recta que ajusta los puntos $P_1 = (-3,1)$, $P_2 = (-1,1)$ y $P_3 = (1,5)$ se obtiene con las ecuaciones anteriores\n",
        "\n",
        "$$\\beta_0 = \\frac{7 + 3\\beta_1}{3}$$\n",
        "\n",
        "$$\\beta_0 = \\frac{1 - 11\\beta_1}{-3} = \\frac{11\\beta_1 - 1}{3}$$\n",
        "\n",
        "por lo tanto $$\\beta_1 = 1, \\qquad \\beta_0 = \\dfrac{10}{3}$$"
      ]
    },
    {
      "cell_type": "code",
      "execution_count": null,
      "metadata": {
        "id": "hyNpqDzCy7Vf"
      },
      "outputs": [],
      "source": [
        "import matplotlib.pyplot as plt\n",
        "import numpy as np"
      ]
    },
    {
      "cell_type": "code",
      "execution_count": null,
      "metadata": {
        "id": "fIG66_cPy7Vf",
        "outputId": "bab74b19-580a-43d6-94ed-54c9c364a112"
      },
      "outputs": [
        {
          "data": {
            "image/png": "[encoded data removed]",
            "text/plain": [
              "<Figure size 432x288 with 1 Axes>"
            ]
          },
          "metadata": {
            "needs_background": "light"
          },
          "output_type": "display_data"
        }
      ],
      "source": [
        "x = np.linspace(-3,1,11)\n",
        "plt.plot(x, 10/3 + x)\n",
        "plt.plot([-3,-1,1], [1,1,5], 'o')\n",
        "plt.xticks(range(-3,2))\n",
        "plt.show()"
      ]
    },
    {
      "cell_type": "markdown",
      "metadata": {
        "id": "i4H1uhK1y7Vg"
      },
      "source": [
        "# 4\n",
        "\n",
        "Sea $f$ una función diferenciable sobre el intervalo finito $[a,b]$. Determine\n",
        "los pesos $w_i$ de la regla de cuadratura\n",
        "\n",
        "$$\\int_a^b f(x)\\ dx \\approx w_0 f(a) + w_1 f(b) + w_2 f'(a) + w_3 f'(b)$$\n",
        "\n",
        "de modo que sea exacta para polinomios del grado más alto posible.\n",
        "\n",
        "$$\\begin{align}\n",
        "w_0 + w_1 & = \\int_a^b dx = b-a \\\\\\\\\n",
        "w_0 x_0 + w_1 x_1 + w_2 + w_3 & = \\int_a^b x\\ dx = \\frac{b^2 - a^2}{2} \\\\\\\\\n",
        "w_0 x_0^2 + w_1 x_1^2 + 2w_2 x_2 + 2w_3 x_3 & = \\int_a^b x^2\\ dx = \\frac{b^3 - a^3}{3} \\\\\\\\\n",
        "w_0 x_0^3 + w_1 x_1^3 + 3w_2 x_2^2 + 3w_3 x_3^2 & = \\int_a^b x^3\\ dx = \\frac{b^4 - a^4}{4}\n",
        "\\end{align}$$\n",
        "\n",
        "El sistema matricial es\n",
        "$$\n",
        "\\left(\n",
        "\\begin{array}{cccc|c}\n",
        "1 & 1 & 0 & 0 & b-a \\\\\n",
        "a & b & 1 & 1 & (b^2 - a^2)/2 \\\\\n",
        "a^2 & b^2 & 2a & 2b & (b^3 - a^3)/3 \\\\\n",
        "a^3 & b^3 & 3a^2 & 3b^2 & (b^4 - a^4)/4\n",
        "\\end{array}\n",
        "\\right)\n",
        "\\sim\n",
        "\\left(\n",
        "\\begin{array}{cccc|c}\n",
        "1 & 1 & 0 & 0 & b-a \\\\\n",
        "0 & b-a & 1 & 1 & (b - a)^2/2 \\\\\n",
        "0 & b^2-a^2 & 2a & 2b & (b^3 - 3ba^2 + 2a^3)/3 \\\\\n",
        "0 & b^3-a^3 & 3a^2 & 3b^2 & (b^4 - 4ba^3 + 3a^4)/4\n",
        "\\end{array}\n",
        "\\right)\n",
        "$$\n",
        "\n",
        "$$\n",
        "\\sim\n",
        "\\left(\n",
        "\\begin{array}{cccc|c}\n",
        "1 & 1 & 0 & 0 & b-a \\\\\n",
        "0 & b-a & 1 & 1 & (b - a)^2/2 \\\\\n",
        "0 & 0 & b-a & a-b & (b - a)^3/6 \\\\\n",
        "0 & 0 & b^2 + ba - 2a^2 & a^2 + ab - 2b^2 & (b^4 - 2b^3a + 2ba^3 - a^4)/4\n",
        "\\end{array}\n",
        "\\right)\n",
        "$$\n",
        "\n",
        "pues $$b^3 - a^3 = (b-a)(b^2 + ba + a^2)$$\n",
        "y $$(b^2 + ba + a^2)\\frac{(b-a)^2}{2} - \\frac{(b^4 - 4ba^3 + 3a^4)}{4}\n",
        "= \\dfrac{2(b^4 - ba^3 - b^3a + a^4) - b^4 + 4ba^3 - 3a^4}{4} = \\dfrac{b^4 - 2b^3a + 2ba^3 - a^4}{4}$$\n",
        "\n",
        "Como $$(2a + b)(b - a) = b^2 + ba - 2a^2$$\n",
        "\n",
        "entonces\n",
        "$$\n",
        "\\sim\n",
        "\\left(\n",
        "\\begin{array}{cccc|c}\n",
        "1 & 1 & 0 & 0 & b-a \\\\\n",
        "0 & b-a & 1 & 1 & (b - a)^2/2 \\\\\n",
        "0 & 0 & b-a & -(b-a) & (b - a)^3/6 \\\\\n",
        "0 & 0 & 0 & (b-a)^2 & -(b - a)^4/12\n",
        "\\end{array}\n",
        "\\right)\n",
        "$$\n",
        "\n",
        "pues\n",
        "\n",
        "$$\\begin{align}\n",
        "(2a+b)\\frac{(b-a)^3}{6} - \\dfrac{b^4 - 2b^3a + 2ba^3 - a^4}{4} & = \\frac{2b^4 - 2b^3a - 6b^2a^2 + 10ba^3 - 4a^4 - 3(b^4 - 2b^3a + 2ba^3 - a^4)}{12} \\\\\\\\\n",
        "& = \\frac{-b^4 + 4b^3a - 6b^2a^2 + 4ba^3 - a^4}{12} = \\frac{(b-a)^4}{12}\n",
        "\\end{align}$$\n",
        "\n",
        "Por lo tanto\n",
        "\n",
        "$$\\boxed{w_0 = \\frac{b-a}{2} = w_1} \\qquad \\qquad \\boxed{w_2 = \\frac{(b-a)^2}{12} = -w_3}$$\n",
        "\n",
        "Por ejemplo, calculemos $$\\int_1^2 x\\cos x\\ dx = \\big[x\\sin x + \\cos x\\big]_1^2$$\n",
        "\n",
        "$$\\approx w_0 \\cos(1) + 2w_1\\cos(2) + w_2\\big[\\cos(1) - \\sin(1)\\big] + w_3\\big[\\cos(2) - 2\\sin(2)\\big]$$\n",
        "\n",
        "$$= \\frac{1}{2}\\cos(1) + \\cos(2) + \\frac{1}{12}\\big[\\cos(1) - \\sin(1) - \\cos(2) + 2\\sin(2)\\big]$$"
      ]
    },
    {
      "cell_type": "code",
      "execution_count": null,
      "metadata": {
        "id": "jEDm8z8Wy7Vg"
      },
      "outputs": [],
      "source": [
        "import numpy as np\n",
        "import matplotlib.pyplot as plt"
      ]
    },
    {
      "cell_type": "code",
      "execution_count": null,
      "metadata": {
        "id": "j_iqRr67y7Vg",
        "outputId": "0a603b9f-f37a-49e4-cf16-5055a13f72cd"
      },
      "outputs": [
        {
          "data": {
            "image/png": "[encoded data removed]",
            "text/plain": [
              "<Figure size 432x288 with 1 Axes>"
            ]
          },
          "metadata": {
            "needs_background": "light"
          },
          "output_type": "display_data"
        }
      ],
      "source": [
        "x = np.linspace(-6*np.pi,6*np.pi,301)\n",
        "plt.plot(x, x*np.cos(x))\n",
        "#plt.axhline(y=-0.05, color='k', lw=0.3)\n",
        "#plt.axvline(x=0.07, color='k', lw=0.3)\n",
        "plt.show()"
      ]
    },
    {
      "cell_type": "code",
      "execution_count": null,
      "metadata": {
        "id": "7tJWiooQy7Vg",
        "outputId": "07414307-98fe-4177-be13-e2ce44ab6ab2"
      },
      "outputs": [
        {
          "data": {
            "image/png": "[encoded data removed]",
            "text/plain": [
              "<Figure size 432x288 with 1 Axes>"
            ]
          },
          "metadata": {
            "needs_background": "light"
          },
          "output_type": "display_data"
        }
      ],
      "source": [
        "x = np.linspace(0,1,51)\n",
        "plt.plot(x, x*np.cos(x))\n",
        "plt.xlim(0,1)\n",
        "plt.ylim(0,0.6)\n",
        "plt.show()"
      ]
    },
    {
      "cell_type": "code",
      "execution_count": null,
      "metadata": {
        "id": "HwxTF53Ry7Vh",
        "outputId": "8234c575-b422-4339-84ea-504b7d39f8eb"
      },
      "outputs": [
        {
          "data": {
            "text/plain": [
              "0.020674726428184798"
            ]
          },
          "execution_count": 88,
          "metadata": {},
          "output_type": "execute_result"
        }
      ],
      "source": [
        "# de 1 a 2\n",
        "2*np.sin(2) - np.sin(1) + np.cos(2) - np.cos(1)"
      ]
    },
    {
      "cell_type": "code",
      "execution_count": null,
      "metadata": {
        "id": "QLSrfD_8y7Vh",
        "outputId": "ece80275-91d5-4d09-d148-841119420324"
      },
      "outputs": [
        {
          "data": {
            "text/plain": [
              "0.38177329067603627"
            ]
          },
          "execution_count": 67,
          "metadata": {},
          "output_type": "execute_result"
        }
      ],
      "source": [
        "# de 0 a 1\n",
        "np.sin(1) + np.cos(1) - np.cos(0)"
      ]
    },
    {
      "cell_type": "code",
      "execution_count": null,
      "metadata": {
        "id": "c3hfc-lby7Vh",
        "outputId": "2f61cd45-847d-4e89-8ba7-f5d9f7da51a6"
      },
      "outputs": [
        {
          "data": {
            "text/plain": [
              "0.40244801710422107"
            ]
          },
          "execution_count": 61,
          "metadata": {},
          "output_type": "execute_result"
        }
      ],
      "source": [
        "# de 0 a 2\n",
        "2*np.sin(2) - np.sin(0) + np.cos(2) - np.cos(0)"
      ]
    },
    {
      "cell_type": "code",
      "execution_count": null,
      "metadata": {
        "id": "4WcU2jyTy7Vh",
        "outputId": "2d363f8e-b3bd-433c-d77d-7661ef6085fb"
      },
      "outputs": [
        {
          "data": {
            "text/plain": [
              "0.0"
            ]
          },
          "execution_count": 60,
          "metadata": {},
          "output_type": "execute_result"
        }
      ],
      "source": [
        "# de -2 a 2\n",
        "2*np.sin(2) + 2*np.sin(-2) + np.cos(2) - np.cos(-2)"
      ]
    },
    {
      "cell_type": "code",
      "execution_count": null,
      "metadata": {
        "id": "j5robBhSy7Vh",
        "outputId": "f595bb78-0e92-4946-b72b-3332ebb626dc"
      },
      "outputs": [
        {
          "data": {
            "text/plain": [
              "0.015135400658489895"
            ]
          },
          "execution_count": 92,
          "metadata": {},
          "output_type": "execute_result"
        }
      ],
      "source": [
        "# de 1 a 2\n",
        "np.cos(1)/2 + np.cos(2) + (1/12)*( np.cos(1) - np.sin(1) - np.cos(2) + 2*np.sin(2) )"
      ]
    },
    {
      "cell_type": "code",
      "execution_count": null,
      "metadata": {
        "id": "IaDKF364y7Vh",
        "outputId": "4de5ff53-77d5-40ef-a0a5-213317de1aaa"
      },
      "outputs": [
        {
          "data": {
            "text/plain": [
              "1.078610447045795"
            ]
          },
          "execution_count": 90,
          "metadata": {},
          "output_type": "execute_result"
        }
      ],
      "source": [
        "# de 0 a 1\n",
        "np.cos(0)/2 + np.cos(1) + (1/12)*( np.cos(0) - np.sin(1) - np.cos(1) + np.sin(1) )"
      ]
    },
    {
      "cell_type": "code",
      "execution_count": null,
      "metadata": {
        "id": "AwDp52Avy7Vi",
        "outputId": "943d4785-9318-4044-87ba-1cc4ac6eaab0"
      },
      "outputs": [
        {
          "data": {
            "text/plain": [
              "-0.6242202548207136"
            ]
          },
          "execution_count": 91,
          "metadata": {},
          "output_type": "execute_result"
        }
      ],
      "source": [
        "# de -2 a 2\n",
        "np.cos(-2)/2 + np.cos(2) + (1/12)*( np.cos(-2) + 2*np.sin(-2) - np.cos(2) + 2*np.sin(2) )"
      ]
    },
    {
      "cell_type": "markdown",
      "metadata": {
        "id": "ju-PdA9py7Vi"
      },
      "source": [
        "Por lo tanto esta regla de cuadratura no sirve para aproximar esa integral. Veamos con una función más sencilla, $f(x) = x^2$, entonces\n",
        "\n",
        "$$\\int_1^2 x^2\\ dx = \\frac{x^3}{3}\\Big|_1^2 = \\frac{8-1}{3} = \\frac{7}{3}$$\n",
        "\n",
        "$$\\int_a^b f(x)\\ dx \\approx w_0 f(a) + w_1 f(b) + w_2 f'(a) + w_3 f'(b)$$\n",
        "\n",
        "$$ = \\frac{1}{2} + \\frac{4}{2} + \\frac{1}{12}(2 - 4) = \\frac{14}{6} = \\frac{7}{3}$$"
      ]
    },
    {
      "cell_type": "code",
      "execution_count": null,
      "metadata": {
        "id": "tReu8F6ly7Vi",
        "outputId": "62d7d1d4-2fc0-476a-f616-d42cdd08fb2e"
      },
      "outputs": [
        {
          "data": {
            "text/plain": [
              "2.3333333333333335"
            ]
          },
          "execution_count": 6,
          "metadata": {},
          "output_type": "execute_result"
        }
      ],
      "source": [
        "7/3"
      ]
    },
    {
      "cell_type": "code",
      "execution_count": null,
      "metadata": {
        "id": "eyN1EFP4y7Vi",
        "outputId": "620d51f6-915b-45b7-d7ef-6b29dcb302bd"
      },
      "outputs": [
        {
          "data": {
            "text/plain": [
              "2.3333333333333335"
            ]
          },
          "execution_count": 5,
          "metadata": {},
          "output_type": "execute_result"
        }
      ],
      "source": [
        "1/2 + 4/2 + (1/12)*(2 - 4)"
      ]
    },
    {
      "cell_type": "markdown",
      "metadata": {
        "id": "16nCPUMAy7Vi"
      },
      "source": [
        "# 5\n",
        "\n",
        "Construya un spline cúbico $s$ que pase por los puntos (1, 2), (2, 3) y (3, 5) tal que $s'(1) = 2$ y $s'(3) = 1$"
      ]
    },
    {
      "cell_type": "markdown",
      "metadata": {
        "id": "5fCoFTPEy7Vi"
      },
      "source": [
        "### Spline Cúbico Natural\n",
        "\n",
        "Para 3 puntos tenemos 2 intervalos: $[t_1,t_2]$ y $[t_2,t_3]$, así que el interpolante requerido es una función cúbica a trozos definida por 2 polinomios cúbicos. Sea\n",
        "\n",
        "$$p_\\alpha(t) = \\alpha_1 + \\alpha_2 t + \\alpha_3 t^2 + \\alpha_4 t^3$$\n",
        "el polinomio del primer intervalo, y\n",
        "$$p_\\beta(t) = \\beta_1 + \\beta_2 t + \\beta_3 t^2 + \\beta_4 t^3$$\n",
        "\n",
        "el del segundo intervalo. De modo que el sistema de ecuaciones a resolver es el siguiente\n",
        "\n",
        "$$Ax = \n",
        "\\begin{pmatrix}\n",
        "    1 & t_1 & t_1^2 & t_1^3 & 0 & 0 & 0 & 0 \\\\\n",
        "    1 & t_2 & t_2^2 & t_2^3 & 0 & 0 & 0 & 0 \\\\\n",
        "    0 & 0 & 0 & 0 & 1 & t_2 & t_2^2 & t_2^3 \\\\\n",
        "    0 & 0 & 0 & 0 & 1 & t_3 & t_3^2 & t_3^3 \\\\\n",
        "    0 & 1 & 2t_2 & 3t_2^2 & 0 & -1 & -2t_2 & -3t_2^2 \\\\\n",
        "    0 & 0 & 2 & 6t_2 & 0 & 0 & -2 & -6t_2 \\\\\n",
        "    0 & 0 & 2 & 6t_1 & 0 & 0 & 0 & 0 \\\\\n",
        "    0 & 0 & 0 & 0 & 0 & 0 & 2 & 6t_3 \\\\\n",
        "\\end{pmatrix}\n",
        "\\begin{pmatrix}\n",
        "    \\alpha_1 \\\\\n",
        "    \\alpha_2 \\\\\n",
        "    \\alpha_3 \\\\\n",
        "    \\alpha_4 \\\\\n",
        "    \\beta_1 \\\\\n",
        "    \\beta_2 \\\\\n",
        "    \\beta_3 \\\\\n",
        "    \\beta_4 \\\\\n",
        "\\end{pmatrix}\n",
        "=\n",
        "\\begin{pmatrix}\n",
        "    y_1 \\\\\n",
        "    y_2 \\\\\n",
        "    y_2 \\\\\n",
        "    y_3 \\\\\n",
        "    0 \\\\\n",
        "    0 \\\\\n",
        "    0 \\\\\n",
        "    0 \\\\\n",
        "\\end{pmatrix}\n",
        "= y$$\n",
        "\n",
        "Las primeras 2 ecuaciones son el polinomio $p_\\alpha(t)$ evaluado en los extremos $t_1$ y $t_2$ del primer intervalo y las 2 ecuaciones siguientes son el polinomio $p_\\beta(t)$ evaluado en los extremos $t_2$ y $t_3$ del segundo intervalo. Las ecuaciones 2 y 3 deben cumplir que $p_\\alpha(t_2) = p_\\beta(t_2)$. Las ecuaciones 5 y 6 cumplen la condición de continuidad en la primera derivada en $t_2$, y en la segunda derivada, respectivamente. Finalmente, las ecuaciones 7 y 8 cumplen la restricción del natural spline de que la segunda derivada sea cero en los extremos $t_1$ y $t_3$, respectivamente."
      ]
    },
    {
      "cell_type": "code",
      "execution_count": null,
      "metadata": {
        "id": "i27LaZ7Vy7Vj"
      },
      "outputs": [],
      "source": [
        "import numpy as np\n",
        "import numpy.linalg as la\n",
        "import matplotlib.pyplot as plt"
      ]
    },
    {
      "cell_type": "code",
      "execution_count": null,
      "metadata": {
        "id": "N4zVO7C7y7Vj"
      },
      "outputs": [],
      "source": [
        "def pol(t,c):\n",
        "    p = 0\n",
        "    for i in range(len(c)): #Solo funciona con len(c) y no con len(t), no sé por qué\n",
        "        p = p + c[i]*(t)**i\n",
        "    return p"
      ]
    },
    {
      "cell_type": "code",
      "execution_count": null,
      "metadata": {
        "id": "n57DmwLMy7Vj"
      },
      "outputs": [],
      "source": [
        "def cubic_spline(t,s):\n",
        "    \n",
        "    n = len(t)\n",
        "    A = np.zeros([8,8])\n",
        "\n",
        "    for i in range(n-2): #Aquí estoy tomando todos los puntos y al final escojo los que quiero graficar\n",
        "\n",
        "        for j in range(4):\n",
        "            A[0,j] = t[i]**j\n",
        "            A[1,j] = t[i+1]**j\n",
        "            A[2,4+j] = t[i+1]**j\n",
        "            A[3,4+j] = t[i+2]**j\n",
        "        for j in range(3):\n",
        "            A[4,j+1] = (j+1)*t[i+1]**(j)\n",
        "            A[4,j+5] = -(j+1)*t[i+1]**(j)\n",
        "        A[5,2] = 2\n",
        "        A[5,3] = 6*t[i+1]\n",
        "        A[5,6] = -2\n",
        "        A[5,7] = -6*t[i+1]\n",
        "        A[6,2] = 2\n",
        "        A[6,3] = 6*t[i]\n",
        "        A[7,6] = 2\n",
        "        A[7,7] = 6*t[i+2]\n",
        "\n",
        "        y = np.zeros(8)\n",
        "        y[0] = s[i]\n",
        "        y[1] = s[i+1]\n",
        "        y[2] = s[i+1]\n",
        "        y[3] = s[i+2]\n",
        "\n",
        "        c = la.solve(A,y)\n",
        "        α = c[0:4]\n",
        "        β = c[4:8]\n",
        "        x1 = np.linspace(t[i],t[i+1],11)\n",
        "        x2 = np.linspace(t[i+1],t[i+2],11)\n",
        "        if (i % 2) == 0: #Grafico solo los pares\n",
        "            plt.plot(x1, pol(x1,α), 'k')\n",
        "            plt.plot(x2, pol(x2,β), 'k')\n",
        "        \n",
        "    plt.plot(x2, pol(x2,β), 'k', label='Splines cúbicos') #Grafico el último intervalo\n",
        "    plt.plot(t, s, 'ko')\n",
        "    plt.legend(fontsize=13)\n",
        "    \n",
        "    return α,β"
      ]
    },
    {
      "cell_type": "code",
      "execution_count": null,
      "metadata": {
        "id": "zxEO3wAly7Vj",
        "outputId": "025e1bc4-c313-4ad8-d7c8-ca3c7e4de776"
      },
      "outputs": [
        {
          "data": {
            "text/plain": [
              "(array([ 1.  ,  1.5 , -0.75,  0.25]), array([ 5.  , -4.5 ,  2.25, -0.25]))"
            ]
          },
          "execution_count": 4,
          "metadata": {},
          "output_type": "execute_result"
        },
        {
          "data": {
            "image/png": "[encoded data removed]",
            "text/plain": [
              "<Figure size 432x288 with 1 Axes>"
            ]
          },
          "metadata": {
            "needs_background": "light"
          },
          "output_type": "display_data"
        }
      ],
      "source": [
        "cubic_spline([1,2,3], [2,3,5])"
      ]
    },
    {
      "cell_type": "code",
      "execution_count": null,
      "metadata": {
        "id": "1na_4bSpy7Vj"
      },
      "outputs": [],
      "source": [
        "def f(t):\n",
        "    return 1 + 1.5*t - 0.75*t**2 + 0.25*t**3"
      ]
    },
    {
      "cell_type": "code",
      "execution_count": null,
      "metadata": {
        "id": "7QIn22ovy7Vj"
      },
      "outputs": [],
      "source": [
        "def g(t):\n",
        "    return 5 - 4.5*t + 2.25*t**2 - 0.25*t**3"
      ]
    },
    {
      "cell_type": "code",
      "execution_count": null,
      "metadata": {
        "id": "ok_dPV0cy7Vk"
      },
      "outputs": [],
      "source": [
        "from sympy import *"
      ]
    },
    {
      "cell_type": "code",
      "execution_count": null,
      "metadata": {
        "id": "SuhFwHd3y7Vk"
      },
      "outputs": [],
      "source": [
        "y = symbols('y')"
      ]
    },
    {
      "cell_type": "code",
      "execution_count": null,
      "metadata": {
        "id": "3__wH4lty7Vk"
      },
      "outputs": [],
      "source": [
        "dif = 1 + 1.5*y - 0.75*y**2 + 0.25*y**3"
      ]
    },
    {
      "cell_type": "code",
      "execution_count": null,
      "metadata": {
        "id": "AOXkgediy7Vk"
      },
      "outputs": [],
      "source": [
        "dig = 5 - 4.5*y + 2.25*y**2 - 0.25*y**3"
      ]
    },
    {
      "cell_type": "code",
      "execution_count": null,
      "metadata": {
        "scrolled": true,
        "id": "1_gOLL6ly7Vk",
        "outputId": "bbe158d2-9813-41b4-cd85-369b1551bc8a"
      },
      "outputs": [
        {
          "data": {
            "text/latex": [
              "$\\displaystyle 0.75 y^{2} - 1.5 y + 1.5$"
            ],
            "text/plain": [
              "0.75*y**2 - 1.5*y + 1.5"
            ]
          },
          "execution_count": 11,
          "metadata": {},
          "output_type": "execute_result"
        }
      ],
      "source": [
        "diff(dif,y)"
      ]
    },
    {
      "cell_type": "code",
      "execution_count": null,
      "metadata": {
        "scrolled": true,
        "id": "c4t8pOGVy7Vk",
        "outputId": "502f74c4-7944-497d-dead-9dbca02a9799"
      },
      "outputs": [
        {
          "data": {
            "text/latex": [
              "$\\displaystyle - 0.75 y^{2} + 4.5 y - 4.5$"
            ],
            "text/plain": [
              "-0.75*y**2 + 4.5*y - 4.5"
            ]
          },
          "execution_count": 12,
          "metadata": {},
          "output_type": "execute_result"
        }
      ],
      "source": [
        "diff(dig,y)"
      ]
    },
    {
      "cell_type": "code",
      "execution_count": null,
      "metadata": {
        "id": "iNKD4130y7Vk"
      },
      "outputs": [],
      "source": [
        "def df(t):\n",
        "    return 1.5 - 1.5*t + 0.75*t**2"
      ]
    },
    {
      "cell_type": "code",
      "execution_count": null,
      "metadata": {
        "id": "mN55e0jpy7Vl",
        "outputId": "1abbb3b6-1cec-42cd-cc79-94fa9e8512c1"
      },
      "outputs": [
        {
          "data": {
            "text/plain": [
              "0.75"
            ]
          },
          "execution_count": 14,
          "metadata": {},
          "output_type": "execute_result"
        }
      ],
      "source": [
        "df(1) "
      ]
    },
    {
      "cell_type": "code",
      "execution_count": null,
      "metadata": {
        "id": "sdQks8pgy7Vl"
      },
      "outputs": [],
      "source": [
        "def dg(t):\n",
        "    return - 4.5 + 4.5*t - 0.75*t**2"
      ]
    },
    {
      "cell_type": "code",
      "execution_count": null,
      "metadata": {
        "id": "DXNECWQhy7Vl",
        "outputId": "2ec1a17d-ce27-473e-905d-984c681c89c7"
      },
      "outputs": [
        {
          "data": {
            "text/plain": [
              "2.25"
            ]
          },
          "execution_count": 16,
          "metadata": {},
          "output_type": "execute_result"
        }
      ],
      "source": [
        "dg(3)"
      ]
    },
    {
      "cell_type": "code",
      "execution_count": null,
      "metadata": {
        "id": "Nm4Hwkt2y7Vl",
        "outputId": "80ffddec-0620-43b2-ac8f-fc314b0ddc76"
      },
      "outputs": [
        {
          "data": {
            "image/png": "[encoded data removed]",
            "text/plain": [
              "<Figure size 432x288 with 1 Axes>"
            ]
          },
          "metadata": {
            "needs_background": "light"
          },
          "output_type": "display_data"
        }
      ],
      "source": [
        "x = np.linspace(1,3,101)\n",
        "cubic_spline([1,2,3], [2,3,5])\n",
        "plt.plot(x, f(x), '--', label=\"$f(x)$\")\n",
        "plt.plot(x, g(x), '-.', label=\"$g(x)$\")\n",
        "plt.plot(x, df(x), '--', label=\"$f'(x)$\")\n",
        "plt.plot(x, dg(x), '-.', label=\"$g'(x)$\")\n",
        "plt.legend()\n",
        "plt.show()"
      ]
    },
    {
      "cell_type": "markdown",
      "metadata": {
        "id": "CIk9LgKEy7Vl"
      },
      "source": [
        "### Spline Cúbico Modificado\n",
        "\n",
        "Para 3 puntos tenemos 2 intervalos: $[t_1,t_2]$ y $[t_2,t_3]$, así que el interpolante requerido es una función cúbica a trozos definida por 2 polinomios cúbicos. Sea\n",
        "\n",
        "$$p_\\alpha(t) = \\alpha_1 + \\alpha_2 t + \\alpha_3 t^2 + \\alpha_4 t^3$$\n",
        "el polinomio del primer intervalo, y\n",
        "$$p_\\beta(t) = \\beta_1 + \\beta_2 t + \\beta_3 t^2 + \\beta_4 t^3$$\n",
        "\n",
        "el del segundo intervalo. Como queremos que $s$ pase por los puntos (1, 2), (2, 3) y (3, 5) y que $s'(1) = 2$ y $s'(3) = 1$, sacrificamos las condiciones del spline cúbico natural de que la segunda derivada en los extremos sea cero por estas condiciones, y el sistema de ecuaciones a resolver es el siguiente\n",
        "\n",
        "$$Ax = \n",
        "\\begin{pmatrix}\n",
        "    1 & t_1 & t_1^2 & t_1^3 & 0 & 0 & 0 & 0 \\\\\n",
        "    1 & t_2 & t_2^2 & t_2^3 & 0 & 0 & 0 & 0 \\\\\n",
        "    0 & 0 & 0 & 0 & 1 & t_2 & t_2^2 & t_2^3 \\\\\n",
        "    0 & 0 & 0 & 0 & 1 & t_3 & t_3^2 & t_3^3 \\\\\n",
        "    0 & 1 & 2t_2 & 3t_2^2 & 0 & -1 & -2t_2 & -3t_2^2 \\\\\n",
        "    0 & 0 & 2 & 6t_2 & 0 & 0 & -2 & -6t_2 \\\\\n",
        "    0 & 1 & 2t_1 & 3t_1^2 & 0 & 0 & 0 & 0 \\\\\n",
        "    0 & 0 & 0 & 0 & 0 & 1 & 2t_3 & 3t_3^2 \\\\\n",
        "\\end{pmatrix}\n",
        "\\begin{pmatrix}\n",
        "    \\alpha_1 \\\\\n",
        "    \\alpha_2 \\\\\n",
        "    \\alpha_3 \\\\\n",
        "    \\alpha_4 \\\\\n",
        "    \\beta_1 \\\\\n",
        "    \\beta_2 \\\\\n",
        "    \\beta_3 \\\\\n",
        "    \\beta_4 \\\\\n",
        "\\end{pmatrix}\n",
        "=\n",
        "\\begin{pmatrix}\n",
        "    2 \\\\\n",
        "    3 \\\\\n",
        "    3 \\\\\n",
        "    5 \\\\\n",
        "    0 \\\\\n",
        "    0 \\\\\n",
        "    2 \\\\\n",
        "    1 \\\\\n",
        "\\end{pmatrix}\n",
        "= y$$\n",
        "\n",
        "Las primeras 2 ecuaciones son el polinomio $p_\\alpha(t)$ evaluado en los extremos $t_1$ y $t_2$ del primer intervalo y las 2 ecuaciones siguientes son el polinomio $p_\\beta(t)$ evaluado en los extremos $t_2$ y $t_3$ del segundo intervalo. Las ecuaciones 2 y 3 deben cumplir que $p_\\alpha(t_2) = p_\\beta(t_2)$. Las ecuaciones 5 y 6 cumplen la condición de continuidad en la primera derivada en $t_2$, y en la segunda derivada, respectivamente. Finalmente, las ecuaciones 7 y 8 cumplen $s'(t_1) = 2$ y $s'(t_3) = 1$."
      ]
    },
    {
      "cell_type": "code",
      "execution_count": null,
      "metadata": {
        "id": "4uh_7xDXy7Vm"
      },
      "outputs": [],
      "source": [
        "def cubic_spline_mod(t,s):\n",
        "    \n",
        "    n = len(t)\n",
        "    A = np.zeros([8,8])\n",
        "\n",
        "    for i in range(n-2): #Aquí estoy tomando todos los puntos y al final escojo los que quiero graficar\n",
        "\n",
        "        for j in range(4):\n",
        "            A[0,j] = t[i]**j\n",
        "            A[1,j] = t[i+1]**j\n",
        "            A[2,4+j] = t[i+1]**j\n",
        "            A[3,4+j] = t[i+2]**j\n",
        "        for j in range(3):\n",
        "            A[4,j+1] = (j+1)*t[i+1]**(j)\n",
        "            A[4,j+5] = -(j+1)*t[i+1]**(j)\n",
        "        A[5,2] = 2\n",
        "        A[5,3] = 6*t[i+1]\n",
        "        A[5,6] = -2\n",
        "        A[5,7] = -6*t[i+1]\n",
        "#         A[6,2] = 2\n",
        "#         A[6,3] = 6*t[i]\n",
        "#         A[7,6] = 2\n",
        "#         A[7,7] = 6*t[i+2]\n",
        "        for j in range(3):\n",
        "            A[6,j+1] = (j+1)*t[i]**(j)\n",
        "            A[7,j+5] = (j+1)*t[i+2]**(j)\n",
        "\n",
        "        y = np.zeros(8)\n",
        "        y[0] = s[i]\n",
        "        y[1] = s[i+1]\n",
        "        y[2] = s[i+1]\n",
        "        y[3] = s[i+2]\n",
        "        y[6] = 2\n",
        "        y[7] = 1\n",
        "\n",
        "        c = la.solve(A,y)\n",
        "        α = c[0:4]\n",
        "        β = c[4:8]\n",
        "        x1 = np.linspace(t[i],t[i+1],11)\n",
        "        x2 = np.linspace(t[i+1],t[i+2],11)\n",
        "        plt.plot(x1, pol(x1,α), 'k')\n",
        "        plt.plot(x2, pol(x2,β), 'k', label='Splines cúbicos')\n",
        "        \n",
        "    plt.plot(t, s, 'ko')\n",
        "    plt.legend(fontsize=13)\n",
        "    \n",
        "    return α,β"
      ]
    },
    {
      "cell_type": "code",
      "execution_count": null,
      "metadata": {
        "id": "3I00wpzny7Vm",
        "outputId": "8693ed53-f337-498f-a9d0-b88816c60600"
      },
      "outputs": [
        {
          "data": {
            "text/plain": [
              "(array([-4. , 11.5, -7. ,  1.5]), array([ 20. , -24.5,  11. ,  -1.5]))"
            ]
          },
          "execution_count": 24,
          "metadata": {},
          "output_type": "execute_result"
        },
        {
          "data": {
            "image/png": "[encoded data removed]",
            "text/plain": [
              "<Figure size 432x288 with 1 Axes>"
            ]
          },
          "metadata": {
            "needs_background": "light"
          },
          "output_type": "display_data"
        }
      ],
      "source": [
        "cubic_spline_mod([1,2,3], [2,3,5])"
      ]
    },
    {
      "cell_type": "code",
      "execution_count": null,
      "metadata": {
        "id": "RjQ36wKYy7Vm"
      },
      "outputs": [],
      "source": [
        "def f(t):\n",
        "    return - 4 + 11.5*t - 7*t**2 + 1.5*t**3"
      ]
    },
    {
      "cell_type": "code",
      "execution_count": null,
      "metadata": {
        "id": "gT-HSJi9y7Vm"
      },
      "outputs": [],
      "source": [
        "def g(t):\n",
        "    return 20 - 24.5*t + 11*t**2 - 1.5*t**3"
      ]
    },
    {
      "cell_type": "code",
      "execution_count": null,
      "metadata": {
        "id": "aiptHEzDy7Vm"
      },
      "outputs": [],
      "source": [
        "dif = - 4 + 11.5*y - 7*y**2 + 1.5*y**3"
      ]
    },
    {
      "cell_type": "code",
      "execution_count": null,
      "metadata": {
        "id": "F4fqsVozy7Vm"
      },
      "outputs": [],
      "source": [
        "dig = 20 - 24.5*y + 11*y**2 - 1.5*y**3"
      ]
    },
    {
      "cell_type": "code",
      "execution_count": null,
      "metadata": {
        "scrolled": true,
        "id": "IR3PFH8vy7Vn",
        "outputId": "63e1571c-3db8-4c07-d5d7-9ec29a8c5c55"
      },
      "outputs": [
        {
          "data": {
            "text/latex": [
              "$\\displaystyle 4.5 y^{2} - 14 y + 11.5$"
            ],
            "text/plain": [
              "4.5*y**2 - 14*y + 11.5"
            ]
          },
          "execution_count": 33,
          "metadata": {},
          "output_type": "execute_result"
        }
      ],
      "source": [
        "diff(dif,y)"
      ]
    },
    {
      "cell_type": "code",
      "execution_count": null,
      "metadata": {
        "scrolled": true,
        "id": "DHhylmRqy7Vn",
        "outputId": "3f308f42-8295-4008-b10b-7a170cb01f71"
      },
      "outputs": [
        {
          "data": {
            "text/latex": [
              "$\\displaystyle - 4.5 y^{2} + 22 y - 24.5$"
            ],
            "text/plain": [
              "-4.5*y**2 + 22*y - 24.5"
            ]
          },
          "execution_count": 34,
          "metadata": {},
          "output_type": "execute_result"
        }
      ],
      "source": [
        "diff(dig,y)"
      ]
    },
    {
      "cell_type": "code",
      "execution_count": null,
      "metadata": {
        "id": "aJCIZFczy7Vn"
      },
      "outputs": [],
      "source": [
        "def df(t):\n",
        "    return 4.5*t**2 - 14*t + 11.5"
      ]
    },
    {
      "cell_type": "code",
      "execution_count": null,
      "metadata": {
        "id": "f6x1HdP_y7Vn",
        "outputId": "31dd997b-f89f-442b-d91a-2fb445cf19cd"
      },
      "outputs": [
        {
          "data": {
            "text/plain": [
              "2.0"
            ]
          },
          "execution_count": 36,
          "metadata": {},
          "output_type": "execute_result"
        }
      ],
      "source": [
        "df(1) "
      ]
    },
    {
      "cell_type": "code",
      "execution_count": null,
      "metadata": {
        "id": "rAnFIgXey7Vn"
      },
      "outputs": [],
      "source": [
        "def dg(t):\n",
        "    return - 4.5*t**2 + 22*t - 24.5"
      ]
    },
    {
      "cell_type": "code",
      "execution_count": null,
      "metadata": {
        "id": "79w1_FBRy7Vn",
        "outputId": "f36962b7-e1c8-4cdc-dfcb-c9a13463c195"
      },
      "outputs": [
        {
          "data": {
            "text/plain": [
              "1.0"
            ]
          },
          "execution_count": 38,
          "metadata": {},
          "output_type": "execute_result"
        }
      ],
      "source": [
        "dg(3)"
      ]
    },
    {
      "cell_type": "code",
      "execution_count": null,
      "metadata": {
        "id": "Yng-YzO4y7Vo",
        "outputId": "ed01ab65-0997-41e1-a922-2ce6800b7cb9"
      },
      "outputs": [
        {
          "data": {
            "image/png": "[encoded data removed]",
            "text/plain": [
              "<Figure size 576x576 with 1 Axes>"
            ]
          },
          "metadata": {
            "needs_background": "light"
          },
          "output_type": "display_data"
        }
      ],
      "source": [
        "x = np.linspace(1,3,101)\n",
        "plt.figure(figsize=(8,8))\n",
        "cubic_spline_mod([1,2,3], [2,3,5])\n",
        "plt.plot(x, f(x), '--', label=\"$f(x)$\")\n",
        "plt.plot(x, g(x), '-.', label=\"$g(x)$\")\n",
        "plt.plot(x, df(x), '--', label=\"$f'(x)$\")\n",
        "plt.plot(x, dg(x), '-.', label=\"$g'(x)$\")\n",
        "plt.plot(3, 1, 'o')\n",
        "plt.ylim(0,6)\n",
        "plt.yticks([0,1,2,3,5,6])\n",
        "plt.xticks([1,2,3])\n",
        "plt.legend(fontsize=12)\n",
        "plt.grid(lw=0.2)"
      ]
    },
    {
      "cell_type": "markdown",
      "metadata": {
        "id": "SHhs7eR4y7Vo"
      },
      "source": [
        "# 6\n",
        "\n",
        "Sea $f$ una función de valores reales definida sobre un intervalo cerrado $I$ tal que $f(I) \\subset I$. Suponga que existe una constante $L \\in [0, 1)$ tal que\n",
        "\n",
        "$$|f(x) − f(y)| ≤ L|x − y| \\quad ∀x, y ∈ I$$\n",
        "\n",
        "**a)** Dado $x_0 ∈ I$, pruebe que la sucesión $\\{x_n\\}$ dada por $x_{n+1} = f(x_n)$ converge.\n",
        "\n",
        "Como\n",
        "$$|x_{n+1} - x_n| = |f(x_n) - f(x_{n-1})| \\leq L|x_n - x_{n-1}| = L|f(x_{n-1}) - f(x_{n-2})| \\leq L^2|x_{n-1} - x_{n-2}|$$\n",
        "\n",
        "$$\\leq \\cdots \\leq L^{n}|x_1 - x_0|$$\n",
        "\n",
        "y como $0 \\leq L < 1$, entonces $$\\underset{n \\to \\infty}{\\lim} L^{n} = 0$$\n",
        "\n",
        "entonces $\\{x_n\\}$ es de Cauchy y como $I$ es completo, entonces existe un límite $\\underset{n\\to\\infty}{\\lim}x_n = x_*$\n",
        "\n",
        "Theo 5.5.2 (cf. 5.5.3) Stoer & Bulirsch, agregando la hipótesis de que $x_*$ es punto fijo\n",
        "\n",
        "$$|x_{n+1} - x_*| = |f(x_n) - f(x_*)| \\leq L|x_n - x_*| \\leq L^{n+1}|x_0 - x_*|$$\n",
        "\n",
        "esto es $$\\frac{|e_{n+1}|}{|e_n|} \\leq L$$\n",
        "\n",
        "y como $0 \\leq L < 1$, entonces $$\\underset{n \\to \\infty}{\\lim} L^{n+1} = 0$$\n",
        "\n",
        "por lo tanto $\\{x_{n}\\}$ converge por lo menos linealmente.\n",
        "\n",
        "$ $\n",
        "\n",
        "**b)** Pruebe que el límite $x_∗$ de la sucesión ${x_n}$ es punto fijo de $f$.\n",
        "\n",
        "Como $\\forall\\ n \\geq 0$ $$|f(x_*) - x_*| \\leq |f(x_*) - f(x_n)| + |f(x_n) - x_*| \\leq L|x_* - x_n| + |x_{n+1} - x_*|$$\n",
        "\n",
        "y como $\\{x_{n}\\}$ converge a $x_*$, entonces $$\\underset{n \\to \\infty}{\\lim} |x_* - x_n| = 0$$\n",
        "\n",
        "y por lo tanto $$x_* = f(x_*)$$\n",
        "i.e. $x_*$ es punto fijo de $f$.\n",
        "\n",
        "$ $\n",
        "\n",
        "**c)** Supónga además que $f$ es una función tres veces diferenciable sobre $I$ tal que $f'(x_∗) = 0$ y $f''(x_∗) \\neq 0$.\n",
        "Pruebe que la convergencia de la sucesión $\\{x_{n}\\}$ es cuadrática.\n",
        "\n",
        "Heath 5.4\n",
        "\n",
        "<u>Definición</u>: Sea $e_{n} = x_{n} - x_*$ el error en la $n$-ésima iteración, donde $x_n$ es la solución aproximada y $x_*$ el valor real. Un método iterativo se dice que converge con tasa $r$ si\n",
        "$$\\underset{n\\to\\infty}{\\lim} \\frac{|e_{n+1}|}{|e_n|^r} = C$$\n",
        "para alguna constante finita $C>0$.\n",
        "\n",
        "Heath 5.5.2\n",
        "\n",
        "Si $x_*$ es un punto fijo, entonces para el error en la $n$-ésima iteración tenemos que\n",
        "\n",
        "$$e_{n+1} = x_{n+1} - x_* = f(x_n) - f(x_*)$$\n",
        "\n",
        "Por el teorema del valor medio, $\\exists\\ \\theta_n$ entre $x_n$ y $x_*$ tal que\n",
        "\n",
        "$$f(x_n) - f(x_*) = f'(\\theta_n)(x_{n} - x_*)$$\n",
        "entonces\n",
        "$$e_{n+1} = f'(\\theta_n)e_n$$\n",
        "\n",
        "No conocemos el valor de $\\theta_n$, pero si $|f'(x_*)| < 1$ entonces, empezando las iteraciones suficientemente cerca de $x_*$, podemos asegurarnos de que existe una constante $C$ tal que $$|f'(\\theta_n)| \\leq C < 1$$\n",
        "para $n=0,1,\\dots$\n",
        "\n",
        "Entonces $$|e_{n+1}| \\leq C|e_n| \\leq \\cdots \\leq C^n|e_0|$$\n",
        "\n",
        "pero $C < 1$ implica que $C^n \\to 0$, entonces $|e_n| \\to 0$ y la sucesión converge (pues si $x_* = f(x_*)$ y $|f'(x_*)| < 1$, entonces el esquema iterativo $x_{n+1} = f(x_n)$ es localmente convergente, i.e. existe un intervalo que contiene a $x_*$ tal que una iteración de punto fijo con $f$ converge si inicia en un punto dentro de ese intervalo).\n",
        "\n",
        "En una iteración de punto fijo, la convergencia es lineal con $C = |f'(x_*)|$, mientras menor sea la constante más rápida es la convergencia, así que idealmente $f'(x_∗) = 0$, como en la hipótesis, en cuyo caso del teorema de Taylor obtenemos\n",
        "\n",
        "$$f(x_n) - f(x_*) = f''(\\xi_n)\\frac{(x_{n} - x_*)^2}{2}$$\n",
        "para alguna $\\xi_n$ entre $x_n$ y $x_*$, entonces\n",
        "$$\\underset{n\\to\\infty}{\\lim} \\frac{|e_{n+1}|}{|e_n|^2} = \\left|\\frac{f''(x_*)}{2}\\right|$$\n",
        "\n",
        "y por lo tanto la convergencia es por lo menos cuadrática"
      ]
    }
  ],
  "metadata": {
    "kernelspec": {
      "display_name": "Python 3",
      "language": "python",
      "name": "python3"
    },
    "language_info": {
      "codemirror_mode": {
        "name": "ipython",
        "version": 3
      },
      "file_extension": ".py",
      "mimetype": "text/x-python",
      "name": "python",
      "nbconvert_exporter": "python",
      "pygments_lexer": "ipython3",
      "version": "3.8.5"
    },
    "colab": {
      "provenance": [],
      "include_colab_link": true
    }
  },
  "nbformat": 4,
  "nbformat_minor": 0
}