{
  "cells": [
    {
      "cell_type": "markdown",
      "metadata": {
        "id": "view-in-github",
        "colab_type": "text"
      },
      "source": [
        "<a href=\"https://colab.research.google.com/github/Fritz-Rodrigo/Numerical_Analysis/blob/main/2021-1.ipynb\" target=\"_parent\"><img src=\"https://colab.research.google.com/assets/colab-badge.svg\" alt=\"Open In Colab\"/></a>"
      ]
    },
    {
      "cell_type": "markdown",
      "metadata": {
        "id": "Ee3iIxJYPW5h"
      },
      "source": [
        "# 1\n",
        "\n",
        "Sea $I$ un intervalo cerrado y acotado de $\\mathbb{R}$, y sea $f: I \\to I$ una función continua.\n",
        "Pruebe que $f$ tiene un punto fijo en $I$.\n",
        "\n",
        "Sean $a,b$ los extremos del intervalo $I$. Como $f(x) \\in [a,b]$ entonces $f(a) \\geq a$ y $f(b) \\leq b$. Sea $g(x) = f(x) - x$, entonces $g(a) \\geq 0$ y $g(b) \\leq 0$, y como $f$ es continua entonces $g$ es continua y existe por lo menos un $\\xi \\in [a,b]$ tal que $g(\\xi) = 0$, i.e. $f(\\xi) = \\xi$ para algún $\\xi \\in [a,b]$, por lo tanto $\\xi$ es punto fijo."
      ]
    },
    {
      "cell_type": "markdown",
      "metadata": {
        "id": "y3A0KMrlPW5m"
      },
      "source": [
        "# 2\n",
        "\n",
        "Encuentre el spline cúbico $s \\in C^2[0,2]$ en la partición ${0,1,2}$ del intervalo $[0,2]$ tal que:\n",
        "\n",
        "$$s(0) = 2,\\ s(1) = 1,\\ s(2) = 4$$\n",
        "\n",
        "$$s'(0) = 1,\\ s'(2) = 13$$"
      ]
    },
    {
      "cell_type": "markdown",
      "metadata": {
        "id": "PYJHiLKmPW5n"
      },
      "source": [
        "### Spline Cúbico Modificado\n",
        "\n",
        "Para 3 puntos tenemos 2 intervalos: $[t_1,t_2]$ y $[t_2,t_3]$, así que el interpolante requerido es una función cúbica a trozos definida por 2 polinomios cúbicos. Sea\n",
        "\n",
        "$$p_\\alpha(t) = \\alpha_1 + \\alpha_2 t + \\alpha_3 t^2 + \\alpha_4 t^3$$\n",
        "el polinomio del primer intervalo, y\n",
        "$$p_\\beta(t) = \\beta_1 + \\beta_2 t + \\beta_3 t^2 + \\beta_4 t^3$$\n",
        "\n",
        "el del segundo intervalo. Como queremos que $s$ pase por los puntos (0,2), (1,1) y (2,4) y que $s'(0)=1$ y $s'(2)=13$, sacrificamos las condiciones del spline cúbico natural de que la segunda derivada en los extremos sea cero por estas condiciones, y el sistema de ecuaciones a resolver es el siguiente\n",
        "\n",
        "$$Ax = \n",
        "\\begin{pmatrix}\n",
        "    1 & t_1 & t_1^2 & t_1^3 & 0 & 0 & 0 & 0 \\\\\n",
        "    1 & t_2 & t_2^2 & t_2^3 & 0 & 0 & 0 & 0 \\\\\n",
        "    0 & 0 & 0 & 0 & 1 & t_2 & t_2^2 & t_2^3 \\\\\n",
        "    0 & 0 & 0 & 0 & 1 & t_3 & t_3^2 & t_3^3 \\\\\n",
        "    0 & 1 & 2t_2 & 3t_2^2 & 0 & -1 & -2t_2 & -3t_2^2 \\\\\n",
        "    0 & 0 & 2 & 6t_2 & 0 & 0 & -2 & -6t_2 \\\\\n",
        "    0 & 1 & 2t_1 & 3t_1^2 & 0 & 0 & 0 & 0 \\\\\n",
        "    0 & 0 & 0 & 0 & 0 & 1 & 2t_3 & 3t_3^2 \\\\\n",
        "\\end{pmatrix}\n",
        "\\begin{pmatrix}\n",
        "    \\alpha_1 \\\\\n",
        "    \\alpha_2 \\\\\n",
        "    \\alpha_3 \\\\\n",
        "    \\alpha_4 \\\\\n",
        "    \\beta_1 \\\\\n",
        "    \\beta_2 \\\\\n",
        "    \\beta_3 \\\\\n",
        "    \\beta_4 \\\\\n",
        "\\end{pmatrix}\n",
        "=\n",
        "\\begin{pmatrix}\n",
        "    2 \\\\\n",
        "    1 \\\\\n",
        "    1 \\\\\n",
        "    4 \\\\\n",
        "    0 \\\\\n",
        "    0 \\\\\n",
        "    1 \\\\\n",
        "    13 \\\\\n",
        "\\end{pmatrix}\n",
        "= y$$\n",
        "\n",
        "Las primeras 2 ecuaciones son el polinomio $p_\\alpha(t)$ evaluado en los extremos $t_1$ y $t_2$ del primer intervalo y las 2 ecuaciones siguientes son el polinomio $p_\\beta(t)$ evaluado en los extremos $t_2$ y $t_3$ del segundo intervalo. Las ecuaciones 2 y 3 deben cumplir que $p_\\alpha(t_2) = p_\\beta(t_2)$. Las ecuaciones 5 y 6 cumplen la condición de continuidad en la primera derivada en $t_2$, y en la segunda derivada, respectivamente. Finalmente, las ecuaciones 7 y 8 cumplen $s'(t_1) = 1$ y $s'(t_3) = 13$."
      ]
    },
    {
      "cell_type": "code",
      "execution_count": null,
      "metadata": {
        "id": "Nm5bPA2-PW5o"
      },
      "outputs": [],
      "source": [
        "import numpy as np\n",
        "import numpy.linalg as la\n",
        "import matplotlib.pyplot as plt"
      ]
    },
    {
      "cell_type": "code",
      "execution_count": null,
      "metadata": {
        "id": "iBCFdmsQPW5p"
      },
      "outputs": [],
      "source": [
        "def pol(t,c):\n",
        "    p = 0\n",
        "    for i in range(len(c)): #Solo funciona con len(c) y no con len(t), no sé por qué\n",
        "        p = p + c[i]*(t)**i\n",
        "    return p\n",
        "\n",
        "def cubic_spline_mod(t,s):\n",
        "    \n",
        "    n = len(t)\n",
        "    A = np.zeros([8,8])\n",
        "\n",
        "    for i in range(n-2): #Aquí estoy tomando todos los puntos y al final escojo los que quiero graficar\n",
        "\n",
        "        for j in range(4):\n",
        "            A[0,j] = t[i]**j\n",
        "            A[1,j] = t[i+1]**j\n",
        "            A[2,4+j] = t[i+1]**j\n",
        "            A[3,4+j] = t[i+2]**j\n",
        "        for j in range(3):\n",
        "            A[4,j+1] = (j+1)*t[i+1]**(j)\n",
        "            A[4,j+5] = -(j+1)*t[i+1]**(j)\n",
        "        A[5,2] = 2\n",
        "        A[5,3] = 6*t[i+1]\n",
        "        A[5,6] = -2\n",
        "        A[5,7] = -6*t[i+1]\n",
        "#         A[6,2] = 2\n",
        "#         A[6,3] = 6*t[i]\n",
        "#         A[7,6] = 2\n",
        "#         A[7,7] = 6*t[i+2]\n",
        "        for j in range(3):\n",
        "            A[6,j+1] = (j+1)*t[i]**(j)\n",
        "            A[7,j+5] = (j+1)*t[i+2]**(j)\n",
        "        print(A)\n",
        "\n",
        "        y = np.zeros(8)\n",
        "        y[0] = s[i]\n",
        "        y[1] = s[i+1]\n",
        "        y[2] = s[i+1]\n",
        "        y[3] = s[i+2]\n",
        "        y[6] = 1\n",
        "        y[7] = 13\n",
        "\n",
        "        c = la.solve(A,y)\n",
        "        α = c[0:4]\n",
        "        β = c[4:8]\n",
        "        x1 = np.linspace(t[i],t[i+1],51)\n",
        "        x2 = np.linspace(t[i+1],t[i+2],51)\n",
        "        plt.plot(x1, pol(x1,α))\n",
        "        plt.plot(x2, pol(x2,β))\n",
        "        \n",
        "    plt.plot(t, s, 'ko')\n",
        "    \n",
        "    return α,β"
      ]
    },
    {
      "cell_type": "code",
      "execution_count": null,
      "metadata": {
        "id": "1ev6x_6aPW5q",
        "outputId": "7a7ad2c6-a6e5-460e-e6f2-0dbf1def16d6"
      },
      "outputs": [
        {
          "name": "stdout",
          "output_type": "stream",
          "text": [
            "[[ 1.  0.  0.  0.  0.  0.  0.  0.]\n",
            " [ 1.  1.  1.  1.  0.  0.  0.  0.]\n",
            " [ 0.  0.  0.  0.  1.  1.  1.  1.]\n",
            " [ 0.  0.  0.  0.  1.  2.  4.  8.]\n",
            " [ 0.  1.  2.  3.  0. -1. -2. -3.]\n",
            " [ 0.  0.  2.  6.  0.  0. -2. -6.]\n",
            " [ 0.  1.  0.  0.  0.  0.  0.  0.]\n",
            " [ 0.  0.  0.  0.  0.  1.  4. 12.]]\n"
          ]
        },
        {
          "data": {
            "text/plain": [
              "(array([ 2.,  1., -3.,  1.]), array([ -2.,  13., -15.,   5.]))"
            ]
          },
          "execution_count": 9,
          "metadata": {},
          "output_type": "execute_result"
        },
        {
          "data": {
            "image/png": "[encoded data removed]",
            "text/plain": [
              "<Figure size 432x288 with 1 Axes>"
            ]
          },
          "metadata": {
            "needs_background": "light"
          },
          "output_type": "display_data"
        }
      ],
      "source": [
        "cubic_spline_mod([0,1,2], [2,1,4])"
      ]
    },
    {
      "cell_type": "markdown",
      "metadata": {
        "id": "1KGoIB69PW5r"
      },
      "source": [
        "# 4\n",
        "\n",
        "$$h = 2, \\qquad w_0 = \\frac{3}{2}, \\qquad w_1 = \\frac{1}{2}, \\qquad w_2 = \\frac{1}{3}, \\qquad w_3 = 0$$\n",
        "\n",
        "Probemos con $f(x) = x^3$, entonces\n",
        "\n",
        "$$\\int_0^2 x^3\\ dx = \\frac{x^4}{4}\\Big|_0^2 = 4$$\n",
        "\n",
        "$$\\int_0^h f(x)\\ dx \\approx w_0 f(0) + w_1 f(h) + w_2 f''(0) + w_3 f''(h)$$\n",
        "\n",
        "$$ = \\frac{3}{2}f(0) + \\frac{1}{2}f(2) + \\frac{1}{3}f''(0) + 0\\cdot f''(2) $$\n",
        "\n",
        "$$ = 4$$\n",
        "\n",
        "$ $\n",
        "\n",
        "Probemos con $f(x) = x^2$, entonces\n",
        "\n",
        "$$\\int_0^2 x^2\\ dx = \\frac{x^3}{3}\\Big|_0^2 = \\frac{8}{3}$$\n",
        "\n",
        "$$\\int_0^2 f(x)\\ dx \\approx \\frac{3}{2} f(0) + \\frac{1}{2}f(2) + \\frac{1}{3}f''(0) + w_3 f''(2)$$\n",
        "\n",
        "$$ = 2 + \\frac{2}{3} = \\frac{8}{3}$$"
      ]
    },
    {
      "cell_type": "markdown",
      "metadata": {
        "id": "9f0QNDAjPW5s"
      },
      "source": [
        "## 7 Floating-Point Arithmetic\n",
        "\n",
        "__a)__ Consider the sequence $$S_{n+1} = S_n \\oplus \\dfrac{1}{2^{n+1}}$$ \n",
        "\n",
        "with $S_0 = 1$, in a decimal system with three significant digits, where the sum uses truncation. Find the smallest positive integer for which $S_{n+1} = S_n$\n"
      ]
    },
    {
      "cell_type": "markdown",
      "source": [
        "We have $\\beta = 10$ and $p = 3$\n",
        "\n",
        "$$S_1 = S_0 + \\dfrac{1}{2^{1}} = 1 + \\dfrac{1}{2}$$\n",
        "\n",
        "$$S_2 = S_1 + \\dfrac{1}{2^{2}} = 1.5 + \\dfrac{1}{4}$$\n",
        "\n",
        "$$S_3 = S_2 + \\dfrac{1}{2^{3}} = 1.75 + \\dfrac{1}{8}$$\n",
        "\n",
        "We want $\\dfrac{1}{2^{n+1}} < \\epsilon_\\text{mach} = \\beta^{1-p} = 10^{-2} = \\dfrac{1}{100} = 0.01$\n",
        "\n",
        "So we will solve $\\dfrac{1}{2^{n+1}} < 0.01$,\n",
        "\n",
        "which is $100 < 2^{n+1}$, this happens starting with $\\boxed{n=6}$ because $2^7 = 128$ and $2^6 = 64$\n",
        "\n",
        "$$S_7 = S_6 + \\dfrac{1}{2^{7}} = 1.97 + \\dfrac{1}{128} \\approx 1.97 + 7.81 \\times 10^{-3} = \\text{float}(1.97781) = 1.97$$"
      ],
      "metadata": {
        "id": "kIx7D-erP84B"
      }
    },
    {
      "cell_type": "code",
      "source": [
        "1/128, 7.81e-3, 1.99 + 7.81e-3"
      ],
      "metadata": {
        "colab": {
          "base_uri": "https://localhost:8080/"
        },
        "id": "5CuEgdS-a1hI",
        "outputId": "cfa0bb4b-cd1b-481d-a6a8-aefcbcc23c22"
      },
      "execution_count": 98,
      "outputs": [
        {
          "output_type": "execute_result",
          "data": {
            "text/plain": [
              "(0.0078125, 0.00781, 1.99781)"
            ]
          },
          "metadata": {},
          "execution_count": 98
        }
      ]
    },
    {
      "cell_type": "code",
      "source": [
        "import decimal # By default rounding setting in python is decimal.ROUND_HALF_EVEN\n",
        "decimal.getcontext().rounding = decimal.ROUND_DOWN\n",
        "S = np.zeros(11)\n",
        "S[0] = 1\n",
        "for n in range(6):\n",
        "  # S[n] = round( decimal.Decimal(S[n]), 2)\n",
        "  plus = round( decimal.Decimal(1/2**(n+1)), 4)\n",
        "  S[n+1] = S[n] + float(plus) # S[n+1] = S[n] + 1/2**(n+1)\n",
        "  S[n+1] = round( decimal.Decimal(S[n+1]), 2)\n",
        "  print('n =', n)\n",
        "  print(S[n],'+',float(plus),'=',S[n+1])\n",
        "\n",
        "for n in range(6,10):\n",
        "  # S[n] = round( decimal.Decimal(S[n]), 2)\n",
        "  plus = round( decimal.Decimal(1/2**(n+1)), 5)\n",
        "  S[n+1] = S[n] + float(plus) # S[n+1] = S[n] + 1/2**(n+1)\n",
        "  S[n+1] = round( decimal.Decimal(S[n+1]), 2)\n",
        "  print('n =', n)\n",
        "  print(S[n],'+',float(plus),'=',S[n+1])"
      ],
      "metadata": {
        "colab": {
          "base_uri": "https://localhost:8080/"
        },
        "id": "NwjJeQd6TVs_",
        "outputId": "b8741a97-fc13-4fba-d890-c2548aa8d276"
      },
      "execution_count": 111,
      "outputs": [
        {
          "output_type": "stream",
          "name": "stdout",
          "text": [
            "n = 0\n",
            "1.0 + 0.5 = 1.5\n",
            "n = 1\n",
            "1.5 + 0.25 = 1.75\n",
            "n = 2\n",
            "1.75 + 0.125 = 1.87\n",
            "n = 3\n",
            "1.87 + 0.0625 = 1.93\n",
            "n = 4\n",
            "1.93 + 0.0312 = 1.96\n",
            "n = 5\n",
            "1.96 + 0.0156 = 1.97\n",
            "n = 6\n",
            "1.97 + 0.00781 = 1.97\n",
            "n = 7\n",
            "1.97 + 0.0039 = 1.97\n",
            "n = 8\n",
            "1.97 + 0.00195 = 1.97\n",
            "n = 9\n",
            "1.97 + 0.00097 = 1.97\n"
          ]
        }
      ]
    },
    {
      "cell_type": "markdown",
      "source": [
        "Alternatively, $\\log 100 < (n+1) \\log 2$, this is $\\dfrac{\\log 100}{\\log 2} - 1 < n$\n",
        "\n",
        "Thus $n > 5.644$"
      ],
      "metadata": {
        "id": "Ick-HwGxR69I"
      }
    },
    {
      "cell_type": "code",
      "source": [
        "import numpy as np\n",
        "np.log(100)/np.log(2) - 1"
      ],
      "metadata": {
        "colab": {
          "base_uri": "https://localhost:8080/"
        },
        "id": "B6XcIiSNRR0w",
        "outputId": "42df69da-f811-401f-a905-9a7a6cd24242"
      },
      "execution_count": 13,
      "outputs": [
        {
          "output_type": "execute_result",
          "data": {
            "text/plain": [
              "5.643856189774725"
            ]
          },
          "metadata": {},
          "execution_count": 13
        }
      ]
    },
    {
      "cell_type": "markdown",
      "metadata": {
        "id": "EE8hTmQ_PW5t"
      },
      "source": [
        "__b)__\n",
        "\n",
        "Approximate 125 with $\\beta = 2$ and $p = 5$"
      ]
    },
    {
      "cell_type": "markdown",
      "source": [
        "125 is 1111101 in binary, but with precision 5 we represent it as\n",
        "\n",
        "$\\boxed{1.1111 \\times 2^6 = 1111100}$, which is 124\n",
        "\n",
        "The next number with precision 5 is 10000000 = 128, which is farther away"
      ],
      "metadata": {
        "id": "KEyCNqIUdkh8"
      }
    }
  ],
  "metadata": {
    "kernelspec": {
      "display_name": "Python 3",
      "language": "python",
      "name": "python3"
    },
    "language_info": {
      "codemirror_mode": {
        "name": "ipython",
        "version": 3
      },
      "file_extension": ".py",
      "mimetype": "text/x-python",
      "name": "python",
      "nbconvert_exporter": "python",
      "pygments_lexer": "ipython3",
      "version": "3.8.5"
    },
    "colab": {
      "provenance": [],
      "include_colab_link": true
    }
  },
  "nbformat": 4,
  "nbformat_minor": 0
}