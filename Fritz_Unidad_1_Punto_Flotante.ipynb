{
  "cells": [
    {
      "cell_type": "markdown",
      "metadata": {
        "id": "view-in-github",
        "colab_type": "text"
      },
      "source": [
        "<a href=\"https://colab.research.google.com/github/Fritz-Rodrigo/Numerical_Analysis/blob/main/Fritz_Unidad_1_Punto_Flotante.ipynb\" target=\"_parent\"><img src=\"https://colab.research.google.com/assets/colab-badge.svg\" alt=\"Open In Colab\"/></a>"
      ]
    },
    {
      "cell_type": "markdown",
      "metadata": {
        "id": "Z6DjV9kPyVKG"
      },
      "source": [
        "## Análisis Numérico\n",
        "\n",
        "## Unidad 1\n",
        "\n",
        "### Rodrigo Fritz Hernández"
      ]
    },
    {
      "cell_type": "markdown",
      "metadata": {
        "id": "mDopfg4wyVKO"
      },
      "source": [
        "$\\bf{-1.}$ Sea $a = \\pm b_1.b_2 \\cdots b_t \\times \\beta^p$ con $0<b_1<\\beta$ y $0<b_k<\\beta$ para $k=2,\\dots,t$, donde $p\\in\\mathbb{Z}$, $\\beta\\in\\mathbb{N}$, $\\beta>1$, demuestra que $a\\in\\mathbb{Q}$.\n",
        "\n",
        "Tenemos que\n",
        "\\begin{equation*}\n",
        "    a = a\\dfrac{\\beta^{t-1}}{\\beta^{t-1}} = b_1.b_2 \\cdots b_t \\times \\beta^p \\dfrac{\\beta^{t-1}}{\\beta^{t-1}} = b_1 \\cdots b_t \\times \\dfrac{\\beta^p}{\\beta^{t-1}}.\n",
        "\\end{equation*}\n",
        "\n",
        "Sean $$r = b_1 \\cdots b_t \\times \\beta^p$$\n",
        "\n",
        "$$s = \\beta^{t-1}$$\n",
        "\n",
        "entonces $$a = \\dfrac{r}{s}$$ con $r,s \\in \\mathbb{Z}$, por lo tanto $a \\in \\mathbb{Q}$.\n",
        "\n",
        "$ $"
      ]
    },
    {
      "cell_type": "markdown",
      "metadata": {
        "id": "rRCJOaqdyVKP"
      },
      "source": [
        "$\\bf{-2.}$ Sea $\\beta\\in\\mathbb{N}$, $\\beta>1$. Si $a \\in \\mathbb{R}^{+}$ tiene representación$\\beta$-cimal\n",
        "\n",
        "$$a = b_{-m} \\cdots b_{-1}b_0.b_1 b_2 \\cdots$$\n",
        "\n",
        "demuestra que $$ p \\leq a \\leq q + \\dfrac{1}{\\beta^k}$$\n",
        "\n",
        "con $$p = b_{-m} \\cdots b_0.b_1 \\cdots b_n$$\n",
        "\n",
        "$$q = b_{-m} \\cdots b_0.b_1 \\cdots b_k$$\n",
        "\n",
        "$ $\n",
        "\n",
        "Como $$a - p = 0.\\underbrace{0 \\cdots 0}_{n}b_{n+1}b_{n+2} \\cdots \\geq 0$$\n",
        "\n",
        "$$a - q = 0.\\underbrace{0 \\cdots 0}_{k}b_{k+1}b_{k+2} \\cdots \\geq 0$$\n",
        "\n",
        "entonces $$\\boxed{a \\geq p}$$\n",
        "\n",
        "y como $$\\dfrac{1}{\\beta^k} = 0.\\underbrace{0 \\cdots 0}_{k-1}1 \\geq a - q$$\n",
        "\n",
        "por lo tanto $$\\boxed{q + \\dfrac{1}{\\beta^k} \\geq a}$$\n",
        "\n",
        "La importancia de esta desigualdad es que aporta un algoritmo muy sencillo para acotar a $a$ por abajo con precisión $n$ y por arriba con precisión $k$.\n",
        "\n",
        "Por ejemplo, 1.3333 < 4/3 < 1.33 + 0.01 = 1.34\n",
        "\n",
        "$ $"
      ]
    },
    {
      "cell_type": "markdown",
      "metadata": {
        "id": "-ihVq7QIyVKR"
      },
      "source": [
        "$\\bf{1.}$ Considera a los números de punto flotante $fl(\\beta,\\tau,L,U)$\n",
        "\n",
        "Se dice que un sistema de punto flotante está normalizado si el dígito $d_0$ que lidera a la mantisa $m$ es siempre distinto de cero, a menos que el número representado sea justamente el cero, en ese caso se satisface que\n",
        "$$1 \\leq m < \\beta$$\n",
        "con lo que el número representado es de la forma\n",
        "$$ x = \\pm d_0.d_1 \\cdots d_{\\tau-1} \\times \\beta^E = \\pm \\left(d_0 + \\dfrac{d_1}{\\beta} + \\cdots + \\dfrac{d_{\\tau-1}}{\\beta^{\\tau-1}} \\right) \\times \\beta^E$$\n",
        "\n",
        "donde $\\beta \\in \\mathbb{N}$ es la base, $\\tau \\in \\mathbb{N}$ es la precisión, es decir, el número de dígitos, y $E \\in \\mathbb{Z}$ es el exponente tal que $L \\leq E \\leq U$, con $0 < d_0 < \\beta$ y $0 \\leq d_i < \\beta $ para $i={1,\\dots,\\tau-1}$.\n",
        "\n",
        "Una convención alternativa de la forma normalizada es que $d_0$ es siempre cero y entonces es $d_1$ el que siempre es distinto de cero, a menos que el número representado sea el cero, en cuyo caso se satisface\n",
        "$$\\beta^{-1} \\leq m <1$$\n",
        "\n",
        "Podemos obtener esta forma normalizada alternativa al multiplicar la forma anterior por $\\dfrac{\\beta}{\\beta}$, entonces\n",
        "\n",
        "$$x = \\pm 0.d_0 d_1 \\cdots d_{\\tau-1} \\times \\beta^{E+1} = \\pm \\left(\\dfrac{d_0}{\\beta} + \\dfrac{d_1}{\\beta^2} + \\cdots + \\dfrac{d_{\\tau-1}}{\\beta^\\tau} \\right) \\times \\beta^{E+1}$$\n",
        "\n",
        "renombrando los subíndices para que coincidan con los exponentes de los denominadores:\n",
        "\n",
        "$$x = \\pm 0.d_1 d_2 \\cdots d_\\tau \\times \\beta^{E+1} = \\pm \\left(\\dfrac{d_1}{\\beta} + \\dfrac{d_2}{\\beta^2} + \\cdots + \\dfrac{d_\\tau}{\\beta^\\tau} \\right) \\times \\beta^{E+1}$$\n",
        "\n",
        "$ $\n",
        "\n",
        "$\\bf{a)}$ Para encontrar la cardinalidad del conjunto hay que considerar que en la forma normalizada:\n",
        "\n",
        "- Como el primer dígito de la mantisa es distinto de cero, puede tomar $\\beta - 1$ valores.\n",
        "\n",
        "\n",
        "- Los $\\tau-1$ dígitos restantes toman uno de los $\\beta$ valores de la base, esos son $\\beta^{\\tau-1}$ números.\n",
        "\n",
        "\n",
        "- Como $E$ puede tomar el valor de todos los enteros entre $L$ y $U$ entonces hay $U-L+1$ opciones para $\\beta^E$.\n",
        "\n",
        "\n",
        "- $x$ puede ser positivo, negativo o cero, entonces hay que multiplicar por 2 y sumar 1 para considerar esos casos.\n",
        "\n",
        "Por lo tanto, la cardinalidad del conjunto es\n",
        "\n",
        "$$\\boxed{ 2(\\beta - 1)\\beta^{\\tau-1}(U-L+1)+1 }$$\n",
        "\n",
        "$ $\n",
        "\n",
        "$\\bf{b)}$ El elemento $\\alpha > 0$ más chico en la forma normalizada es el \"underflow level\" (UFL) $$\\alpha = 1\\times\\beta^L = \\boxed{ \\beta^L }$$\n",
        "\n",
        "pues el valor mínimo que puede tomar $d_0$ es 1, y el valor mínimo que puede tomar $E$ es $L$.\n",
        "\n",
        "En la forma alternativa, esto se ve como $$\\alpha = 0.1\\times\\beta^{L+1} = \\dfrac{1}{\\beta}\\times\\beta^{L+1} = \\beta^{L}$$\n",
        "\n",
        "$ $\n",
        "\n",
        "$\\bf{c)}$ El elemento $\\omega > 0$ más grande en la forma alternativa es\n",
        "\n",
        "\\begin{align}\n",
        "    \\omega & = \\left(\\dfrac{\\beta-1}{\\beta} + \\dfrac{\\beta-1}{\\beta^2} + \\cdots + \\dfrac{\\beta-1}{\\beta^\\tau} \\right) \\times \\beta^{U+1} = (\\beta-1) \\left(\\dfrac{1}{\\beta} + \\dfrac{1}{\\beta^2} + \\cdots + \\dfrac{1}{\\beta^\\tau} \\right) \\times \\beta^{U+1} \\\\\\\\\n",
        "    & = (\\beta-1) \\left(\\dfrac{\\beta^{\\tau-1} + \\beta^{\\tau-2} + \\cdots + 1}{\\beta^\\tau} \\right) \\times \\beta^{U+1} = (\\beta-1)\\dfrac{\\beta^{U+1}}{\\beta^\\tau} \\sum\\limits_{n=0}^{\\tau-1}\\beta^n = (\\beta-1)\\dfrac{\\beta^{U+1}}{\\beta^\\tau} \\left(\\dfrac{1-\\beta^{\\tau}}{1-\\beta}\\right) \\\\\\\\\n",
        "    & = \\dfrac{\\beta^{U+1}}{\\beta^\\tau} (\\beta^\\tau - 1) = \\beta^{U+1}\\left(1-\\beta^{-\\tau}\\right)\n",
        "\\end{align}\n",
        "\n",
        "$$\\omega = \\boxed{ \\beta^{U+1}\\left(1-\\beta^{-\\tau}\\right) } = \\beta^{U+1} - \\beta^{U}\\epsilon_\\text{mach}$$\n",
        "\n",
        "$ $\n",
        "\n",
        "$\\bf{d)}$ El espaciamiento mínimo ocurre entre el elemento más chico $\\alpha$ y el siguiente $\\gamma$, que en la forma alternativa corresponde a\n",
        "\n",
        "$$\\gamma = \\left(\\dfrac{1}{\\beta} + \\dfrac{1}{ \\beta^{\\tau} }\\right) \\times \\beta^{L+1}$$\n",
        "\n",
        "Por lo tanto\n",
        "\n",
        "$$\\gamma - \\alpha = \\left(\\dfrac{1}{ \\beta^{\\tau} }\\right) \\times \\beta^{L+1} = \\beta^{L}\\beta^{1-\\tau}$$\n",
        "\n",
        "$ $\n",
        "\n",
        "$$\\gamma - \\alpha = \\boxed{ \\beta^{L}\\epsilon_\\text{mach} }$$\n",
        "\n",
        "$ $\n",
        "\n",
        "$\\bf{e)}$ El espaciamiento máximo ocurre entre el elemento más grande $\\omega$ y el anterior $\\psi$, que en la forma alternativa corresponde a\n",
        "\n",
        "$$\\psi = \\left(\\dfrac{\\beta-1}{\\beta} + \\dfrac{\\beta-1}{\\beta^2} + \\cdots + \\dfrac{\\beta-2}{\\beta^\\tau} \\right) \\times \\beta^{U+1}$$\n",
        "\n",
        "Por lo tanto\n",
        "\n",
        "$$\\omega - \\psi = \\left(\\dfrac{1}{\\beta^\\tau} \\right) \\times \\beta^{U+1} = \\beta^{U}\\beta^{1-\\tau}$$\n",
        "\n",
        "$ $\n",
        "\n",
        "$$\\omega - \\psi = \\boxed{ \\beta^{U}\\epsilon_\\text{mach} }$$\n",
        "\n",
        "$ $\n",
        "\n",
        "$\\bf{f)}$ Si $E = \\tau-1$, entonces el número de punto flotante en la forma normalizada es\n",
        "\n",
        "$$x = \\pm d_0.d_1 \\cdots d_{\\tau-1} \\times \\beta^{\\tau-1} = \\pm d_0 d_1 \\cdots d_{\\tau-1} \\in \\mathbb{Z}$$\n",
        "\n",
        "Como $d_0 \\neq 0$, hay $(\\beta - 1)\\beta^{\\tau - 1}$ enteros positivos para los cuales $E = \\tau-1$.\n",
        "\n",
        "<!-- Ahora, el número más grande con $E=0$ es $\\beta - \\epsilon_\\text{mach} = \\beta - \\beta^{1-\\tau}$, mientras que el más chico es $1$, entonces\n",
        "\n",
        "$$z = \\dfrac{(\\beta - \\epsilon_\\text{mach}) - 1}{\\epsilon_\\text{mach}} + 1 = \\dfrac{\\beta-1}{\\epsilon_\\text{mach}}$$\n",
        "\n",
        "es el rango de los flotantes para cada exponente y coincide con la parte $(\\beta - 1)\\beta^{\\tau-1}$ de la cardinalidad del conjunto, así que hay $z$ números enteros para los cuales $E = \\tau-1$, entonces hay -->\n",
        "\n",
        "Si $E > \\tau-1$, entonces $|x| > d_0 \\cdots d_{\\tau-1} \\in \\mathbb{Z}$, por lo tanto $x \\in \\mathbb{Z}$ y hay \n",
        "\n",
        "$$\\boxed{[U - (\\tau - 1)](\\beta - 1)\\beta^{\\tau - 1}}$$\n",
        "\n",
        "enteros positivos para los cuales $E > \\tau-1$\n",
        "\n",
        "Si $E = \\tau-2$, entonces $$x = \\pm d_0 d_1 \\cdots d_{\\tau-2}.d_{\\tau-1}$$\n",
        "\n",
        "y como $d_{\\tau-1}$ toma $\\beta$ valores, el número de enteros positivos con $E = \\tau-2$ es $(\\beta - 1)\\beta^{\\tau - 2}$\n",
        "\n",
        "Así que hay $(\\beta - 1)\\beta^{\\tau - 1 - n}$ enteros positivos para los cuales $E = (\\tau-1) - n$, con $n \\leq \\tau-1$, pues para $E = 0$ se tiene que\n",
        "\n",
        "$$x = \\pm d_0.d_1 \\cdots d_{\\tau-1}$$\n",
        "\n",
        "por lo que para todo $E<0$, $x$ ya no puede ser entero.\n",
        "\n",
        "El número de enteros postivos para los cuales $E \\leq \\tau-1$ es entonces\n",
        "\n",
        "$$(\\beta - 1)\\left(\\beta^{\\tau-1} + \\beta^{\\tau-2} + \\cdots + \\beta^2 + \\beta + 1\\right) = (\\beta - 1)\\dfrac{1-\\beta^\\tau}{1-\\beta} = \\boxed{\\beta^\\tau - 1}$$\n",
        "\n",
        "<!-- $$(\\beta - \\epsilon_\\text{mach})\\beta^n$$ -->\n",
        "\n",
        "<!-- $$\\boxed{ (\\beta - \\epsilon_\\text{mach})\\beta^n + (U - \\tau + 1)\\dfrac{\\beta-1}{\\epsilon_\\text{mach}} }$$ -->\n",
        "\n",
        "Por lo tanto, el número total de enteros es\n",
        "\n",
        "$$\\boxed{2(\\beta-1)\\left(\\beta^\\tau - 1 + \\big[U - (\\tau - 1)\\big]\\beta^{\\tau-1}\\right) + 1}$$\n",
        "\n",
        "$ $"
      ]
    },
    {
      "cell_type": "markdown",
      "metadata": {
        "id": "YqfF3Wb1yVKV"
      },
      "source": [
        "**2.** Calcule los valores de los incisos del ejercicio anterior pero ahora para el sistema $fl(2,53,-1022,1023)$, es decir, para la aritmética de la computadora en doble precisión.\n",
        "\n",
        "$\\bf{a)}$ La cardinalidad del conjunto es\n",
        "\n",
        "$$2(\\beta - 1)\\beta^{\\tau-1}(U-L+1)+1 = (2^{53})(2046)+1 = 1.8428729675200069633\\times10^{19}$$\n",
        "\n",
        "$\\bf{b)}$ El elemento positivo más chico es $$\\boxed{\\beta^L = 2^{-1022}} \\approx 2.225 \\times 10^{-308}$$\n",
        "\n",
        "$\\bf{c)}$ El elemento más grande es $$\\beta^{U+1}\\left(1-\\beta^{-\\tau}\\right) = 2^{1024}(1-2^{-53}) = \\boxed{2^{1024} - 2^{971}} \\approx 1.8 \\times 10^{308}$$"
      ]
    },
    {
      "cell_type": "code",
      "execution_count": null,
      "metadata": {
        "id": "IKlkRf3XyVKW",
        "outputId": "b829a631-0569-4043-a125-7efd0f0fe108"
      },
      "outputs": [
        {
          "data": {
            "text/plain": [
              "18428729675200069633"
            ]
          },
          "execution_count": 1,
          "metadata": {},
          "output_type": "execute_result"
        }
      ],
      "source": [
        "2046*(2**53) + 1"
      ]
    },
    {
      "cell_type": "code",
      "execution_count": null,
      "metadata": {
        "id": "YnQKYGStyVKa",
        "outputId": "94282627-201d-42b1-f070-531d7a546489"
      },
      "outputs": [
        {
          "data": {
            "text/plain": [
              "'1.8E+19'"
            ]
          },
          "execution_count": 2,
          "metadata": {},
          "output_type": "execute_result"
        }
      ],
      "source": [
        "format(2046*(2**53) + 1,'.1E')"
      ]
    },
    {
      "cell_type": "code",
      "execution_count": null,
      "metadata": {
        "id": "CX7ACj9hyVKb",
        "outputId": "022eafc4-7e14-4037-da8f-0165761330e8"
      },
      "outputs": [
        {
          "data": {
            "text/plain": [
              "2046"
            ]
          },
          "execution_count": 3,
          "metadata": {},
          "output_type": "execute_result"
        }
      ],
      "source": [
        "2**11-2"
      ]
    },
    {
      "cell_type": "code",
      "execution_count": null,
      "metadata": {
        "id": "lgEsyTsGyVKd",
        "outputId": "8dc7f278-96a0-44b6-8e84-6b691fbc53b7"
      },
      "outputs": [
        {
          "data": {
            "text/plain": [
              "18428729675200069633"
            ]
          },
          "execution_count": 4,
          "metadata": {},
          "output_type": "execute_result"
        }
      ],
      "source": [
        "2**64-2**54 + 1"
      ]
    },
    {
      "cell_type": "code",
      "execution_count": null,
      "metadata": {
        "id": "MegWx26LyVKe",
        "outputId": "61e9fe82-e5d6-4003-e5e4-bc88a0452b6c"
      },
      "outputs": [
        {
          "data": {
            "text/plain": [
              "2.2250738585072014e-308"
            ]
          },
          "execution_count": 5,
          "metadata": {},
          "output_type": "execute_result"
        }
      ],
      "source": [
        "2**-1022"
      ]
    },
    {
      "cell_type": "code",
      "execution_count": null,
      "metadata": {
        "id": "5B8ZGCaSyVKf",
        "outputId": "86acc21d-ba51-4582-bb9d-d316f58b2918"
      },
      "outputs": [
        {
          "data": {
            "text/plain": [
              "'0.0000000000000000000000000000000000000000000000000000000000000000000000000000000000000000000000000000000000000000000000000000000000000000000000000000000000000000000000000000000000000000000000000000000000000000000000000000000000000000000000000000000000000000000000000000000000000000000000000000000000000000000222507385850720138309023271733240406421921598046233183055332741688720443481391819585428315901251102056406733973103581100515243416155346010885601238537771882113077799353200233047961014744258363607192156504694250373420837525080665061665815894872049117996859163964850063590877011830487479978088775374994945158045160505091539985658247081864511353793580499211598108576605199243335211435239014879569960959128889160299264151106346631339366347758651302937176204732563178148566435087212282863764204484681140761391147706280168985324411002416144742161856716615054015428508471675290190316132277889672970737312333408698898317506783884692609277397797285865965494109136909540613646756870239867831529068098461721092462539672851562500000000'"
            ]
          },
          "execution_count": 6,
          "metadata": {},
          "output_type": "execute_result"
        }
      ],
      "source": [
        "format(2**-1022,'.1030f')"
      ]
    },
    {
      "cell_type": "code",
      "execution_count": null,
      "metadata": {
        "id": "WMOgl0HByVKg",
        "outputId": "d552bd59-8a04-41c5-ff0f-d763bbf4d508"
      },
      "outputs": [
        {
          "data": {
            "text/plain": [
              "971"
            ]
          },
          "execution_count": 7,
          "metadata": {},
          "output_type": "execute_result"
        }
      ],
      "source": [
        "1024-53"
      ]
    },
    {
      "cell_type": "code",
      "execution_count": null,
      "metadata": {
        "scrolled": true,
        "id": "nGY61uD1yVKh",
        "outputId": "9427ee17-fd42-43d2-88f6-09eb5d1a362c"
      },
      "outputs": [
        {
          "data": {
            "text/plain": [
              "179769313486231570814527423731704356798070567525844996598917476803157260780028538760589558632766878171540458953514382464234321326889464182768467546703537516986049910576551282076245490090389328944075868508455133942304583236903222948165808559332123348274797826204144723168738177180919299881250404026184124858368"
            ]
          },
          "execution_count": 8,
          "metadata": {},
          "output_type": "execute_result"
        }
      ],
      "source": [
        "2**1024-2**971"
      ]
    },
    {
      "cell_type": "code",
      "execution_count": null,
      "metadata": {
        "scrolled": true,
        "id": "cL2TeK6MyVKh",
        "outputId": "4faa8cc6-be6a-41f0-e037-0badabb987ae"
      },
      "outputs": [
        {
          "data": {
            "text/plain": [
              "'1.8E+308'"
            ]
          },
          "execution_count": 9,
          "metadata": {},
          "output_type": "execute_result"
        }
      ],
      "source": [
        "format(2**1024-2**971,'.1E')"
      ]
    },
    {
      "cell_type": "markdown",
      "metadata": {
        "id": "bDmeP6YRyVKi"
      },
      "source": [
        "$\\bf{d)}$ El espaciamiento mínimo es $$\\beta^{L}\\epsilon_\\text{mach} = 2^{-1022}2^{-52} = \\boxed{2^{-1074}} \\approx 5 \\times 10^{-324}$$\n",
        "\n",
        "$\\bf{e)}$ El espaciamiento máximo es $$\\beta^{U}\\epsilon_\\text{mach} = 2^{1023}2^{-52} = \\boxed{2^{971}} \\approx 2\\times10^{292}$$\n",
        "\n",
        "$\\bf{f)}$ El número de enteros es $$2(\\beta-1)\\left(\\beta^\\tau - 1 + \\big[U - (\\tau - 1)\\big]\\beta^{\\tau-1}\\right) + 1$$\n",
        "\n",
        "$$\\boxed{2\\big[2^{53} - 1 + (971)2^{52}\\big] + 1} \\approx 8.8 \\times 10^{18}$$\n",
        "\n",
        "<!-- $$(\\beta - \\epsilon_\\text{mach})\\beta^n + \\big[U - (\\tau - 1)\\big]\\dfrac{\\beta-1}{\\epsilon_\\text{mach}}$$\n",
        "\n",
        "Como $z = \\dfrac{\\beta-1}{\\epsilon_\\text{mach}} = 2^{52}$, entonces $n = \\dfrac{\\log z}{\\log\\beta} = \\dfrac{\\log 2^{52}}{\\log 2} = 52$, por lo tanto\n",
        "\n",
        "$$(\\beta - \\epsilon_\\text{mach})\\beta^n = (2-2^{-52})2^{52} = 2^{53} - 1$$\n",
        "y\n",
        "$$\\big[U - (\\tau - 1)\\big]\\dfrac{\\beta-1}{\\epsilon_\\text{mach}} = (1024 - 52)\\dfrac{1}{2^{-52}} = (971)2^{52}$$\n",
        "es decir, hay\n",
        "$$\\boxed{2^{53} - 1 + (971)2^{52}} = 4,386,506,037,058,863,103 \\approx 4.4 \\times 10^{18}$$\n",
        "enteros. -->"
      ]
    },
    {
      "cell_type": "code",
      "execution_count": null,
      "metadata": {
        "id": "h_CMrSStyVKj",
        "outputId": "83b11c67-fa6f-44a8-d304-7a15d2441402"
      },
      "outputs": [
        {
          "data": {
            "text/plain": [
              "5e-324"
            ]
          },
          "execution_count": 10,
          "metadata": {},
          "output_type": "execute_result"
        }
      ],
      "source": [
        "(2**-1022)*(2**-52)"
      ]
    },
    {
      "cell_type": "code",
      "execution_count": null,
      "metadata": {
        "id": "9FkqwF46yVKk",
        "outputId": "fdbe932e-7066-45d0-f037-7459364b0215"
      },
      "outputs": [
        {
          "data": {
            "text/plain": [
              "5e-324"
            ]
          },
          "execution_count": 11,
          "metadata": {},
          "output_type": "execute_result"
        }
      ],
      "source": [
        "2**-1074"
      ]
    },
    {
      "cell_type": "code",
      "execution_count": null,
      "metadata": {
        "id": "zxTNLjd7yVKl",
        "outputId": "066c1dfe-7fd2-413b-bb75-fe51e1c3a529"
      },
      "outputs": [
        {
          "data": {
            "text/plain": [
              "'0.000000000000000000000000000000000000000000000000000000000000000000000000000000000000000000000000000000000000000000000000000000000000000000000000000000000000000000000000000000000000000000000000000000000000000000000000000000000000000000000000000000000000000000000000000000000000000000000000000000000000000000000000000000000004940656458412465441765687928682213723650598026143247644255856825006755072702087518652998363616359923797965646954457177309266567103559397963987747960107818781263007131903114045278458171678489821036887186360569987307230500063874091535649843873124733972731696151400317153853980741262385655911710266585566867681870395603106249319452715914924553293054565444011274801297099995419319894090804165633245247571478690147267801593552386115501348035264934720193790268107107491703332226844753335720832431936092382893458368060106011506169809753078342277318329247904982524730776375927247874656084778203734469699533647017972677717585125660551199131504891101451037862738167250955837389733598993664809941164205702637090279242767544565229087538682506419718265533447265625000000'"
            ]
          },
          "execution_count": 12,
          "metadata": {},
          "output_type": "execute_result"
        }
      ],
      "source": [
        "format(2**-1074,'.1080f')"
      ]
    },
    {
      "cell_type": "code",
      "execution_count": null,
      "metadata": {
        "id": "oNRivV3byVKm",
        "outputId": "a0ebdeed-6823-4655-ba2c-d3393b5b2786"
      },
      "outputs": [
        {
          "data": {
            "text/plain": [
              "19958403095347198116563727130368385660674512604354575415025472424372118918689640657849579654926357010893424468441924952439724379883935936607391717982848314203200056729510856765175377214443629871826533567445439239933308104551208703888888552684480441575071209068757560416423584952303440099278848"
            ]
          },
          "execution_count": 13,
          "metadata": {},
          "output_type": "execute_result"
        }
      ],
      "source": [
        "2**971"
      ]
    },
    {
      "cell_type": "code",
      "execution_count": null,
      "metadata": {
        "id": "FY9JU1TByVKm",
        "outputId": "38b7c809-5fda-40d1-ea86-5d1885c9b599"
      },
      "outputs": [
        {
          "data": {
            "text/plain": [
              "'2.0E+292'"
            ]
          },
          "execution_count": 14,
          "metadata": {},
          "output_type": "execute_result"
        }
      ],
      "source": [
        "format(2**971,'.1E')"
      ]
    },
    {
      "cell_type": "code",
      "execution_count": null,
      "metadata": {
        "id": "-wpGuyW2yVKn",
        "outputId": "f7149df4-d0ed-47af-c931-cca493cd308c"
      },
      "outputs": [
        {
          "data": {
            "text/plain": [
              "8764004874862985215"
            ]
          },
          "execution_count": 15,
          "metadata": {},
          "output_type": "execute_result"
        }
      ],
      "source": [
        "2*(2**53-1 + 971*2**52)+1"
      ]
    },
    {
      "cell_type": "code",
      "execution_count": null,
      "metadata": {
        "id": "ruGTaeo_yVKo",
        "outputId": "f3704e41-9295-4da0-a158-da0df96d077f"
      },
      "outputs": [
        {
          "data": {
            "text/plain": [
              "'8.8E+18'"
            ]
          },
          "execution_count": 16,
          "metadata": {},
          "output_type": "execute_result"
        }
      ],
      "source": [
        "format(2*(2**53-1 + 971*2**52)+1,'.1E')"
      ]
    },
    {
      "cell_type": "markdown",
      "metadata": {
        "id": "FuCQ-iUqyVKo"
      },
      "source": [
        "$ $\n",
        "\n",
        "**3.** Realice la deducción del valor de la unidad de redondeo en notación normalizada\n",
        "\n",
        "<!-- Para un sistema de punto flotante $fl(\\beta,\\tau,L,U)$, la forma no normalizada del número de punto flotante es\n",
        "\n",
        "$$ x = \\pm d_0.d_1 \\cdots d_{\\tau-1} \\times \\beta^E$$\n",
        "\n",
        "La forma normalizada del punto flotante se obtiene multiplicando por $\\dfrac{\\beta}{\\beta}$\n",
        "\n",
        "$$x = \\pm 0.d_0 d_1 \\cdots d_{\\tau-1} \\times \\beta^{E+1}$$\n",
        "\n",
        "Renombrando los subíndices se tiene\n",
        "\n",
        "$$x = \\pm 0.d_1 d_2 \\cdots d_\\tau \\times \\beta^{E+1} = \\pm \\left(\\dfrac{d_1}{\\beta} + \\dfrac{d_2}{\\beta^2} + \\cdots + \\dfrac{d_\\tau}{\\beta^\\tau} \\right) \\times \\beta^{E+1}$$\n",
        "\n",
        "Si $x \\in \\mathbb{F}$ es la representación en punto flotante truncada de $a \\in \\mathbb{R}$, entonces su forma en notación normalizada es\n",
        "\n",
        "$$a = \\pm 0.d_1 \\cdots d_{\\tau-1}d_{\\tau}d_{\\tau+1} \\cdots \\times \\beta^{E+1}$$\n",
        "\n",
        "La función de redondeo lo que hace es que si el dígito $d_{\\tau+1}$ de $a$ es tal que $d_{\\tau+1} \\geq \\dfrac{\\beta}{2}$, entonces $d_{\\tau}$ se incrementa en una unidad, pero si $d_{\\tau+1} < \\dfrac{\\beta}{2}$, entonces $d_{\\tau}$ conserva su valor\n",
        "\n",
        "Esto es equivalente a sumar $a + \\dfrac{1}{2\\beta^{\\tau}}$ y truncar en $d_\\tau$, pues si $d_{\\tau+1} < \\dfrac{\\beta}{2}$, entonces $a + \\dfrac{1}{2\\beta^{\\tau}}$ no cambia el valor de $d_\\tau$, mientras que si $d_{\\tau+1} \\geq \\dfrac{\\beta}{2}$, entonces $a + \\dfrac{1}{2\\beta^{\\tau}}$ incrementa el valor de $d_\\tau$ en una unidad\n",
        "\n",
        "Por lo tanto, $fl\\left(a + \\dfrac{1}{2\\beta^{\\tau}}\\right) = fl\\left(a + \\dfrac{1}{2}\\beta^{-\\tau}\\right) = x + \\dfrac{1}{\\beta^{\\tau}} > a$\n",
        "\n",
        "Mientras que para todo $\\delta > 0$ tal que $\\delta < \\dfrac{1}{2}\\beta^{-\\tau}$, $fl(a + \\delta) = x \\leq a$\n",
        "\n",
        "Por lo tanto, definimos a la unidad de redondeo en notación normalizada como\n",
        "\n",
        "$$\\epsilon_\\text{mach} = \\dfrac{1}{2}\\beta^{-\\tau}$$\n",
        "\n",
        "$ $ -->"
      ]
    },
    {
      "cell_type": "markdown",
      "metadata": {
        "id": "sKVm8S-QyVKp"
      },
      "source": [
        "El error relativo satisface: $$\\left| \\dfrac{y - fl(y)}{y} \\right| \\leq \\epsilon_\\text{mach}$$\n",
        "\n",
        "Para un sitema de punto flotante $(10,k,L,U)$ con exponente $n \\in \\mathbb{Z}$ tal que $L \\leq n \\leq U$, en la forma normalizada alternativa esto se ve como\n",
        "\n",
        "$$\\left| \\dfrac{y - fl(y)}{y} \\right| = \\left| \\dfrac{0.d_{k+1} d_{k+2} \\cdots \\times 10^{n-k}}{0.d_1 \\cdots d_{k+1} \\cdots \\times 10^{n}} \\right| = \\left| \\dfrac{0.d_{k+1} \\cdots }{0.d_1 \\cdots d_{k+1} \\cdots} \\right|\\times 10^{-k}$$\n",
        "\n",
        "donde la cota superior del numerador es $1/2$, pues a partir de $0.5 \\times 10^{-k}$, $d_k$ aumenta en una unidad, y la cota inferior del denominador es $0.1$ pues $d_1 > 0$\n",
        "\n",
        "Entonces la unidad de redondeo está dada por $$\\left| \\dfrac{y - fl(y)}{y} \\right| \\leq \\dfrac{1/2}{0.1} \\times 10^{-k} = \\dfrac{1}{2}10^{1-k}$$\n",
        "\n",
        "Por lo tanto $\\epsilon_\\text{mach} = 5\\times10^{-k}$ en base $10$, y $\\epsilon_\\text{mach} = 2^{-k}$ en base $2$. En general\n",
        "\n",
        "$$\\boxed{ \\epsilon_\\text{mach} = \\dfrac{1}{2}\\beta^{1-k} }$$\n",
        "\n",
        "$ $"
      ]
    },
    {
      "cell_type": "code",
      "execution_count": null,
      "metadata": {
        "id": "lRNVSxLsyVKp",
        "outputId": "62fa3bc3-3d6f-4ac5-e87d-776fe67a8d4a"
      },
      "outputs": [
        {
          "data": {
            "text/plain": [
              "0.05"
            ]
          },
          "execution_count": 17,
          "metadata": {},
          "output_type": "execute_result"
        }
      ],
      "source": [
        "0.5*10**-1 #ϵ"
      ]
    },
    {
      "cell_type": "code",
      "execution_count": null,
      "metadata": {
        "id": "nqAV0uOOyVKp",
        "outputId": "8c27c5c7-f7fe-4b55-e5a8-7480d83df30d"
      },
      "outputs": [
        {
          "data": {
            "text/plain": [
              "0.04999000000000001"
            ]
          },
          "execution_count": 18,
          "metadata": {},
          "output_type": "execute_result"
        }
      ],
      "source": [
        "y=0.14999\n",
        "x=0.14999-0.1 #= 0.049\n",
        "x"
      ]
    },
    {
      "cell_type": "code",
      "execution_count": null,
      "metadata": {
        "id": "30h1YFEFyVKq",
        "outputId": "e951cd94-4f00-4c86-bf56-a23bc5d1d764"
      },
      "outputs": [
        {
          "data": {
            "text/plain": [
              "0.3332888859257284"
            ]
          },
          "execution_count": 19,
          "metadata": {},
          "output_type": "execute_result"
        }
      ],
      "source": [
        "x/y"
      ]
    },
    {
      "cell_type": "markdown",
      "metadata": {
        "id": "wuEu4DKVyVKq"
      },
      "source": [
        "**4.** Considerar el sistema de números de punto flotante $fl(\\beta,t,L,U)$. Dado que la unidad de redondeo está dada por\n",
        "$u = \\dfrac{1}{2}\\beta^{1-t}$, si $\\alpha > 0$ es el elemento más chico en $fl(\\beta,t,L,U)$, ¿es cierto que $u < \\alpha$?\n",
        "\n",
        "El elemento positivo más chico es $\\alpha = \\beta^L$, así que depende del valor de $L$. Para $L \\geq 1-t \\in \\mathbb{Z}$ se tiene que $u < \\alpha$, pero para $L < 1-t$ se tiene que $u \\geq \\alpha$, donde la igualdad se da cuando $\\beta = 2$ y $L = -t$\n",
        "\n",
        "$ $"
      ]
    },
    {
      "cell_type": "markdown",
      "metadata": {
        "id": "KGtX-MO6yVKq"
      },
      "source": [
        "**5.** En una Aritmética de Punto Flotante (APF) de 4 dígitos significativos con redondeo, hallar la solución positiva más chica de la ecuación:\n",
        "\n",
        "$$fl(23.45 + a) = a$$\n",
        "\n",
        "En notación normalizada, $23.45 = 0.2345 \\times 10^2$, así que el número positivo más chico que cumple la ecuación es $\\boxed{a = 10^5}$, pues\n",
        "\n",
        "$$fl(23.45 + 100,000) = fl(0.10002345 \\times 10^6) = 0.1 \\times 10^6 = 10^5 = a$$\n",
        "\n",
        "$ $"
      ]
    },
    {
      "cell_type": "markdown",
      "metadata": {
        "id": "bW62WNIHyVKr"
      },
      "source": [
        "**6.** En una APF de 4 dígitos con redondeo, hallar la solución positivo más grande de la ecuación\n",
        "\n",
        "$$fl(23.46 + b) = 23.46$$\n",
        "\n",
        "En notación normalizada, $23.46 = 0.2346 \\times 10^2$, así que el número positivo más grande que cumple la ecuación es $\\boxed{b = 0.004\\bar{9} }$, donde $\\bar{9}$ indica que hay un número infinito de decimales con valor $9$ después del $4$, pues\n",
        "\n",
        "$$fl(23.46 + 0.004\\bar{9}) = fl(23.464\\bar{9}) = 0.2346 \\times 10^2 = 23.46$$\n",
        "\n",
        "$ $"
      ]
    },
    {
      "cell_type": "markdown",
      "metadata": {
        "id": "wqZK_qNNyVKr"
      },
      "source": [
        "**7.** En una APF de 3 dígitos con redondeo:\n",
        "\n",
        "**a)** Calcula la suma de 1050, 44, 3, 4, 9910, 38, 49, 48, 547 y 145. ¿Cuál es el error relativo de tu resultado? ¿Cuántas cifras de tu resultado son correctas?\n",
        "\n",
        "$\\epsilon_\\text{mach} = \\dfrac{1}{2}\\beta^{1-p} = 5\\times10^{-3} = 0.005$\n",
        "\n",
        "$fl(1050 + 44) = fl(1094) = 1.09 \\times 10^3 = 1090$\n",
        "\n",
        "$fl(1090 + 3) = fl(1093) = 1.09 \\times 10^3 = 1090$\n",
        "\n",
        "$fl(1090 + 4) = fl(1094) = 1.09 \\times 10^3 = 1090$\n",
        "\n",
        "$fl(1090 + 9910) = fl(11000) = 1.1 \\times 10^4 = 11000$\n",
        "\n",
        "$fl(11000 + 38) = fl(11038) = 1.1 \\times 10^4 = 11000$\n",
        "\n",
        "$fl(11000 + 49) = fl(11049) = 1.1 \\times 10^4 = 11000$\n",
        "\n",
        "$fl(11000 + 48) = fl(11048) = 1.1 \\times 10^4 = 11000$\n",
        "\n",
        "$fl(11000 + 547) = fl(11547) = 1.15 \\times 10^4 = 11500$\n",
        "\n",
        "$fl(11500 + 145) = fl(11645) = 1.16 \\times 10^4 = 11600$\n",
        "\n",
        "La suma real es 11838, así que solo 2 cifras son correctas\n",
        "\n",
        "El error relativo es $$\\left| \\dfrac{y - fl(y)}{y} \\right| = \\left| \\dfrac{11838 - 11600}{11838} \\right| \\approx 2 \\times 10^{-2}$$\n",
        "\n",
        "$ $\n",
        "\n",
        "**b)** Repite el inciso anterior, pero sumando del número menor al mayor. Comenta.\n",
        "\n",
        "$fl(3+4) = fl(7) = 7 $\n",
        "\n",
        "$fl(7+38) = fl(45) = 4.5 \\times 10 = 45$\n",
        "\n",
        "$fl(45+44) = fl([0.38 + 0.44]\\times 10^2) = 0.89 \\times 10^2 = 89$\n",
        "\n",
        "$fl(89+48) = fl([0.89 + 0.48]\\times 10^2) = 0.137 \\times 10^3 = 137$\n",
        "\n",
        "$fl(137+49) = fl([0.137 + 0.049]\\times 10^3) = 0.186 \\times 10^3 = 186$\n",
        "\n",
        "$fl(186+145) = fl([0.186 + 0.145]\\times 10^3) = 0.331 \\times 10^3 = 331$\n",
        "\n",
        "$fl(331+547) = fl([0.331 + 0.547]\\times 10^3) = 0.878 \\times 10^3 = 878$\n",
        "\n",
        "$fl(878+1050) = fl([0.0878 + 0.105]\\times 10^4) = 0.193 \\times 10^4 = 1930$\n",
        "\n",
        "$fl(1930+9910) = fl([0.193 + 0.991]\\times 10^4) = 0.118 \\times 10^4 = 11800$\n",
        "\n",
        "<!-- $$\n",
        "fl(1050+44+3+4+9910+38+49+48+547+145) \\\\\n",
        "= fl([ 0.105+0.0044+0.0003+0.0004+0.991+0.0038+0.0049+0.0048+0.0547+0.0145 ]\\times 10^4) \\\\\n",
        "= fl([ 0.105+0.004+0+0+0.991+0.004+0.005+0.005+0.055+0.015 ]\\times 10^4) \\\\\n",
        "= fl( 0.1184 \\times 10^5 ) = 11800\n",
        "$$ -->\n",
        "\n",
        "Ahora 3 cifras son correctas y el error relativo es $$\\left| \\dfrac{y - fl(y)}{y} \\right| = \\left| \\dfrac{11838 - 11800}{11838} \\right| \\approx 3.21 \\times 10^{-3}$$\n",
        "\n",
        "Este error es casi 9 veces más pequeño que el anterior, ya que al juntar números de orden similar su representación en punto flotante es más cercana y se pierden menos cifras significativas\n",
        "\n",
        "$ $"
      ]
    },
    {
      "cell_type": "code",
      "execution_count": null,
      "metadata": {
        "id": "rHWPp6SpyVKr",
        "outputId": "79d6a858-53c7-4f23-a328-b954b452bb0a"
      },
      "outputs": [
        {
          "data": {
            "text/plain": [
              "11838"
            ]
          },
          "execution_count": 20,
          "metadata": {},
          "output_type": "execute_result"
        }
      ],
      "source": [
        "1050+44+3+4+9910+38+49+48+547+145"
      ]
    },
    {
      "cell_type": "code",
      "execution_count": null,
      "metadata": {
        "id": "EdwV0-8AyVKs",
        "outputId": "9fa720fe-2c1e-4c51-e66a-ff7787f9d788"
      },
      "outputs": [
        {
          "data": {
            "text/plain": [
              "878"
            ]
          },
          "execution_count": 21,
          "metadata": {},
          "output_type": "execute_result"
        }
      ],
      "source": [
        "3+4+38+44+48+49+145+547"
      ]
    },
    {
      "cell_type": "code",
      "execution_count": null,
      "metadata": {
        "id": "PDEFhKtsyVKs",
        "outputId": "935ac51f-9fbf-4697-da50-0342024664f2"
      },
      "outputs": [
        {
          "data": {
            "text/plain": [
              "0.0032100016894745734"
            ]
          },
          "execution_count": 22,
          "metadata": {},
          "output_type": "execute_result"
        }
      ],
      "source": [
        "(11838 - 11800)/11838"
      ]
    },
    {
      "cell_type": "code",
      "execution_count": null,
      "metadata": {
        "id": "6VBF4yHqyVKs",
        "outputId": "231db906-63ad-43ee-ab42-c593d5d08e9a"
      },
      "outputs": [
        {
          "data": {
            "text/plain": [
              "0.020104747423551277"
            ]
          },
          "execution_count": 23,
          "metadata": {},
          "output_type": "execute_result"
        }
      ],
      "source": [
        "(11838 - 11600)/11838"
      ]
    },
    {
      "cell_type": "code",
      "execution_count": null,
      "metadata": {
        "id": "4P0MbZVYyVKt",
        "outputId": "96128978-ebaa-458e-dc87-59b35d82f20a"
      },
      "outputs": [
        {
          "data": {
            "text/plain": [
              "0.0285"
            ]
          },
          "execution_count": 24,
          "metadata": {},
          "output_type": "execute_result"
        }
      ],
      "source": [
        "round(0.02855,4)"
      ]
    },
    {
      "cell_type": "markdown",
      "metadata": {
        "id": "L6YPMuKuyVKt"
      },
      "source": [
        "$ $\n",
        "\n",
        "**8.** Empleando una APF de 2 dígitos con redondeo, encuentre\n",
        "\n",
        "$S = \\sum\\limits_{n=1}^\\infty \\dfrac{1}{n}$\n",
        "\n",
        "Si no tuviéramos la APF de 2 dígitos con redondeo, entonces la suma se detendría cuando $\\dfrac{1}{n}$ se vuelve despreciable en comparación con la suma parcial, i.e.\n",
        "$$\\dfrac{1}{n} < \\epsilon_\\text{mach} \\sum\\limits_{k=1}^{n-1} \\dfrac{1}{k}$$"
      ]
    },
    {
      "cell_type": "code",
      "execution_count": null,
      "metadata": {
        "id": "r3md9BoRyVKt",
        "outputId": "4124d6ea-0c52-4749-9031-751213b2d4f9"
      },
      "outputs": [
        {
          "data": {
            "text/plain": [
              "5.960464477539063e-08"
            ]
          },
          "execution_count": 251,
          "metadata": {},
          "output_type": "execute_result"
        }
      ],
      "source": [
        "# Para single precision, el ϵ_mach es\n",
        "2**-24"
      ]
    },
    {
      "cell_type": "code",
      "execution_count": null,
      "metadata": {
        "scrolled": true,
        "id": "AfiVMLxxyVKu",
        "outputId": "81bee8f7-debc-4caa-a95c-7ed65254d964"
      },
      "outputs": [
        {
          "data": {
            "text/plain": [
              "array(15.403683, dtype=float32)"
            ]
          },
          "execution_count": 387,
          "metadata": {},
          "output_type": "execute_result"
        }
      ],
      "source": [
        "eps=2**-24\n",
        "x=0\n",
        "y=[]\n",
        "i=1\n",
        "while 1/i > eps*x/2:\n",
        "    x = np.array(x + 1/i,'f') #dtype='float32'\n",
        "    y.append(x)\n",
        "    i = i+1\n",
        "x"
      ]
    },
    {
      "cell_type": "code",
      "execution_count": null,
      "metadata": {
        "id": "LL_piKshyVKu",
        "outputId": "985487d2-d690-4e4f-b19a-8cd9a3b53ccd"
      },
      "outputs": [
        {
          "data": {
            "text/plain": [
              "2135625"
            ]
          },
          "execution_count": 347,
          "metadata": {},
          "output_type": "execute_result"
        }
      ],
      "source": [
        "len(y)"
      ]
    },
    {
      "cell_type": "code",
      "execution_count": null,
      "metadata": {
        "id": "EqdKZHRTyVKv",
        "outputId": "c658abd2-500c-4314-c605-f191d2022f62"
      },
      "outputs": [
        {
          "data": {
            "text/plain": [
              "4.590655811907978e-07"
            ]
          },
          "execution_count": 380,
          "metadata": {},
          "output_type": "execute_result"
        }
      ],
      "source": [
        "1/len(y)"
      ]
    },
    {
      "cell_type": "code",
      "execution_count": null,
      "metadata": {
        "id": "PbrYjN9gyVKv",
        "outputId": "d40fd4e7-084f-42d5-da43-3db883ac8a47"
      },
      "outputs": [
        {
          "data": {
            "text/plain": [
              "9.181310360872885e-07"
            ]
          },
          "execution_count": 383,
          "metadata": {},
          "output_type": "execute_result"
        }
      ],
      "source": [
        "eps*x"
      ]
    },
    {
      "cell_type": "code",
      "execution_count": null,
      "metadata": {
        "id": "526h1qpeyVKw",
        "outputId": "b239c6a2-6344-46ef-f4b1-415c0691b462"
      },
      "outputs": [
        {
          "data": {
            "text/plain": [
              "[array(15.403678, dtype=float32),\n",
              " array(15.403679, dtype=float32),\n",
              " array(15.40368, dtype=float32),\n",
              " array(15.403681, dtype=float32),\n",
              " array(15.403682, dtype=float32),\n",
              " array(15.403683, dtype=float32),\n",
              " array(15.403683, dtype=float32),\n",
              " array(15.403683, dtype=float32),\n",
              " array(15.403683, dtype=float32),\n",
              " array(15.403683, dtype=float32)]"
            ]
          },
          "execution_count": 379,
          "metadata": {},
          "output_type": "execute_result"
        }
      ],
      "source": [
        "y[2097145:2097155]"
      ]
    },
    {
      "cell_type": "code",
      "execution_count": null,
      "metadata": {
        "id": "hqc-jcy0yVKw",
        "outputId": "84db90b1-01bb-4bbf-9e48-d48b8ec92a33"
      },
      "outputs": [
        {
          "data": {
            "text/plain": [
              "array(15.403683, dtype=float32)"
            ]
          },
          "execution_count": 391,
          "metadata": {},
          "output_type": "execute_result"
        }
      ],
      "source": [
        "y[2097150]"
      ]
    },
    {
      "cell_type": "code",
      "execution_count": null,
      "metadata": {
        "id": "l7k6w5zIyVKw",
        "outputId": "96ef56f6-6001-426b-d4b8-14ac13081ed0"
      },
      "outputs": [
        {
          "data": {
            "text/plain": [
              "4.768376129509096e-07"
            ]
          },
          "execution_count": 397,
          "metadata": {},
          "output_type": "execute_result"
        }
      ],
      "source": [
        "1/2097150"
      ]
    },
    {
      "cell_type": "code",
      "execution_count": null,
      "metadata": {
        "id": "I_foAW3YyVKw",
        "outputId": "9d650b9f-24cd-44bb-d6ca-a45a19ff00c9"
      },
      "outputs": [
        {
          "data": {
            "text/plain": [
              "4.5906551804364426e-07"
            ]
          },
          "execution_count": 393,
          "metadata": {},
          "output_type": "execute_result"
        }
      ],
      "source": [
        "eps*x/2"
      ]
    },
    {
      "cell_type": "markdown",
      "metadata": {
        "id": "jiIMpQK0yVKx"
      },
      "source": [
        "Pero como aquí tenemos la APF de 2 dígitos con redondeo, entonces la suma parcial se detiene cuando\n",
        "\n",
        "$\\dfrac{1}{n} < \\epsilon_\\text{mach} = \\dfrac{1}{2}\\beta^{1-p}$\n",
        "\n",
        "en este caso $\\beta = 10$ y $p=2$, entonces\n",
        "\n",
        "$\\epsilon_\\text{mach} = \\dfrac{1}{2}10^{-1} = \\dfrac{1}{20} = 0.05$\n",
        "\n",
        "Si $\\dfrac{1}{n} < \\epsilon_\\text{mach}$ entonces $n > \\dfrac{1}{\\epsilon_\\text{mach}} = 20$, por lo que el último término que aporta algo a la suma es $n=20$\n",
        "\n",
        "A continuación se implementa esta idea numéricamente"
      ]
    },
    {
      "cell_type": "code",
      "execution_count": null,
      "metadata": {
        "id": "NcNLisnRyVKx",
        "outputId": "08ed00c2-c6e7-42da-b4c7-fc9f345258d6"
      },
      "outputs": [
        {
          "data": {
            "text/plain": [
              "3.8"
            ]
          },
          "execution_count": 220,
          "metadata": {},
          "output_type": "execute_result"
        }
      ],
      "source": [
        "p=2\n",
        "x=0\n",
        "y=[]\n",
        "for i in range(1,2*10**(p-1)+5): # La n crítica es 2*10**(p-1)\n",
        "    x = round(x + round(1/i,p-1),p-1)\n",
        "    y.append(x)\n",
        "x"
      ]
    },
    {
      "cell_type": "code",
      "execution_count": null,
      "metadata": {
        "id": "0os5TIfqyVKx"
      },
      "outputs": [],
      "source": [
        "def ϵ_mach(β,p):\n",
        "    ϵ = (1/2)*β**(1-p)\n",
        "    return ϵ,2*β**(p-1) #1/ϵ"
      ]
    },
    {
      "cell_type": "code",
      "execution_count": null,
      "metadata": {
        "id": "waNC7nVyyVKy",
        "outputId": "cb9724cc-9d83-4514-f66d-38118b711ed5"
      },
      "outputs": [
        {
          "data": {
            "text/plain": [
              "(0.05, 20)"
            ]
          },
          "execution_count": 27,
          "metadata": {},
          "output_type": "execute_result"
        }
      ],
      "source": [
        "ϵ_mach(10,2)"
      ]
    },
    {
      "cell_type": "code",
      "execution_count": null,
      "metadata": {
        "id": "cwT4mOGnyVKy",
        "outputId": "f3829cd8-a3e5-4134-82db-640a7c1ae90f"
      },
      "outputs": [
        {
          "data": {
            "text/plain": [
              "[3.7, 3.8]"
            ]
          },
          "execution_count": 28,
          "metadata": {},
          "output_type": "execute_result"
        }
      ],
      "source": [
        "y[18:20] #y[19] es el vigésimo elemento, pues la cuenta empieza en 0"
      ]
    },
    {
      "cell_type": "code",
      "execution_count": null,
      "metadata": {
        "id": "bUnDUV_oyVKy",
        "outputId": "4738b71c-ea62-4dd2-af96-0b9fa9acc26c"
      },
      "outputs": [
        {
          "data": {
            "text/plain": [
              "0.0"
            ]
          },
          "execution_count": 29,
          "metadata": {},
          "output_type": "execute_result"
        }
      ],
      "source": [
        "round(0.049,1)"
      ]
    },
    {
      "cell_type": "code",
      "execution_count": null,
      "metadata": {
        "scrolled": true,
        "id": "GLJStmuIyVKz",
        "outputId": "ff199d7e-f01d-464c-fe91-b65d7ad2f843"
      },
      "outputs": [
        {
          "data": {
            "text/plain": [
              "1.0"
            ]
          },
          "execution_count": 30,
          "metadata": {},
          "output_type": "execute_result"
        }
      ],
      "source": [
        "round(1.049,1)"
      ]
    },
    {
      "cell_type": "code",
      "execution_count": null,
      "metadata": {
        "scrolled": false,
        "id": "KbYybg6kyVKz",
        "outputId": "bdcd4411-54f1-481b-b4e2-bad2dd573b48"
      },
      "outputs": [
        {
          "data": {
            "text/plain": [
              "[1.0,\n",
              " 1.5,\n",
              " 1.8,\n",
              " 2.0,\n",
              " 2.2,\n",
              " 2.4,\n",
              " 2.5,\n",
              " 2.6,\n",
              " 2.7,\n",
              " 2.8,\n",
              " 2.9,\n",
              " 3.0,\n",
              " 3.1,\n",
              " 3.2,\n",
              " 3.3,\n",
              " 3.4,\n",
              " 3.5,\n",
              " 3.6,\n",
              " 3.7,\n",
              " 3.8,\n",
              " 3.8,\n",
              " 3.8,\n",
              " 3.8,\n",
              " 3.8,\n",
              " 3.8]"
            ]
          },
          "execution_count": 31,
          "metadata": {},
          "output_type": "execute_result"
        }
      ],
      "source": [
        "y"
      ]
    },
    {
      "cell_type": "code",
      "execution_count": null,
      "metadata": {
        "id": "fFbScsAYyVKz",
        "outputId": "87fe13bd-21e7-492b-9d47-3d03f84c506a"
      },
      "outputs": [
        {
          "data": {
            "text/plain": [
              "25"
            ]
          },
          "execution_count": 32,
          "metadata": {},
          "output_type": "execute_result"
        }
      ],
      "source": [
        "len(y)"
      ]
    },
    {
      "cell_type": "markdown",
      "metadata": {
        "id": "v7DM9WZ8yVKz"
      },
      "source": [
        "Por lo tanto, empleando una APF de 2 dígitos con redondeo $$\\sum\\limits_{n=1}^\\infty \\dfrac{1}{n} = \\sum\\limits_{n=1}^{20} \\dfrac{1}{n} = 3.8$$\n",
        "\n",
        "A continuación se presenta la misma suma con una APF de 3 dígitos con redondeo"
      ]
    },
    {
      "cell_type": "code",
      "execution_count": null,
      "metadata": {
        "id": "CuZLwzFiyVK0",
        "outputId": "65fd3ff8-d06d-4e75-cca3-ac791196a03c"
      },
      "outputs": [
        {
          "data": {
            "text/plain": [
              "(0.005, 200)"
            ]
          },
          "execution_count": 33,
          "metadata": {},
          "output_type": "execute_result"
        }
      ],
      "source": [
        "ϵ_mach(10,3)"
      ]
    },
    {
      "cell_type": "code",
      "execution_count": null,
      "metadata": {
        "id": "Xz8xOytwyVK0",
        "outputId": "99e9c62d-2924-44ef-c0f8-8608a7808a61"
      },
      "outputs": [
        {
          "data": {
            "text/plain": [
              "6.15"
            ]
          },
          "execution_count": 219,
          "metadata": {},
          "output_type": "execute_result"
        }
      ],
      "source": [
        "p=3\n",
        "x=0\n",
        "y=[]\n",
        "for i in range(1,2*10**(p-1)+5): # La n crítica es 2*10**(p-1)\n",
        "    x = round(x + round(1/i,p-1),p-1) # n = i+1 corre de 1 a 500\n",
        "    y.append(x)\n",
        "x"
      ]
    },
    {
      "cell_type": "code",
      "execution_count": null,
      "metadata": {
        "id": "zc5UDYmLyVK0",
        "outputId": "4a65f3f3-39a8-4a71-8895-dffa613d5dbf"
      },
      "outputs": [
        {
          "data": {
            "text/plain": [
              "205"
            ]
          },
          "execution_count": 35,
          "metadata": {},
          "output_type": "execute_result"
        }
      ],
      "source": [
        "len(y)"
      ]
    },
    {
      "cell_type": "code",
      "execution_count": null,
      "metadata": {
        "id": "VZzYL1IayVK1",
        "outputId": "9a3211c4-24a5-455c-a6ee-31c44d9a8ece"
      },
      "outputs": [
        {
          "data": {
            "text/plain": [
              "[6.11, 6.12, 6.13, 6.14, 6.15, 6.15, 6.15, 6.15, 6.15, 6.15]"
            ]
          },
          "execution_count": 36,
          "metadata": {},
          "output_type": "execute_result"
        }
      ],
      "source": [
        "y[195:205] #Se detiene a partir de n = 200 = i+1, i = 199"
      ]
    },
    {
      "cell_type": "markdown",
      "metadata": {
        "id": "FcoHnPdpyVK1"
      },
      "source": [
        "$ $\n",
        "\n",
        "**Error por cancelación en la serie de $e^x$**"
      ]
    },
    {
      "cell_type": "code",
      "execution_count": null,
      "metadata": {
        "id": "R37pwUBsyVK1"
      },
      "outputs": [],
      "source": [
        "import math\n",
        "from math import factorial as fact"
      ]
    },
    {
      "cell_type": "code",
      "execution_count": null,
      "metadata": {
        "id": "-hBeaH5AyVK1"
      },
      "outputs": [],
      "source": [
        "def exp(x):\n",
        "    t=0\n",
        "    y=[]\n",
        "    z=[]\n",
        "    for i in range(40):\n",
        "        t = round(t + round((x**i)/fact(i),5),5)\n",
        "        z.append(round((x**i)/fact(i),5))\n",
        "    return z,t"
      ]
    },
    {
      "cell_type": "code",
      "execution_count": null,
      "metadata": {
        "id": "_31SaoVCyVK2",
        "outputId": "dfa7e744-9feb-44cd-8ff8-7e7af00d590b"
      },
      "outputs": [
        {
          "data": {
            "text/plain": [
              "([1.0,\n",
              "  10.0,\n",
              "  50.0,\n",
              "  166.66667,\n",
              "  416.66667,\n",
              "  833.33333,\n",
              "  1388.88889,\n",
              "  1984.12698,\n",
              "  2480.15873,\n",
              "  2755.73192,\n",
              "  2755.73192,\n",
              "  2505.21084,\n",
              "  2087.6757,\n",
              "  1605.90438,\n",
              "  1147.07456,\n",
              "  764.71637,\n",
              "  477.94773,\n",
              "  281.14573,\n",
              "  156.19207,\n",
              "  82.20635,\n",
              "  41.10318,\n",
              "  19.57294,\n",
              "  8.89679,\n",
              "  3.86817,\n",
              "  1.61174,\n",
              "  0.6447,\n",
              "  0.24796,\n",
              "  0.09184,\n",
              "  0.0328,\n",
              "  0.01131,\n",
              "  0.00377,\n",
              "  0.00122,\n",
              "  0.00038,\n",
              "  0.00012,\n",
              "  3e-05,\n",
              "  1e-05,\n",
              "  0.0,\n",
              "  0.0,\n",
              "  0.0,\n",
              "  0.0],\n",
              " 22026.4658)"
            ]
          },
          "execution_count": 143,
          "metadata": {},
          "output_type": "execute_result"
        }
      ],
      "source": [
        "exp(10)"
      ]
    },
    {
      "cell_type": "code",
      "execution_count": null,
      "metadata": {
        "id": "n-ZwjkF0yVK2",
        "outputId": "96ef1b2b-c9f0-4dde-ed5c-a7ba1f31746f"
      },
      "outputs": [
        {
          "data": {
            "text/plain": [
              "22026.465794806718"
            ]
          },
          "execution_count": 40,
          "metadata": {},
          "output_type": "execute_result"
        }
      ],
      "source": [
        "math.exp(10)"
      ]
    },
    {
      "cell_type": "markdown",
      "metadata": {
        "id": "-VolH5Z1yVK2"
      },
      "source": [
        "$\\\\ $\n",
        "\n",
        "**9.** En una APF de 5 dígitos con redondeo, calcula el valor límite de la sucesión $s_{n+1} = fl(s_n+a)$,\n",
        "con $s_0 = 0$, para\n",
        "\n",
        "$a =$ 1, 5, 34, 51, 92, 467, 555, 891, 3267, 5675.\n",
        "\n",
        "$ $\n",
        "\n",
        "Veamos los términos de la sucesión:\n",
        "\n",
        "$s_1 = fl(s_0 + a) = fl(0 + a) = a(1 + \\delta_1)$, con $|\\delta_1| \\leq \\epsilon_\\text{mach}$\n",
        "\n",
        "$s_2 = fl(s_1 + a) = fl([a + a\\delta_1] + a) = (2a + a\\delta_1)(1 + \\delta_2) = 2a + 2a\\delta_2 + a\\delta_1 + a\\delta_1\\delta_2 \\approx 2a + 2a\\delta_2 + a\\delta_1$\n",
        "\n",
        "$s_3 = fl(s_2 + a) = (3a + 2a\\delta_2 + a\\delta_1)(1 + \\delta_3) \\approx 3a + 3a\\delta_3 + 2a\\delta_2 + a\\delta_1$\n",
        "\n",
        "$\\vdots$\n",
        "\n",
        "$s_{n} = fl(s_{n-1} + a) = (na + [n-1]a\\delta_{n-1} + \\cdots + 2a\\delta_2 + a\\delta_1)(1 + \\delta_n)$\n",
        "\n",
        "$\\qquad \\qquad \\qquad \\ \\ \\approx na + na\\delta_n + [n-1]a\\delta_{n-1} + \\cdots + 2a\\delta_2 + a\\delta_1 = na + (n\\delta_n + \\cdots + 2\\delta_2 + \\delta_1)a$\n",
        "\n",
        "y como $|\\delta_1 + 2\\delta_2 + \\cdots + n\\delta_n| \\leq \\dfrac{n(n+1)}{2}\\epsilon_\\text{mach}$\n",
        "\n",
        "entonces $$\\boxed{ s_{n} < \\left[n + \\dfrac{n(n+1)}{2}\\epsilon_\\text{mach}\\right]a }$$\n",
        "\n",
        "con $\\epsilon_\\text{mach} = \\dfrac{1}{2}\\beta^{1-p} = \\dfrac{1}{2}10^{-4} = 0.00005 = 5\\times10^{-5}$"
      ]
    },
    {
      "cell_type": "code",
      "execution_count": null,
      "metadata": {
        "id": "4C9weNt6yVK2",
        "outputId": "e9658151-115d-4ea5-bbc8-5d50b30e7c93"
      },
      "outputs": [
        {
          "data": {
            "text/plain": [
              "(5e-05, 20000)"
            ]
          },
          "execution_count": 10,
          "metadata": {},
          "output_type": "execute_result"
        }
      ],
      "source": [
        "ϵ = ϵ_mach(10,5)[0]\n",
        "ϵ , ϵ_mach(10,5)[1]"
      ]
    },
    {
      "cell_type": "code",
      "execution_count": null,
      "metadata": {
        "id": "2n_fYFT1yVK3"
      },
      "outputs": [],
      "source": [
        "import math"
      ]
    },
    {
      "cell_type": "code",
      "execution_count": null,
      "metadata": {
        "id": "Emvs6QC8yVK3"
      },
      "outputs": [],
      "source": [
        "#Esta función es para probar el método\n",
        "def presuc(a,r=10):\n",
        "    x=[]\n",
        "    for i in range(1,r+1):\n",
        "        s = ( i + (i*(i+1)/2)*5e-5 )*a\n",
        "        x.append(round(s,5))\n",
        "    return x"
      ]
    },
    {
      "cell_type": "code",
      "execution_count": null,
      "metadata": {
        "id": "SQBWnk94yVK3",
        "outputId": "e3450d14-0107-4adf-d1ea-3cf902a8ba48"
      },
      "outputs": [
        {
          "data": {
            "text/plain": [
              "[1.00005,\n",
              " 2.00015,\n",
              " 3.0003,\n",
              " 4.0005,\n",
              " 5.00075,\n",
              " 6.00105,\n",
              " 7.0014,\n",
              " 8.0018,\n",
              " 9.00225,\n",
              " 10.00275]"
            ]
          },
          "execution_count": 51,
          "metadata": {},
          "output_type": "execute_result"
        }
      ],
      "source": [
        "presuc(1)"
      ]
    },
    {
      "cell_type": "code",
      "execution_count": null,
      "metadata": {
        "id": "Ekq_oFoKyVK3",
        "outputId": "056df084-3fd9-4886-e5d2-595d72e6f47f"
      },
      "outputs": [
        {
          "data": {
            "text/plain": [
              "[9999.49995,\n",
              " 19999.49985,\n",
              " 29999.9997,\n",
              " 40000.9995,\n",
              " 50002.49925,\n",
              " 60004.49895,\n",
              " 70006.9986,\n",
              " 80009.9982,\n",
              " 90013.49775,\n",
              " 100017.49725]"
            ]
          },
          "execution_count": 52,
          "metadata": {},
          "output_type": "execute_result"
        }
      ],
      "source": [
        "presuc(9999)"
      ]
    },
    {
      "cell_type": "code",
      "execution_count": null,
      "metadata": {
        "id": "vyw7aroXyVK4"
      },
      "outputs": [],
      "source": [
        "#Esta función cuenta los dígitos de un número\n",
        "import math\n",
        "def dig(theNumber):\n",
        "    if theNumber <= 999999999999997:\n",
        "        return int(math.log10(theNumber)) + 1\n",
        "    else:\n",
        "        counter = 15\n",
        "        while theNumber >= 10**counter:\n",
        "            counter += 1\n",
        "        return counter"
      ]
    },
    {
      "cell_type": "code",
      "execution_count": null,
      "metadata": {
        "id": "u-c14MKayVK4",
        "outputId": "cf85c9ea-9f33-4595-d99e-acfaeee48029"
      },
      "outputs": [
        {
          "data": {
            "text/plain": [
              "0.1234567"
            ]
          },
          "execution_count": 53,
          "metadata": {},
          "output_type": "execute_result"
        }
      ],
      "source": [
        "1234.567/(10**dig(1234.567))"
      ]
    },
    {
      "cell_type": "code",
      "execution_count": null,
      "metadata": {
        "id": "GZf-XlBvyVK4"
      },
      "outputs": [],
      "source": [
        "#Esta ya es la función que calcula la sucesión\n",
        "def suc(a):\n",
        "    x=[]\n",
        "    c=1\n",
        "    s=0\n",
        "    while s < 10**5:\n",
        "        s = ( c + (c*(c+1)/2)*5e-5 )*a\n",
        "        s = round(s/10**dig(s),5)*10**dig(s)\n",
        "        x.append(round(s,5))\n",
        "        c += 1\n",
        "    return x,len(x)-1 #el número de elementos del arreglo es igual al número de iteraciones"
      ]
    },
    {
      "cell_type": "code",
      "execution_count": null,
      "metadata": {
        "id": "SiWuwjgjyVK4"
      },
      "outputs": [],
      "source": [
        "#Esta función nos da la cota superior a la que llegamos analíticamente\n",
        "def cota(n):\n",
        "    return ( n + (n*(n+1)/2)*ϵ )*a"
      ]
    },
    {
      "cell_type": "code",
      "execution_count": null,
      "metadata": {
        "id": "EPpLxfGByVK5",
        "outputId": "d6e72ce0-6442-4c8b-832c-004962232433"
      },
      "outputs": [
        {
          "data": {
            "text/plain": [
              "[99986.0, 99990.0, 99993.0, 99996.0, 100000.0]"
            ]
          },
          "execution_count": 71,
          "metadata": {},
          "output_type": "execute_result"
        }
      ],
      "source": [
        "a = 1\n",
        "X,n = suc(a) \n",
        "X[-5:n+1]"
      ]
    },
    {
      "cell_type": "code",
      "execution_count": null,
      "metadata": {
        "id": "SnfLtJCYyVK5",
        "outputId": "30829bf9-366e-4811-b7b4-cb98d876b5d2"
      },
      "outputs": [
        {
          "data": {
            "text/plain": [
              "(46331, 99996.1973)"
            ]
          },
          "execution_count": 72,
          "metadata": {},
          "output_type": "execute_result"
        }
      ],
      "source": [
        "n,cota(n)"
      ]
    },
    {
      "cell_type": "markdown",
      "metadata": {
        "id": "31FT04fVyVK5"
      },
      "source": [
        "El valor límite de la sucesión con $a = 1$ es $S_n = 99,996$ para $n=46,331$ pues el siguiente término es $S_{n+1} = 100,000$ el cual ya tiene 6 dígitos"
      ]
    },
    {
      "cell_type": "code",
      "execution_count": null,
      "metadata": {
        "id": "bjf6MDycyVK5",
        "outputId": "7f994e84-be80-4e6d-cb99-0320dc9e9030"
      },
      "outputs": [
        {
          "data": {
            "text/plain": [
              "[99967.0, 99976.0, 99984.0, 99993.0, 100000.0]"
            ]
          },
          "execution_count": 73,
          "metadata": {},
          "output_type": "execute_result"
        }
      ],
      "source": [
        "a = 5\n",
        "X,n = suc(a) \n",
        "X[-5:n+1]"
      ]
    },
    {
      "cell_type": "code",
      "execution_count": null,
      "metadata": {
        "id": "jOSDJPm4yVK6",
        "outputId": "ce8d2bdd-0056-4ade-9b11-dca83d3b03ff"
      },
      "outputs": [
        {
          "data": {
            "text/plain": [
              "(14640, 99993.03)"
            ]
          },
          "execution_count": 74,
          "metadata": {},
          "output_type": "execute_result"
        }
      ],
      "source": [
        "n,cota(n)"
      ]
    },
    {
      "cell_type": "markdown",
      "metadata": {
        "id": "LnLRpeb-yVK6"
      },
      "source": [
        "El valor límite de la sucesión con $a = 5$ es $S_n = 99,993$ para $n=14,640$ pues el siguiente término es $S_{n+1} = 100,000$ el cual ya tiene 6 dígitos"
      ]
    },
    {
      "cell_type": "code",
      "execution_count": null,
      "metadata": {
        "id": "5kZ9JgpQyVK6",
        "outputId": "f1772974-c9db-4099-ec2a-9925215cca52"
      },
      "outputs": [
        {
          "data": {
            "text/plain": [
              "[99853.0, 99892.0, 99930.0, 99969.0, 100010.0]"
            ]
          },
          "execution_count": 75,
          "metadata": {},
          "output_type": "execute_result"
        }
      ],
      "source": [
        "a = 34\n",
        "X,n = suc(a) \n",
        "X[-5:n+1]"
      ]
    },
    {
      "cell_type": "code",
      "execution_count": null,
      "metadata": {
        "id": "_fyQU-LsyVK7",
        "outputId": "d16e2107-3e80-4df6-d543-b302e9d1f9a4"
      },
      "outputs": [
        {
          "data": {
            "text/plain": [
              "(2751, 99969.13919999999)"
            ]
          },
          "execution_count": 76,
          "metadata": {},
          "output_type": "execute_result"
        }
      ],
      "source": [
        "n,cota(n)"
      ]
    },
    {
      "cell_type": "markdown",
      "metadata": {
        "id": "MPYv8pRnyVK7"
      },
      "source": [
        "El valor límite de la sucesión con $a = 34$ es $S_n = 99,969$ para $n=2,751$ pues el siguiente término es $S_{n+1} = 100,010$ el cual ya tiene 6 dígitos"
      ]
    },
    {
      "cell_type": "code",
      "execution_count": null,
      "metadata": {
        "id": "Qfw1XKPIyVK7",
        "outputId": "9a236091-3202-4339-e5a5-541194b68e06"
      },
      "outputs": [
        {
          "data": {
            "text/plain": [
              "[99831.0, 99887.0, 99942.0, 99998.0, 100050.0]"
            ]
          },
          "execution_count": 78,
          "metadata": {},
          "output_type": "execute_result"
        }
      ],
      "source": [
        "a = 51\n",
        "X,n = suc(a) \n",
        "X[-5:n+1]"
      ]
    },
    {
      "cell_type": "code",
      "execution_count": null,
      "metadata": {
        "id": "KHRRiaJFyVK7",
        "outputId": "1b1fd3ed-6e95-4ba4-c4b2-4f12d7e73568"
      },
      "outputs": [
        {
          "data": {
            "text/plain": [
              "(1873, 99998.25255)"
            ]
          },
          "execution_count": 79,
          "metadata": {},
          "output_type": "execute_result"
        }
      ],
      "source": [
        "n,cota(n)"
      ]
    },
    {
      "cell_type": "markdown",
      "metadata": {
        "id": "46w2gWMLyVK8"
      },
      "source": [
        "El valor límite de la sucesión con $a = 51$ es $S_n = 99,998$ para $n=1,873$ pues el siguiente término es $S_{n+1} = 100,050$ el cual ya tiene 6 dígitos"
      ]
    },
    {
      "cell_type": "code",
      "execution_count": null,
      "metadata": {
        "id": "daXwa947yVK8",
        "outputId": "25850daf-46b6-4e1b-8357-f26758141d00"
      },
      "outputs": [
        {
          "data": {
            "text/plain": [
              "[99622.0, 99719.0, 99816.0, 99913.0, 100010.0]"
            ]
          },
          "execution_count": 80,
          "metadata": {},
          "output_type": "execute_result"
        }
      ],
      "source": [
        "a = 92\n",
        "X,n = suc(a) \n",
        "X[-5:n+1]"
      ]
    },
    {
      "cell_type": "code",
      "execution_count": null,
      "metadata": {
        "id": "-YqbfQi4yVK8",
        "outputId": "bfeee9b0-0fbc-4df5-9db5-8dcd5bede80c"
      },
      "outputs": [
        {
          "data": {
            "text/plain": [
              "(1058, 99912.9706)"
            ]
          },
          "execution_count": 81,
          "metadata": {},
          "output_type": "execute_result"
        }
      ],
      "source": [
        "n,cota(n)"
      ]
    },
    {
      "cell_type": "markdown",
      "metadata": {
        "id": "4thmKynryVK8"
      },
      "source": [
        "El valor límite de la sucesión con $a = 92$ es $S_n = 99,913$ para $n=1,058$ pues el siguiente término es $S_{n+1} = 100,010$ el cual ya tiene 6 dígitos"
      ]
    },
    {
      "cell_type": "code",
      "execution_count": null,
      "metadata": {
        "id": "rNYIxZs8yVK8",
        "outputId": "2631566a-d566-48cb-a0a3-b94c96453dcc"
      },
      "outputs": [
        {
          "data": {
            "text/plain": [
              "[98115.0, 98587.0, 99059.0, 99531.0, 100000.0]"
            ]
          },
          "execution_count": 82,
          "metadata": {},
          "output_type": "execute_result"
        }
      ],
      "source": [
        "a = 467\n",
        "X,n = suc(a) \n",
        "X[-5:n+1]"
      ]
    },
    {
      "cell_type": "code",
      "execution_count": null,
      "metadata": {
        "id": "qRnN5mz_yVK9",
        "outputId": "b9524e4f-4220-47f8-de31-64dec56aa503"
      },
      "outputs": [
        {
          "data": {
            "text/plain": [
              "(212, 99531.1963)"
            ]
          },
          "execution_count": 83,
          "metadata": {},
          "output_type": "execute_result"
        }
      ],
      "source": [
        "n,cota(n)"
      ]
    },
    {
      "cell_type": "markdown",
      "metadata": {
        "id": "m9xh7ZMOyVLJ"
      },
      "source": [
        "El valor límite de la sucesión con $a = 467$ es $S_n = 99,531$ para $n=212$ pues el siguiente término es $S_{n+1} = 100,000$ el cual ya tiene 6 dígitos"
      ]
    },
    {
      "cell_type": "code",
      "execution_count": null,
      "metadata": {
        "id": "DcZcLld-yVLJ",
        "outputId": "ad4c22e8-c15f-4489-aa7f-49d4e7c9f6e1"
      },
      "outputs": [
        {
          "data": {
            "text/plain": [
              "[98112.0, 98672.0, 99232.0, 99792.0, 100350.0]"
            ]
          },
          "execution_count": 84,
          "metadata": {},
          "output_type": "execute_result"
        }
      ],
      "source": [
        "a = 555\n",
        "X,n = suc(a) \n",
        "X[-5:n+1]"
      ]
    },
    {
      "cell_type": "code",
      "execution_count": null,
      "metadata": {
        "id": "0ZZp8h3HyVLK",
        "outputId": "10ee3f71-1f8d-405a-f7d0-0a3fc04b6fc1"
      },
      "outputs": [
        {
          "data": {
            "text/plain": [
              "(179, 99792.05249999999)"
            ]
          },
          "execution_count": 85,
          "metadata": {},
          "output_type": "execute_result"
        }
      ],
      "source": [
        "n,cota(n)"
      ]
    },
    {
      "cell_type": "markdown",
      "metadata": {
        "id": "94jeQPYGyVLK"
      },
      "source": [
        "El valor límite de la sucesión con $a = 555$ es $S_n = 99,792$ para $n=179$ pues el siguiente término es $S_{n+1} = 100,350$ el cual ya tiene 6 dígitos"
      ]
    },
    {
      "cell_type": "code",
      "execution_count": null,
      "metadata": {
        "id": "gHKVB38AyVLK",
        "outputId": "e121f2d4-5b61-4342-8a05-6516132fe28f"
      },
      "outputs": [
        {
          "data": {
            "text/plain": [
              "[96490.0, 97386.0, 98282.0, 99178.0, 100070.0]"
            ]
          },
          "execution_count": 87,
          "metadata": {},
          "output_type": "execute_result"
        }
      ],
      "source": [
        "a = 891\n",
        "X,n = suc(a) \n",
        "X[-5:n+1]"
      ]
    },
    {
      "cell_type": "code",
      "execution_count": null,
      "metadata": {
        "id": "OtiCxhEVyVLK",
        "outputId": "3bf44110-ae1b-451a-d4fb-d6c77fa00de0"
      },
      "outputs": [
        {
          "data": {
            "text/plain": [
              "(111, 99177.9228)"
            ]
          },
          "execution_count": 88,
          "metadata": {},
          "output_type": "execute_result"
        }
      ],
      "source": [
        "n,cota(n)"
      ]
    },
    {
      "cell_type": "markdown",
      "metadata": {
        "id": "CvD6809YyVLL"
      },
      "source": [
        "El valor límite de la sucesión con $a = 891$ es $S_n = 99,178$ para $n=111$ pues el siguiente término es $S_{n+1} = 100,070$ el cual ya tiene 6 dígitos"
      ]
    },
    {
      "cell_type": "code",
      "execution_count": null,
      "metadata": {
        "id": "rpUsTWLJyVLL",
        "outputId": "da52327f-c1c6-408d-a9e3-72d54328bdf6"
      },
      "outputs": [
        {
          "data": {
            "text/plain": [
              "[88271.0, 91542.0, 94814.0, 98086.0, 101360.0]"
            ]
          },
          "execution_count": 89,
          "metadata": {},
          "output_type": "execute_result"
        }
      ],
      "source": [
        "a = 3267\n",
        "X,n = suc(a) \n",
        "X[-5:n+1]"
      ]
    },
    {
      "cell_type": "code",
      "execution_count": null,
      "metadata": {
        "id": "I59fjcjryVLL",
        "outputId": "f3e5e010-008c-41a5-8fb3-dd63d6431b0b"
      },
      "outputs": [
        {
          "data": {
            "text/plain": [
              "(30, 98085.95775)"
            ]
          },
          "execution_count": 90,
          "metadata": {},
          "output_type": "execute_result"
        }
      ],
      "source": [
        "n,cota(n)"
      ]
    },
    {
      "cell_type": "markdown",
      "metadata": {
        "id": "9b5pCphzyVLL"
      },
      "source": [
        "El valor límite de la sucesión con $a = 3267$ es $S_n = 98,086$ para $n=30$ pues el siguiente término es $S_{n+1} = 101,360$ el cual ya tiene 6 dígitos"
      ]
    },
    {
      "cell_type": "code",
      "execution_count": null,
      "metadata": {
        "id": "6otEr-oQyVLL",
        "outputId": "2a594152-011f-42ea-afab-e07710bd1e05"
      },
      "outputs": [
        {
          "data": {
            "text/plain": [
              "[79480.0, 85159.0, 90839.0, 96518.0, 102200.0]"
            ]
          },
          "execution_count": 91,
          "metadata": {},
          "output_type": "execute_result"
        }
      ],
      "source": [
        "a = 5675\n",
        "X,n = suc(a) \n",
        "X[-5:n+1]"
      ]
    },
    {
      "cell_type": "code",
      "execution_count": null,
      "metadata": {
        "id": "SS2XCGjJyVLM",
        "outputId": "78540c94-f9a6-47a6-f909-b82ad51a44b4"
      },
      "outputs": [
        {
          "data": {
            "text/plain": [
              "(17, 96518.41375)"
            ]
          },
          "execution_count": 92,
          "metadata": {},
          "output_type": "execute_result"
        }
      ],
      "source": [
        "n,cota(n)"
      ]
    },
    {
      "cell_type": "markdown",
      "metadata": {
        "id": "xQ6QjNzNyVLM"
      },
      "source": [
        "El valor límite de la sucesión con $a = 5675$ es $S_n = 96,518$ para $n=18$ pues el siguiente término es $S_{n+1} = 102,200$ el cual ya tiene 6 dígitos"
      ]
    },
    {
      "cell_type": "code",
      "execution_count": null,
      "metadata": {
        "id": "0MrwFeTyyVLM",
        "outputId": "1fd5bc6c-34d6-47fe-99a7-38662cbc10fe"
      },
      "outputs": [
        {
          "data": {
            "text/plain": [
              "([99999.0, 200000.0], 1)"
            ]
          },
          "execution_count": 114,
          "metadata": {},
          "output_type": "execute_result"
        }
      ],
      "source": [
        "a = 9999\n",
        "X,n = suc(a) \n",
        "X,n"
      ]
    },
    {
      "cell_type": "markdown",
      "metadata": {
        "id": "oQKQsfA9yVLN"
      },
      "source": [
        "$ $\n",
        "\n",
        "**10.** El algoritmo siguiente es debido a Cleve Moler y sirve para el cálculo de la unidad de redondeo $u$\n",
        "\n",
        "$a \\leftarrow 4/3$\n",
        "\n",
        "$b \\leftarrow a-1$\n",
        "\n",
        "$c \\leftarrow b+b+b$\n",
        "\n",
        "$u \\leftarrow |c-1|$\n",
        "\n",
        "Explicar la idea que está detrás de este algoritmo. Escribir un programa que implemente este\n",
        "algoritmo y comparar el valor calculado con el valor del épsilon de la máquina.\n",
        "\n",
        "$a = fl(4/3) = 1.3333333333333333$\n",
        "\n",
        "$b = fl(a-1) = (a-1)(1+\\delta_1)$, con $|\\delta_1| \\leq \\epsilon_\\text{mach}$\n",
        "\n",
        "Como $\\beta = 2$ y $p = 53$, entonces $\\epsilon_\\text{mach} = \\dfrac{1}{2}\\beta^{1-p} = 2^{-53}$\n",
        "\n",
        "\\begin{align}\n",
        "c = fl(b+b+b) = &\\ 3(a-1)(1+\\delta_1)(1+\\delta_2)(1+\\delta_3)\\\\\n",
        "              = & \\quad 3a + 3a\\delta_1 - 3 - 3\\delta_1 \\\\\n",
        "                & + 3a\\delta_2 + 3a\\delta_1\\delta_2 - 3\\delta_2 - 3\\delta_1\\delta_2 \\\\\n",
        "                & + 3a\\delta_3 + 3a\\delta_1\\delta_3 - 3\\delta_3 - 3\\delta_1\\delta_3 \\\\\n",
        "                & + 3a\\delta_2\\delta_3 + 3a\\delta_1\\delta_2\\delta_3 - 3\\delta_2\\delta_3 - 3\\delta_1\\delta_2\\delta_3 \\\\\n",
        "        \\approx &\\ 3[(a - 1) + (a - 1)(\\delta_1 + \\delta_2 + \\delta_3)]\n",
        "\\end{align}\n",
        "\n",
        "\\begin{align}\n",
        "    u = fl(|c-1|) = &\\ |[3a - 4 + 3(a - 1)(\\delta_1 + \\delta_2 + \\delta_3)](1+\\delta_4)| \\\\\n",
        "    \\approx &\\ |(3a - 4)(1+\\delta_4) + 3(a-1)(\\delta_1 + \\delta_2 + \\delta_3)| \\\\\n",
        "    \\leq &\\ |(3a - 4)|(1+\\epsilon_\\text{mach}) + 9(a-1)\\epsilon_\\text{mach} \\\\\n",
        "    = &\\ 0 + 9(a-1)\\epsilon_\\text{mach} = 3.3306690738754686 \\times 10^{-16}\n",
        "\\end{align}\n",
        "\n",
        "pero si\n",
        "\\begin{align}\n",
        "c = fl(3b) = &\\ 3(a-1)(1+\\delta_1)(1+\\delta_2) \\\\\n",
        "           = & \\ \\ \\ 3a + 3a\\delta_1 - 3 - 3\\delta_1 \\\\\n",
        "             & + 3a\\delta_2 + 3a\\delta_1\\delta_2 - 3\\delta_2 - 3\\delta_1\\delta_2 \\\\\n",
        "     \\approx &\\ 3[(a - 1) + (a - 1)(\\delta_1 + \\delta_2)]\n",
        "\\end{align}\n",
        "\n",
        "entonces\n",
        "\\begin{align}\n",
        "    u = fl(|c-1|) = &\\ |[3a - 4 + 3(a - 1)(\\delta_1 + \\delta_2)](1+\\delta_4)| \\\\\n",
        "    \\approx &\\ |(3a - 4)(1+\\delta_4) + 3(a-1)(\\delta_1 + \\delta_2)| \\\\\n",
        "    \\leq &\\ |(3a - 4)|(1+\\epsilon_\\text{mach}) + 6(a-1)\\epsilon_\\text{mach} \\\\\n",
        "    = &\\ 6(a-1)\\epsilon_\\text{mach} = 2.2204460492503126 \\times 10^{-16}\n",
        "\\end{align}\n",
        "\n",
        "Y, como se ve aquí abajo, para la máquina la operación $b+b+b$ es igual a la operación $3b$, por lo que nos quedamos con esta última operación."
      ]
    },
    {
      "cell_type": "code",
      "execution_count": null,
      "metadata": {
        "id": "VJwpvS0FyVLO",
        "outputId": "bb43e7b4-dde1-4247-a75c-f006b617898b"
      },
      "outputs": [
        {
          "data": {
            "text/plain": [
              "1.1102230246251565e-16"
            ]
          },
          "execution_count": 4,
          "metadata": {},
          "output_type": "execute_result"
        }
      ],
      "source": [
        "ϵ = 2**-53\n",
        "ϵ"
      ]
    },
    {
      "cell_type": "code",
      "execution_count": null,
      "metadata": {
        "id": "zvumG_LOyVLO",
        "outputId": "73dd42f1-eac2-4d3f-90e9-737d6108615f"
      },
      "outputs": [
        {
          "data": {
            "text/plain": [
              "1.3333333333333333"
            ]
          },
          "execution_count": 117,
          "metadata": {},
          "output_type": "execute_result"
        }
      ],
      "source": [
        "a = 4/3\n",
        "a"
      ]
    },
    {
      "cell_type": "code",
      "execution_count": null,
      "metadata": {
        "id": "dPiCSVmoyVLP",
        "outputId": "5d9a493e-d6d6-477a-d7ee-cda51846a9ae"
      },
      "outputs": [
        {
          "data": {
            "text/plain": [
              "0.33333333333333326"
            ]
          },
          "execution_count": 118,
          "metadata": {},
          "output_type": "execute_result"
        }
      ],
      "source": [
        "b = a-1\n",
        "b"
      ]
    },
    {
      "cell_type": "code",
      "execution_count": null,
      "metadata": {
        "id": "9M_LtUDoyVLQ",
        "outputId": "51e6d480-685f-4631-c159-18546ab96723"
      },
      "outputs": [
        {
          "data": {
            "text/plain": [
              "0.33333333333333326"
            ]
          },
          "execution_count": 120,
          "metadata": {},
          "output_type": "execute_result"
        }
      ],
      "source": [
        "(a-1)*(1+ϵ)"
      ]
    },
    {
      "cell_type": "code",
      "execution_count": null,
      "metadata": {
        "id": "VjsDnsCbyVLS",
        "outputId": "b4b7804c-8549-475d-8c65-a6bd2d58d386"
      },
      "outputs": [
        {
          "data": {
            "text/plain": [
              "0.9999999999999998"
            ]
          },
          "execution_count": 121,
          "metadata": {},
          "output_type": "execute_result"
        }
      ],
      "source": [
        "c = b+b+b\n",
        "c"
      ]
    },
    {
      "cell_type": "code",
      "execution_count": null,
      "metadata": {
        "id": "vUS_jxnRyVLS",
        "outputId": "766cad12-3ea4-457b-dbc1-de1eb1ef4636"
      },
      "outputs": [
        {
          "data": {
            "text/plain": [
              "0.9999999999999998"
            ]
          },
          "execution_count": 122,
          "metadata": {},
          "output_type": "execute_result"
        }
      ],
      "source": [
        "3*b"
      ]
    },
    {
      "cell_type": "code",
      "execution_count": null,
      "metadata": {
        "id": "PLcXlzbWyVLT",
        "outputId": "cc691588-4a74-4703-bac0-51e68bad8499"
      },
      "outputs": [
        {
          "data": {
            "text/plain": [
              "0.9999999999999998"
            ]
          },
          "execution_count": 123,
          "metadata": {},
          "output_type": "execute_result"
        }
      ],
      "source": [
        "3*(a-1)*(1+ϵ)**3"
      ]
    },
    {
      "cell_type": "code",
      "execution_count": null,
      "metadata": {
        "id": "XW85PhVPyVLT",
        "outputId": "c6559050-fb4b-4d80-c5d7-704f2e707abf"
      },
      "outputs": [
        {
          "data": {
            "text/plain": [
              "0.9999999999999998"
            ]
          },
          "execution_count": 124,
          "metadata": {},
          "output_type": "execute_result"
        }
      ],
      "source": [
        "3*(a-1)*(1+ϵ)"
      ]
    },
    {
      "cell_type": "code",
      "execution_count": null,
      "metadata": {
        "id": "gLsNjZeuyVLU",
        "outputId": "4d781139-2220-4f30-a7dc-12de62059796"
      },
      "outputs": [
        {
          "data": {
            "text/plain": [
              "2.220446049250313e-16"
            ]
          },
          "execution_count": 125,
          "metadata": {},
          "output_type": "execute_result"
        }
      ],
      "source": [
        "u = abs(c-1)\n",
        "u"
      ]
    },
    {
      "cell_type": "code",
      "execution_count": null,
      "metadata": {
        "id": "ofcGqQPtyVLU",
        "outputId": "5aeb6ad8-f90d-498c-f9ae-21e393c91c10"
      },
      "outputs": [
        {
          "data": {
            "text/plain": [
              "2.220446049250313e-16"
            ]
          },
          "execution_count": 67,
          "metadata": {},
          "output_type": "execute_result"
        }
      ],
      "source": [
        "2**-52"
      ]
    },
    {
      "cell_type": "markdown",
      "metadata": {
        "id": "M6EHr0HCyVLU"
      },
      "source": [
        "que corresponde a $2\\epsilon_\\text{mach} = 2^{-52}$ de\n",
        "la aritmética de la computadora en doble precisión."
      ]
    },
    {
      "cell_type": "code",
      "execution_count": null,
      "metadata": {
        "id": "XzZ5nRDMyVLU",
        "outputId": "cc942507-28b5-48eb-db34-f4199cf4ace9"
      },
      "outputs": [
        {
          "data": {
            "text/plain": [
              "2.220446049250313e-16"
            ]
          },
          "execution_count": 69,
          "metadata": {},
          "output_type": "execute_result"
        }
      ],
      "source": [
        "abs(3*(4/3-1)-1)"
      ]
    },
    {
      "cell_type": "code",
      "execution_count": null,
      "metadata": {
        "id": "N1njyEx-yVLV",
        "outputId": "945f0c27-c0d7-44d1-fe0f-cb12f31c2397"
      },
      "outputs": [
        {
          "data": {
            "text/plain": [
              "3.3306690738754686e-16"
            ]
          },
          "execution_count": 134,
          "metadata": {},
          "output_type": "execute_result"
        }
      ],
      "source": [
        "9*(a-1)*ϵ"
      ]
    },
    {
      "cell_type": "code",
      "execution_count": null,
      "metadata": {
        "id": "MEl72h7XyVLV",
        "outputId": "743e8771-4b50-42a7-d05b-2120a251949b"
      },
      "outputs": [
        {
          "data": {
            "text/plain": [
              "2.2204460492503126e-16"
            ]
          },
          "execution_count": 131,
          "metadata": {},
          "output_type": "execute_result"
        }
      ],
      "source": [
        "6*(a-1)*ϵ"
      ]
    },
    {
      "cell_type": "code",
      "execution_count": null,
      "metadata": {
        "id": "Etlj7nxkyVLV",
        "outputId": "cbfd6579-c93b-4ad7-c6a4-7e46860c9e20"
      },
      "outputs": [
        {
          "data": {
            "text/plain": [
              "0.0"
            ]
          },
          "execution_count": 133,
          "metadata": {},
          "output_type": "execute_result"
        }
      ],
      "source": [
        "(3*a-4)*(1+ϵ)"
      ]
    },
    {
      "cell_type": "code",
      "execution_count": null,
      "metadata": {
        "id": "oBYfbe58yVLW",
        "outputId": "c8d011b8-6a29-4d2c-8fb8-4401877019b9"
      },
      "outputs": [
        {
          "data": {
            "text/plain": [
              "0.0"
            ]
          },
          "execution_count": 75,
          "metadata": {},
          "output_type": "execute_result"
        }
      ],
      "source": [
        "u - ϵ"
      ]
    },
    {
      "cell_type": "code",
      "execution_count": null,
      "metadata": {
        "id": "MsoyLiTGyVLW",
        "outputId": "dbd3db1a-959e-4776-f42f-da98bf708670"
      },
      "outputs": [
        {
          "data": {
            "text/plain": [
              "4.930380657631324e-32"
            ]
          },
          "execution_count": 135,
          "metadata": {},
          "output_type": "execute_result"
        }
      ],
      "source": [
        "u - 6*(a-1)*ϵ"
      ]
    },
    {
      "cell_type": "code",
      "execution_count": null,
      "metadata": {
        "id": "HROLg4MxyVLW",
        "outputId": "f547dd18-57f0-445e-e92f-8d261c7bbdc1"
      },
      "outputs": [
        {
          "data": {
            "text/plain": [
              "'0.0000000000000002220446049250313080847263336181640625000'"
            ]
          },
          "execution_count": 77,
          "metadata": {},
          "output_type": "execute_result"
        }
      ],
      "source": [
        "format(u, '.55f')"
      ]
    },
    {
      "cell_type": "code",
      "execution_count": null,
      "metadata": {
        "id": "hN1S5ktgyVLW",
        "outputId": "0e576f26-dfc7-437d-ee88-627315eaefc0"
      },
      "outputs": [
        {
          "data": {
            "text/plain": [
              "'0.00000000000000022204460492503125878091975730492622426696466982586064542459780568606220185756683349609375000'"
            ]
          },
          "execution_count": 136,
          "metadata": {},
          "output_type": "execute_result"
        }
      ],
      "source": [
        "format(6*(a-1)*ϵ, '.107f') "
      ]
    },
    {
      "cell_type": "markdown",
      "metadata": {
        "id": "C8DKxjwjyVLX"
      },
      "source": [
        "La diferencia entre $u$ y $6(a-1)\\epsilon_\\text{mach}$ es del orden de $10^{-32}$, pero la diferencia entre $u$ y $2\\epsilon_\\text{mach}$ es exactamente cero.\n",
        "\n",
        "$ $"
      ]
    },
    {
      "cell_type": "markdown",
      "metadata": {
        "id": "1gC2SRB6yVLX"
      },
      "source": [
        "**11.** Elaborar un programa en Matlab/Python/Julia para el cálculo de las raíces reales de la ecuación de segundo grado $ax^2 + bx + c = 0$"
      ]
    },
    {
      "cell_type": "code",
      "execution_count": null,
      "metadata": {
        "id": "N1GgJKD2yVLX"
      },
      "outputs": [],
      "source": [
        "import math\n",
        "def roots1(a,b,c): \n",
        "    Δ = b**2 - 4*a*c\n",
        "    if Δ >= 0:\n",
        "        x1 = (-b + math.sqrt(Δ))/(2*a)\n",
        "        x2 = (-b - math.sqrt(Δ))/(2*a)\n",
        "    else:\n",
        "        x1 = (-b + math.sqrt(-Δ)*1j)/(2*a) #1j es el número imaginario\n",
        "        x2 = (-b - math.sqrt(-Δ)*1j)/(2*a)\n",
        "    return x1,x2"
      ]
    },
    {
      "cell_type": "code",
      "execution_count": null,
      "metadata": {
        "id": "1bkPw5L7yVLX",
        "outputId": "d43ca285-a350-4c41-fbd3-f17be985b538"
      },
      "outputs": [
        {
          "data": {
            "text/plain": [
              "((-1+1.4142135623730951j), (-1-1.4142135623730951j))"
            ]
          },
          "execution_count": 80,
          "metadata": {},
          "output_type": "execute_result"
        }
      ],
      "source": [
        "roots1(1,2,3)"
      ]
    },
    {
      "cell_type": "code",
      "execution_count": null,
      "metadata": {
        "id": "25Re_LEkyVLY"
      },
      "outputs": [],
      "source": [
        "import cmath\n",
        "def roots1(a,b,c): \n",
        "    Δ = b**2 - 4*a*c\n",
        "    if Δ >= 0:\n",
        "        x1 = (-b + math.sqrt(Δ))/(2*a)\n",
        "        x2 = (-b - math.sqrt(Δ))/(2*a)\n",
        "    else:\n",
        "        x1 = (-b + cmath.sqrt(Δ))/(2*a) #1j es el número imaginario\n",
        "        x2 = (-b - cmath.sqrt(Δ))/(2*a)\n",
        "    return x1,x2"
      ]
    },
    {
      "cell_type": "markdown",
      "metadata": {
        "id": "Gajjmd80yVLY"
      },
      "source": [
        "**a)** Probar el programa con la siguiente ecuación:\n",
        "\n",
        "$$x^2 - (10^{10} + 10 ^{-10})x + 1 = 0$$\n",
        "\n",
        "¿Qué resultado se obtiene? ¿Se presenta cancelación numérica? ¿En qué parte se presenta?\n",
        "\n",
        "Como $$0 = x^2 - (10^{10} + 10 ^{-10})x + 1 = (x-10^{10})(x-10^{-10})$$\n",
        "\n",
        "entonces las raíces son justamente $10^{10}$ y $10^{-10}$, pero nuestro programa nos arroja:"
      ]
    },
    {
      "cell_type": "code",
      "execution_count": null,
      "metadata": {
        "id": "oK4dz3acyVLY",
        "outputId": "6f8a8885-f359-4740-9a69-52f3f39850ca"
      },
      "outputs": [
        {
          "data": {
            "text/plain": [
              "(10000000000.0, 0.0)"
            ]
          },
          "execution_count": 82,
          "metadata": {},
          "output_type": "execute_result"
        }
      ],
      "source": [
        "roots1(1,-(10**10 + 10**-10),1)"
      ]
    },
    {
      "cell_type": "markdown",
      "metadata": {
        "id": "XrEz8NapyVLY"
      },
      "source": [
        "Esto quiere decir que se presenta cancelación numérica con el término de $10^{-10}$\n",
        "\n",
        "**b)** Ilustrar cómo puede evitarse la cancelación numérica y realizar un programa que calcule\n",
        "de manera correcta las raíces de la ecuación dada en el inciso anterior.\n",
        "\n",
        "Esto se corrige multiplicando la fórmula general por un $1$ adecuado. Para la primera raíz\n",
        "\n",
        "$$\\dfrac{-b + \\sqrt{b^2 - 4ac}}{2a} \\left(\\dfrac{ -b - \\sqrt{b^2 - 4ac} }{ -b - \\sqrt{b^2 - 4ac} }\\right) = \\dfrac{ b^2 - (b^2 - 4ac) }{2a(-b - \\sqrt{b^2 - 4ac})} = \\dfrac{2c}{-b - \\sqrt{b^2 - 4ac}}$$\n",
        "\n",
        "Y para la segunda raíz\n",
        "\n",
        "$$\\dfrac{-b - \\sqrt{b^2 - 4ac}}{2a} \\left(\\dfrac{ -b + \\sqrt{b^2 - 4ac} }{ -b + \\sqrt{b^2 - 4ac} }\\right) = \\dfrac{ b^2 - (b^2 - 4ac) }{2a(-b + \\sqrt{b^2 - 4ac})} = \\dfrac{2c}{-b + \\sqrt{b^2 - 4ac}}$$\n",
        "\n",
        "Pero resulta que en la expresión para la primera raíz el denominador se hace cero, así que dejaremos la expresión original y solo cambiaremos la expresión para la segunda raíz. Esto quiere decir que debemos de alternar las expresiones para cada raíz de acuerdo al caso en particular, pues no se pueden calcular correctamente ambas raíces con el mismo método."
      ]
    },
    {
      "cell_type": "code",
      "execution_count": null,
      "metadata": {
        "id": "1WBYWZriyVLZ"
      },
      "outputs": [],
      "source": [
        "import math\n",
        "def roots(a,b,c): \n",
        "    Δ = b**2 - 4*a*c\n",
        "    if Δ >= 0:\n",
        "        x1 = (-b + math.sqrt(Δ))/(2*a) #(2*c)/(-b - math.sqrt(Δ))\n",
        "        x2 = (2*c)/(-b + math.sqrt(Δ)) #c/(a*x1)\n",
        "    else:\n",
        "        x1 = (-b + math.sqrt(-Δ)*1j)/(2*a)\n",
        "        x2 = (-b - math.sqrt(-Δ)*1j)/(2*a)\n",
        "    return x1,x2"
      ]
    },
    {
      "cell_type": "code",
      "execution_count": null,
      "metadata": {
        "id": "11knidiPyVLZ",
        "outputId": "cf5a96ad-fed8-4036-8812-382b20a09954"
      },
      "outputs": [
        {
          "data": {
            "text/plain": [
              "(10000000000.0, 1e-10)"
            ]
          },
          "execution_count": 84,
          "metadata": {},
          "output_type": "execute_result"
        }
      ],
      "source": [
        "roots(1,-(10**10 + 10**-10),1)"
      ]
    },
    {
      "cell_type": "markdown",
      "metadata": {
        "id": "keeJRPUcyVLZ"
      },
      "source": [
        "$ $\n",
        "\n",
        "**12.** Una forma de calcular la derivada es mediante la fórumula de diferencias finitas hacia delante (o la definición de límite)\n",
        "\n",
        "$$f'(x) = \\lim_{h\\to0}\\dfrac{f(x+h) - f(x)}{h}$$\n",
        "\n",
        "**a)** Elabore un programa que calcule la derivada de la función $\\sin(x)$ utilizando valores de\n",
        "$h$ que van decreciendo y acercándose a cero. El programa debe ilustrar en cada paso el\n",
        "valor de $h$, el valor aproximado de la derivada y el error con relación a la derivada exacta\n",
        "$\\cos(x)$. Utilizando $x = \\pi/4$, ¿qué comportamiento puede apreciarse al tender $h$ a cero?\n",
        "¿Para una $h$ de qué orden se obtiene el menor error?"
      ]
    },
    {
      "cell_type": "code",
      "execution_count": null,
      "metadata": {
        "id": "wnZpZzw4yVLZ"
      },
      "outputs": [],
      "source": [
        "import math\n",
        "def dsin(x,r=10):\n",
        "    h=0.1\n",
        "    a=[]\n",
        "    d=0\n",
        "    dig=2\n",
        "    #while d < math.cos(x):\n",
        "    while h > 1e-17:\n",
        "        d = (math.sin(x + h) - math.sin(x))/h\n",
        "        err = abs(math.cos(x) - d)/math.cos(x)\n",
        "        print([d],[h],[err])\n",
        "        h = round(h/r,dig)\n",
        "        dig = dig + 1\n",
        "    return d,math.cos(x)"
      ]
    },
    {
      "cell_type": "code",
      "execution_count": null,
      "metadata": {
        "id": "ex4oes48yVLa"
      },
      "outputs": [],
      "source": [
        "import math\n",
        "def dsinϵ(x,r=10):\n",
        "    h=0.1\n",
        "    a=[]\n",
        "    d=0\n",
        "    dig=2\n",
        "    while abs(d - math.cos(x)) > 1e-8:\n",
        "        d = (math.sin(x + h) - math.sin(x))/h\n",
        "        err = abs(math.cos(x) - d)/math.cos(x)\n",
        "        print([d],[h],[err])\n",
        "        h = round(h/r,dig)\n",
        "        dig = dig + 1\n",
        "    return d,math.cos(x)"
      ]
    },
    {
      "cell_type": "code",
      "execution_count": null,
      "metadata": {
        "scrolled": false,
        "id": "Rb_ROViOyVLa",
        "outputId": "438d7e48-2fd9-4f4b-9c7e-13878b0eb7f9"
      },
      "outputs": [
        {
          "name": "stdout",
          "output_type": "stream",
          "text": [
            "[0.9983341664682815] [0.1] [0.0016658335317184525]\n",
            "[0.9999833334166665] [0.01] [1.6666583333546647e-05]\n",
            "[0.9999998333333416] [0.001] [1.666666583632903e-07]\n",
            "[0.9999999983333334] [0.0001] [1.66666658252268e-09]\n",
            "[0.9999999999833332] [1e-05] [1.6666779067975313e-11]\n",
            "[0.9999999999998334] [1e-06] [1.66644475996236e-13]\n",
            "[0.9999999999999983] [1e-07] [1.6653345369377348e-15]\n",
            "[1.0] [1e-08] [0.0]\n",
            "[1.0] [1e-09] [0.0]\n",
            "[1.0] [1e-10] [0.0]\n",
            "[1.0] [1e-11] [0.0]\n",
            "[1.0] [1e-12] [0.0]\n",
            "[1.0] [1e-13] [0.0]\n",
            "[1.0] [1e-14] [0.0]\n",
            "[1.0] [1e-15] [0.0]\n",
            "[1.0] [1e-16] [0.0]\n"
          ]
        },
        {
          "data": {
            "text/plain": [
              "(1.0, 1.0)"
            ]
          },
          "execution_count": 143,
          "metadata": {},
          "output_type": "execute_result"
        }
      ],
      "source": [
        "dsin(0)"
      ]
    },
    {
      "cell_type": "code",
      "execution_count": null,
      "metadata": {
        "scrolled": false,
        "id": "Bp4DAbJdyVLa",
        "outputId": "4111f40a-9087-4a61-a921-ceba9a593ce9"
      },
      "outputs": [
        {
          "name": "stdout",
          "output_type": "stream",
          "text": [
            "[0.6706029729039886] [0.1] [0.051624180751462176]\n",
            "[0.7035594916891985] [0.01] [0.00501662491681468]\n",
            "[0.7067531099742563] [0.001] [0.0005001666250432056]\n",
            "[0.7070714246681931] [0.0001] [5.000166777524465e-05]\n",
            "[0.7071032456340552] [1e-05] [5.0000262851331315e-06]\n",
            "[0.707106427633164] [1e-06] [4.999999900671419e-07]\n",
            "[0.7071067442687706] [1e-07] [5.220962085052928e-08]\n",
            "[0.7071067731345693] [1e-08] [1.1387216924751134e-08]\n"
          ]
        },
        {
          "data": {
            "text/plain": [
              "(0.7071067731345693, 0.7071067811865476)"
            ]
          },
          "execution_count": 88,
          "metadata": {},
          "output_type": "execute_result"
        }
      ],
      "source": [
        "dsinε(math.pi/4)"
      ]
    },
    {
      "cell_type": "code",
      "execution_count": null,
      "metadata": {
        "scrolled": true,
        "id": "i6M-ss6GyVLc",
        "outputId": "e5e15d99-57c2-4d7d-e4f6-2b7ede62c0e2"
      },
      "outputs": [
        {
          "name": "stdout",
          "output_type": "stream",
          "text": [
            "[0.6706029729039886] [0.1] [0.051624180751462176]\n",
            "[0.6891382031986026] [0.05] [0.025411406687110383]\n",
            "[0.6981947521134746] [0.025] [0.012603512383403131]\n",
            "[0.7026690072530872] [0.0125] [0.0062759600834454135]\n",
            "[0.7048924761375908] [0.00625] [0.0031315002314659416]\n",
            "[0.7060007768506793] [0.003125] [0.001564126331828357]\n",
            "[0.7065540664036263] [0.0015625] [0.0007816567421313937]\n",
            "[0.7068304956834481] [0.00078125] [0.0003907267055702993]\n",
            "[0.7069686564122435] [0.000390625] [0.0001953379291205563]\n",
            "[0.7070377232946612] [0.0001953125] [9.766260729461572e-05]\n",
            "[0.7070722533637763] [9.765625e-05] [4.88297152423113e-05]\n",
            "[0.7070895175547776] [4.8828125e-05] [2.4414462184969933e-05]\n",
            "[0.7070981494371154] [2.44140625e-05] [1.2207137114051321e-05]\n",
            "[0.7071024653305358] [1.220703125e-05] [6.103542105128476e-06]\n",
            "[0.7071046232522349] [6.103515625e-06] [3.0517799717099636e-06]\n",
            "[0.7071057022039895] [3.0517578125e-06] [1.5259117671981287e-06]\n",
            "[0.7071062416798668] [1.52587890625e-06] [7.629776649422113e-07]\n",
            "[0.7071065113996156] [7.62939453125e-07] [3.815363382090957e-07]\n",
            "[0.7071066461503506] [3.814697265625e-07] [1.9097002121159634e-07]\n",
            "[0.7071067130891606] [1.9073486328125e-07] [9.630424818908045e-08]\n",
            "[0.7071067462675273] [9.5367431640625e-08] [4.938295199531171e-08]\n",
            "[0.7071067625656724] [4.76837158203125e-08] [2.633389421591654e-08]\n",
            "[0.7071067718788981] [2.384185791015625e-08] [1.3163004056262153e-08]\n",
            "[0.7071067672222853] [1.1920928955078126e-08] [1.9748449136089346e-08]\n",
            "[0.707106776535511] [5.960464477539063e-09] [6.577558976434961e-09]\n",
            "[0.707106776535511] [2.9802322387695314e-09] [6.577558976434961e-09]\n",
            "[0.707106739282608] [1.4901161193847657e-09] [5.92611196150525e-08]\n",
            "[0.707106739282608] [7.450580596923829e-10] [5.92611196150525e-08]\n",
            "[0.7071065902709961] [3.7252902984619143e-10] [2.6999536216952265e-07]\n",
            "[0.7071065902709961] [1.8626451492309571e-10] [2.6999536216952265e-07]\n",
            "[0.7071065902709961] [9.313225746154786e-11] [2.6999536216952265e-07]\n",
            "[0.7071042060852051] [4.656612873077393e-11] [3.641743243041045e-06]\n",
            "[0.7071018218994141] [2.3283064365386964e-11] [7.013491123912567e-06]\n",
            "[0.7071018218994141] [1.1641532182693482e-11] [7.013491123912567e-06]\n",
            "[0.70709228515625] [5.820766091346741e-12] [2.0500482647398658e-05]\n",
            "[0.7070541381835938] [2.9103830456733705e-12] [7.444844874134301e-05]\n",
            "[0.7070159912109375] [1.4551915228366853e-12] [0.00012839641483528737]\n",
            "[0.70709228515625] [7.275957614183426e-13] [2.0500482647398658e-05]\n",
            "[0.70709228515625] [3.637978807091713e-13] [2.0500482647398658e-05]\n",
            "[0.7061767578125] [1.8189894035458566e-13] [0.0013152516689020632]\n",
            "[0.706787109375] [9.094947017729283e-14] [0.0004520842113989535]\n",
            "[0.7080078125] [4.5474735088646414e-14] [0.001274250703607266]\n",
            "[0.7080078125] [2.2737367544323207e-14] [0.001274250703607266]\n",
            "[0.703125] [1.1368683772161604e-14] [0.005631088956417612]\n",
            "[0.703125] [5.684341886080802e-15] [0.005631088956417612]\n",
            "[0.703125] [2.842170943040401e-15] [0.005631088956417612]\n",
            "[0.703125] [1.4210854715202005e-15] [0.005631088956417612]\n",
            "[0.625] [7.105427357601002e-16] [0.11611652351681566]\n",
            "[0.3125] [3.552713678800501e-16] [0.5580582617584078]\n",
            "[0.625] [1.7763568394002506e-16] [0.11611652351681566]\n",
            "[0.0] [8.881784197001253e-17] [1.0]\n",
            "[0.0] [4.4408920985006264e-17] [1.0]\n",
            "[0.0] [2.2204460492503132e-17] [1.0]\n",
            "[0.0] [1.1102230246251566e-17] [1.0]\n"
          ]
        },
        {
          "data": {
            "text/plain": [
              "(0.0, 0.7071067811865476)"
            ]
          },
          "execution_count": 89,
          "metadata": {},
          "output_type": "execute_result"
        }
      ],
      "source": [
        "dsin(math.pi/4,2)"
      ]
    },
    {
      "cell_type": "code",
      "execution_count": null,
      "metadata": {
        "id": "_LANrRkWyVLc",
        "outputId": "080e8e01-6a85-49a0-9c83-30fd22a9d4b5"
      },
      "outputs": [
        {
          "name": "stdout",
          "output_type": "stream",
          "text": [
            "[0.6706029729039886] [0.1] [0.051624180751462176]\n",
            "[0.7035594916891985] [0.01] [0.00501662491681468]\n",
            "[0.7067531099742563] [0.001] [0.0005001666250432056]\n",
            "[0.7070714246681931] [0.0001] [5.000166777524465e-05]\n",
            "[0.7071032456340552] [1e-05] [5.0000262851331315e-06]\n",
            "[0.707106427633164] [1e-06] [4.999999900671419e-07]\n",
            "[0.7071067442687706] [1e-07] [5.220962085052928e-08]\n",
            "[0.7071067731345693] [1e-08] [1.1387216924751134e-08]\n",
            "[0.7071067065211878] [1e-09] [1.0559276444577763e-07]\n",
            "[0.7071065954988853] [1e-10] [2.626020103141551e-07]\n",
            "[0.7071010443837622] [1e-11] [8.11306430373303e-06]\n",
            "[0.7069900220812997] [1e-12] [0.0001651223101721105]\n",
            "[0.7072120666862247] [1e-13] [0.00014889618156464446]\n",
            "[0.6994405055138486] [1e-14] [0.01084175102922178]\n",
            "[0.6661338147750939] [1e-15] [0.05794452478973503]\n",
            "[0.0] [1e-16] [1.0]\n"
          ]
        },
        {
          "data": {
            "text/plain": [
              "(0.0, 0.7071067811865476)"
            ]
          },
          "execution_count": 90,
          "metadata": {},
          "output_type": "execute_result"
        }
      ],
      "source": [
        "dsin(math.pi/4)"
      ]
    },
    {
      "cell_type": "markdown",
      "metadata": {
        "id": "zjdNINwJyVLd"
      },
      "source": [
        "Tomando un valor inicial de $h$ de $0.1$ y dividiendo entre $10$ en cada paso, lo que se observa es que el error más pequeño corresponde a $h = 10^{-8}$, sin embargo, para $h < 10^{-8}$ el error aumenta hasta llegar a $h \\sim 10^{-16}$, en donde se presenta un error de cancelación y el resultado de la derivada numérica es $0$. Si en lugar de disminuir $10$ veces a $h$ en cada paso, la disminuimos a la mitad en cada paso, la precisión mejora para $h = 6\\times10^{-9}$"
      ]
    },
    {
      "cell_type": "markdown",
      "metadata": {
        "id": "AJMd9BGRyVLd"
      },
      "source": [
        "**b)** Calcule la serie de Taylor para $f(x + h)$ y $f(x - h)$. Trunque las series hasta el término\n",
        "lineal y usando ambas expresiones encuentre que una expresión alternativa para calcular\n",
        "la derivada está dada por\n",
        "$$\\dfrac{f(x + h) - f(x - h)}{2h}$$\n",
        "\n",
        "La fórmula que acaba de calcular se conoce como la fórmula de diferencias centrales.\n",
        "\n",
        "$f(x + h) = f(x) + hf'(x) + \\mathcal{O}(h^2)$\n",
        "\n",
        "$f(x - h) = f(x) - hf'(x) + \\mathcal{O}(h^2)$\n",
        "\n",
        "$f(x + h) - f(x - h) = 2hf'(x)$\n",
        "\n",
        "$$\\dfrac{f(x + h) - f(x - h)}{2h}$$"
      ]
    },
    {
      "cell_type": "markdown",
      "metadata": {
        "id": "9k8KtBDsyVLd"
      },
      "source": [
        "**c)** Modifique el programa realizado, de tal forma que la derivada se calcule mediante esta\n",
        "fórmula y calcule el error con respecto al resultado exacto. Pruebe de nuevo con $x = \\pi/4$,\n",
        "¿Qué resultados se obtienen? ¿Cómo se comporta el error en comparación al método de\n",
        "diferencias hacia adelante?"
      ]
    },
    {
      "cell_type": "code",
      "execution_count": null,
      "metadata": {
        "id": "EAj6Y-IDyVLd"
      },
      "outputs": [],
      "source": [
        "import math\n",
        "import numpy as np\n",
        "def dcsin(x,r=10):\n",
        "    h=0.1\n",
        "    a=[]\n",
        "    d=0\n",
        "    dig=2\n",
        "    #while d < math.cos(x):\n",
        "    while h > 1e-18:\n",
        "        d = (math.sin(x + h) - math.sin(x - h))/(2*h)\n",
        "        err = abs(math.cos(x) - d)/math.cos(x)\n",
        "        print([d],[h],[err])\n",
        "        h = round(h/r,dig)\n",
        "        dig = dig + 1\n",
        "    return d,math.cos(x)"
      ]
    },
    {
      "cell_type": "code",
      "execution_count": null,
      "metadata": {
        "id": "z4JDSj1WyVLd",
        "outputId": "75464687-9d92-41d2-e9a0-506adcd02755"
      },
      "outputs": [
        {
          "name": "stdout",
          "output_type": "stream",
          "text": [
            "[0.7059288589999413] [0.1] [0.0016658335317187782]\n",
            "[0.7070949961324569] [0.01] [1.666658332839432e-05]\n",
            "[0.707106663335455] [0.001] [1.6666661342677378e-07]\n",
            "[0.70710678000796] [0.0001] [1.6667745130398834e-09]\n",
            "[0.7071067811725839] [1e-05] [1.974768088984931e-11]\n",
            "[0.7071067812391973] [1e-06] [7.445802364042305e-11]\n",
            "[0.7071067803510189] [1e-07] [1.1816159433065968e-09]\n",
            "[0.7071067842367995] [1e-08] [4.313707662086615e-09]\n",
            "[0.707106762032339] [1e-09] [2.7088141511588884e-08]\n",
            "[0.7071071506103976] [1e-10] [5.224442190277324e-07]\n",
            "[0.7071065954988853] [1e-11] [2.626020103141551e-07]\n",
            "[0.7071010443837622] [1e-12] [8.11306430373303e-06]\n",
            "[0.7077671781985373] [1e-13] [0.0009339424109065319]\n",
            "[0.7049916206369744] [1e-14] [0.0029912887358029055]\n",
            "[0.7216449660063516] [1e-15] [0.020560098144453563]\n",
            "[0.5551115123125783] [1e-16] [0.21495377065811253]\n",
            "[0.0] [1e-17] [1.0]\n"
          ]
        },
        {
          "data": {
            "text/plain": [
              "(0.0, 0.7071067811865476)"
            ]
          },
          "execution_count": 92,
          "metadata": {},
          "output_type": "execute_result"
        }
      ],
      "source": [
        "dcsin(math.pi/4)"
      ]
    },
    {
      "cell_type": "code",
      "execution_count": null,
      "metadata": {
        "scrolled": false,
        "id": "WnWh6s5IyVLd",
        "outputId": "097168cf-f606-4c3c-d289-9a9a4b040ceb"
      },
      "outputs": [
        {
          "name": "stdout",
          "output_type": "stream",
          "text": [
            "[0.7059288589999413] [0.1] [0.0016658335317187782]\n",
            "[0.7068121901873392] [0.05] [0.0004166145864335131]\n",
            "[0.7070331265319219] [0.025] [0.00010416341150360095]\n",
            "[0.7070883670913108] [0.0125] [2.6041463222612727e-05]\n",
            "[0.7071021776357611] [0.00625] [6.510403957290583e-06]\n",
            "[0.7071056302971712] [0.003125] [1.6276033648332835e-06]\n",
            "[0.7071064934640958] [0.0015625] [4.0690099346803703e-07]\n",
            "[0.7071067092558536] [0.00078125] [1.0172536294450644e-07]\n",
            "[0.7071067632038819] [0.000390625] [2.5431329706227087e-08]\n",
            "[0.707106776691262] [0.0001953125] [6.357293845591132e-09]\n",
            "[0.7071067800626452] [9.765625e-05] [1.5894380388949554e-09]\n",
            "[0.7071067809056331] [4.8828125e-05] [3.9727311538619976e-10]\n",
            "[0.7071067811148168] [2.44140625e-05] [1.0144257469083762e-10]\n",
            "[0.707106781173934] [1.220703125e-05] [1.7838291450843974e-11]\n",
            "[0.7071067811830289] [6.103515625e-06] [4.976094029306488e-12]\n",
            "[0.707106781173934] [3.0517578125e-06] [1.7838291450843974e-11]\n",
            "[0.7071067811921239] [1.52587890625e-06] [7.886103392230996e-12]\n",
            "[0.7071067812648835] [7.62939453125e-07] [1.1078368276453087e-10]\n",
            "[0.7071067811921239] [3.814697265625e-07] [7.886103392230996e-12]\n",
            "[0.7071067809010856] [1.9073486328125e-07] [4.037042140969685e-10]\n",
            "[0.7071067806100473] [9.5367431640625e-08] [8.15294531586168e-10]\n",
            "[0.7071067811921239] [4.76837158203125e-08] [7.886103392230996e-12]\n",
            "[0.7071067835204303] [2.384185791015625e-08] [3.300608643305827e-09]\n",
            "[0.707106776535511] [1.1920928955078126e-08] [6.577558976434961e-09]\n",
            "[0.7071067858487368] [5.960464477539063e-09] [6.593331183219423e-09]\n",
            "[0.7071067951619625] [2.9802322387695314e-09] [1.9764221342873807e-08]\n",
            "[0.707106776535511] [1.4901161193847657e-09] [6.577558976434961e-09]\n",
            "[0.707106813788414] [7.450580596923829e-10] [4.610600166218258e-08]\n",
            "[0.707106739282608] [3.7252902984619143e-10] [5.92611196150525e-08]\n",
            "[0.70710688829422] [1.8626451492309571e-10] [1.5147312293941765e-07]\n",
            "[0.7071071863174438] [9.313225746154786e-11] [5.72941608048358e-07]\n",
            "[0.7071053981781006] [4.656612873077393e-11] [1.955869302605284e-06]\n",
            "[0.7071042060852051] [2.3283064365386964e-11] [3.641743243041045e-06]\n",
            "[0.7071065902709961] [1.1641532182693482e-11] [2.6999536216952265e-07]\n",
            "[0.7071113586425781] [5.820766091346741e-12] [6.473500399573522e-06]\n",
            "[0.70709228515625] [2.9103830456733705e-12] [2.0500482647398658e-05]\n",
            "[0.70709228515625] [1.4551915228366853e-12] [2.0500482647398658e-05]\n",
            "[0.7071685791015625] [7.275957614183426e-13] [8.739544954049005e-05]\n",
            "[0.707244873046875] [3.637978807091713e-13] [0.00019529138172837878]\n",
            "[0.706787109375] [1.8189894035458566e-13] [0.0004520842113989535]\n",
            "[0.7073974609375] [9.094947017729283e-14] [0.00041108324610415617]\n",
            "[0.709228515625] [4.5474735088646414e-14] [0.003000585618613485]\n",
            "[0.71044921875] [2.2737367544323207e-14] [0.004726920533619705]\n",
            "[0.7080078125] [1.1368683772161604e-14] [0.001274250703607266]\n",
            "[0.712890625] [5.684341886080802e-15] [0.008179590363632144]\n",
            "[0.72265625] [2.842170943040401e-15] [0.0219902696836819]\n",
            "[0.7421875] [1.4210854715202005e-15] [0.04961162832378141]\n",
            "[0.703125] [7.105427357601002e-16] [0.005631088956417612]\n",
            "[0.625] [3.552713678800501e-16] [0.11611652351681566]\n",
            "[0.9375] [1.7763568394002506e-16] [0.3258252147247765]\n",
            "[0.625] [8.881784197001253e-17] [0.11611652351681566]\n",
            "[0.0] [4.4408920985006264e-17] [1.0]\n",
            "[0.0] [2.2204460492503132e-17] [1.0]\n",
            "[0.0] [1.1102230246251566e-17] [1.0]\n",
            "[0.0] [5.551115123125783e-18] [1.0]\n",
            "[0.0] [2.7755575615628915e-18] [1.0]\n",
            "[0.0] [1.3877787807814458e-18] [1.0]\n"
          ]
        },
        {
          "data": {
            "text/plain": [
              "(0.0, 0.7071067811865476)"
            ]
          },
          "execution_count": 93,
          "metadata": {},
          "output_type": "execute_result"
        }
      ],
      "source": [
        "dcsin(math.pi/4,2)"
      ]
    },
    {
      "cell_type": "code",
      "execution_count": null,
      "metadata": {
        "id": "a4eiJJpwyVLe"
      },
      "outputs": [],
      "source": [
        "import numpy as np\n",
        "def dcsinϵ(x,r=10):\n",
        "    h=0.1\n",
        "    a=[]\n",
        "    d=0\n",
        "    dig=2\n",
        "    while abs(d - math.cos(x)) > 1e-11:\n",
        "        d = (math.sin(x + h) - math.sin(x - h))/(2*h)\n",
        "        err = abs(math.cos(x) - d)/math.cos(x)\n",
        "        print([d],[h],[err])\n",
        "        h = round(h/r,dig)\n",
        "        dig = dig + 1\n",
        "    return d,math.cos(x)"
      ]
    },
    {
      "cell_type": "code",
      "execution_count": null,
      "metadata": {
        "id": "vOtzftQJyVLe",
        "outputId": "fd1a2fe8-49fe-4831-9493-2db93b6bef00"
      },
      "outputs": [
        {
          "name": "stdout",
          "output_type": "stream",
          "text": [
            "[0.7059288589999413] [0.1] [0.0016658335317187782]\n",
            "[0.7068121901873392] [0.05] [0.0004166145864335131]\n",
            "[0.7070331265319219] [0.025] [0.00010416341150360095]\n",
            "[0.7070883670913108] [0.0125] [2.6041463222612727e-05]\n",
            "[0.7071021776357611] [0.00625] [6.510403957290583e-06]\n",
            "[0.7071056302971712] [0.003125] [1.6276033648332835e-06]\n",
            "[0.7071064934640958] [0.0015625] [4.0690099346803703e-07]\n",
            "[0.7071067092558536] [0.00078125] [1.0172536294450644e-07]\n",
            "[0.7071067632038819] [0.000390625] [2.5431329706227087e-08]\n",
            "[0.707106776691262] [0.0001953125] [6.357293845591132e-09]\n",
            "[0.7071067800626452] [9.765625e-05] [1.5894380388949554e-09]\n",
            "[0.7071067809056331] [4.8828125e-05] [3.9727311538619976e-10]\n",
            "[0.7071067811148168] [2.44140625e-05] [1.0144257469083762e-10]\n",
            "[0.707106781173934] [1.220703125e-05] [1.7838291450843974e-11]\n",
            "[0.7071067811830289] [6.103515625e-06] [4.976094029306488e-12]\n"
          ]
        },
        {
          "data": {
            "text/plain": [
              "(0.7071067811830289, 0.7071067811865476)"
            ]
          },
          "execution_count": 95,
          "metadata": {},
          "output_type": "execute_result"
        }
      ],
      "source": [
        "dcsinϵ(math.pi/4,2)"
      ]
    },
    {
      "cell_type": "markdown",
      "metadata": {
        "id": "wVMSecfJyVLe"
      },
      "source": [
        "El error disminuyó en 3 órdenes de magnitud, pero sigue apareciendo en un valor intermedio de $h$ y no en el más chico."
      ]
    },
    {
      "cell_type": "markdown",
      "metadata": {
        "id": "RdlKG4SMyVLf"
      },
      "source": [
        "**d)** Observe que, para los dos métodos, se alcanza un error mínimo en un cierto valor de $h$.\n",
        "Investigue cómo puede estimarse este valor (puede ser solo para el caso particular de la\n",
        "derivada de la función seno).\n",
        "\n",
        "$ $\n",
        "\n",
        "En el caso de diferencia finita, por el teorema de Taylor $$f(x+h) = f(x) + hf'(x) + \\dfrac{h^2}{2}f''(\\theta)$$ para algún $\\theta \\in [x,x+h]$, entonces\n",
        "\n",
        "$$f'(x) = \\dfrac{f(x+h) - f(x)}{h} - \\dfrac{h}{2}f''(\\theta)$$\n",
        "\n",
        "con $|f''(t)| \\leq M$ para algún $t$ cerca de $x$, por lo que el error de truncamiento está acotado por $\\dfrac{h}{2}f''(\\theta) \\leq \\dfrac{Mh}{2}$\n",
        "\n",
        "Asumiendo que el error en los valores de la función está acotado por $\\epsilon$, entonces el error de redondeo al evaluar la fórmula de diferencia finita está acotado por $\\dfrac{2\\epsilon}{h}$, por lo que para $h \\to 0$ el error de redondeo aumenta. El error total es entonces\n",
        "$$\\dfrac{Mh}{2} + \\dfrac{2\\epsilon}{h}$$\n",
        "\n",
        "Derivando respecto a $h$ e igualando a cero\n",
        "$$h = 2\\sqrt{\\dfrac{\\epsilon}{M}}$$\n",
        "donde podemos acotar con $M=1$, y $\\epsilon \\approx 10^{-16}$, entonces\n",
        "$$\\boxed{h \\approx 10^{-8}}$$"
      ]
    },
    {
      "cell_type": "code",
      "execution_count": null,
      "metadata": {
        "id": "Ex8gRIkRyVLf",
        "outputId": "c9e012fb-e1c2-49d3-9f84-88477bbb83d7"
      },
      "outputs": [
        {
          "data": {
            "text/plain": [
              "1.1102230246251565e-16"
            ]
          },
          "execution_count": 141,
          "metadata": {},
          "output_type": "execute_result"
        }
      ],
      "source": [
        "ϵ = 2**-53\n",
        "ϵ"
      ]
    },
    {
      "cell_type": "code",
      "execution_count": null,
      "metadata": {
        "id": "IzJnYcquyVLg",
        "outputId": "b7d6b56c-6331-402c-a939-41dbc2a91651"
      },
      "outputs": [
        {
          "data": {
            "text/plain": [
              "2.1073424255447017e-08"
            ]
          },
          "execution_count": 140,
          "metadata": {},
          "output_type": "execute_result"
        }
      ],
      "source": [
        "2*math.sqrt(ϵ)"
      ]
    },
    {
      "cell_type": "code",
      "execution_count": null,
      "metadata": {
        "id": "av6nqI_DyVLh",
        "outputId": "26fd5fa5-3b35-41d2-f0f8-195a7f618886"
      },
      "outputs": [
        {
          "data": {
            "text/plain": [
              "8.275514353361663e-09"
            ]
          },
          "execution_count": 139,
          "metadata": {},
          "output_type": "execute_result"
        }
      ],
      "source": [
        "math.sqrt(ϵ)*math.pi/4"
      ]
    },
    {
      "cell_type": "code",
      "execution_count": null,
      "metadata": {
        "id": "tCkirM47yVLi"
      },
      "outputs": [],
      "source": [
        "import math\n",
        "def dsinh(x,r=10):\n",
        "    h=0.1\n",
        "    a=[]\n",
        "    b=[]\n",
        "    d=0\n",
        "    dig=2\n",
        "    while h > 1e-17:\n",
        "        d = (math.sin(x + h) - math.sin(x))/h\n",
        "        err = abs(math.cos(x) - d)/math.cos(x)\n",
        "        a.append(h)\n",
        "        b.append(err)\n",
        "        h = round(h/r,dig)\n",
        "        dig = dig + 1\n",
        "    return a,b"
      ]
    },
    {
      "cell_type": "code",
      "execution_count": null,
      "metadata": {
        "id": "uXQnIdHgyVLi"
      },
      "outputs": [],
      "source": [
        "h,err = dsinh(math.pi/4)"
      ]
    },
    {
      "cell_type": "code",
      "execution_count": null,
      "metadata": {
        "id": "2AhdCVDNyVLj"
      },
      "outputs": [],
      "source": [
        "htr = [i/2 for i in h] #Error de truncamiento"
      ]
    },
    {
      "cell_type": "code",
      "execution_count": null,
      "metadata": {
        "id": "lMY-1pruyVLj",
        "outputId": "e959b4c7-cefd-4968-8745-f11c316469e8"
      },
      "outputs": [
        {
          "data": {
            "text/plain": [
              "[2.220446049250313e-15,\n",
              " 2.220446049250313e-14,\n",
              " 2.220446049250313e-13,\n",
              " 2.220446049250313e-12,\n",
              " 2.2204460492503128e-11,\n",
              " 2.220446049250313e-10,\n",
              " 2.220446049250313e-09,\n",
              " 2.220446049250313e-08,\n",
              " 2.2204460492503128e-07,\n",
              " 2.220446049250313e-06,\n",
              " 2.220446049250313e-05,\n",
              " 0.0002220446049250313,\n",
              " 0.002220446049250313,\n",
              " 0.02220446049250313,\n",
              " 0.22204460492503128,\n",
              " 2.220446049250313]"
            ]
          },
          "execution_count": 70,
          "metadata": {},
          "output_type": "execute_result"
        }
      ],
      "source": [
        "hrd = [2*ϵ/i for i in h] #Error de redondeo\n",
        "hrd"
      ]
    },
    {
      "cell_type": "code",
      "execution_count": null,
      "metadata": {
        "id": "hnx1Py63yVLj"
      },
      "outputs": [],
      "source": [
        "ht = [htr[i]+hrd[i] for i in range(len(h))] #Error de truncamiento + error de redondeo"
      ]
    },
    {
      "cell_type": "code",
      "execution_count": null,
      "metadata": {
        "id": "EzZEX1RsyVLk",
        "outputId": "2dad77df-5037-4bdc-9fd3-826253b0d3ba"
      },
      "outputs": [
        {
          "data": {
            "image/png": "[encoded data removed]",
            "text/plain": [
              "<Figure size 720x504 with 1 Axes>"
            ]
          },
          "metadata": {
            "needs_background": "light"
          },
          "output_type": "display_data"
        }
      ],
      "source": [
        "import numpy as np\n",
        "import matplotlib.pyplot as plt\n",
        "\n",
        "plt.figure(figsize=(10,7))\n",
        "plt.loglog(h,err,'.-',label='Error real')\n",
        "#plt.loglog(h,ht,label='Suma de los errores') #h/2 + 2*ϵ/h\n",
        "plt.loglog(h,htr,'.--',label='Error de truncamiento')\n",
        "plt.loglog(h,hrd,'.--',label='Error de redondeo')\n",
        "plt.grid(True)\n",
        "plt.title('Diferencias Finitas')\n",
        "plt.ylabel('Error')\n",
        "plt.xlabel('Tamaño de paso h')\n",
        "plt.legend()\n",
        "plt.show()"
      ]
    },
    {
      "cell_type": "code",
      "execution_count": null,
      "metadata": {
        "id": "FvrfqA_UyVLk"
      },
      "outputs": [],
      "source": [
        "import math\n",
        "import numpy as np\n",
        "def dcsinh(x,r=10):\n",
        "    h=0.1\n",
        "    a=[]\n",
        "    b=[]\n",
        "    d=0\n",
        "    dig=2\n",
        "    while h > 1e-18:\n",
        "        d = (math.sin(x + h) - math.sin(x - h))/(2*h)\n",
        "        err = abs(math.cos(x) - d)/math.cos(x)\n",
        "        a.append(h)\n",
        "        b.append(err)\n",
        "        h = round(h/r,dig)\n",
        "        dig = dig + 1\n",
        "    return a,b"
      ]
    },
    {
      "cell_type": "code",
      "execution_count": null,
      "metadata": {
        "id": "h0HAcbKtyVLl"
      },
      "outputs": [],
      "source": [
        "hc,errc = dcsinh(math.pi/4)\n",
        "htrc = [i/2 for i in hc] #Error de truncamiento\n",
        "hrdc = [2*ϵ/i for i in hc] #Error de redondeo"
      ]
    },
    {
      "cell_type": "code",
      "execution_count": null,
      "metadata": {
        "id": "hv7YQI4tyVLl",
        "outputId": "8d3563d6-9b92-4ffc-8fb2-a3ea3bf8ed15"
      },
      "outputs": [
        {
          "data": {
            "image/png": "[encoded data removed]",
            "text/plain": [
              "<Figure size 720x504 with 1 Axes>"
            ]
          },
          "metadata": {
            "needs_background": "light"
          },
          "output_type": "display_data"
        }
      ],
      "source": [
        "import numpy as np\n",
        "import matplotlib.pyplot as plt\n",
        "\n",
        "plt.figure(figsize=(10,7))\n",
        "plt.loglog(hc,errc,'.-',label='Error real')\n",
        "plt.loglog(hc,htrc,'.--',label='Error de truncamiento')\n",
        "plt.loglog(hc,hrdc,'.--',label='Error de redondeo')\n",
        "plt.grid(True)\n",
        "plt.title('Diferencias Centradas')\n",
        "plt.ylabel('Error')\n",
        "plt.xlabel('Tamaño de paso h')\n",
        "plt.legend()\n",
        "plt.show()"
      ]
    },
    {
      "cell_type": "markdown",
      "metadata": {
        "id": "a88r1q_ryVLl"
      },
      "source": [
        "El error en la aproximación de diferencia centrada disminuye notablemente con respecto a la aproximación de diferencia finita, además de que se llega al error mínimo en un valor de $h$ más grande."
      ]
    },
    {
      "cell_type": "markdown",
      "metadata": {
        "id": "A2L7e3igyVLm"
      },
      "source": [
        "$ $\n",
        "\n",
        "**13.** En el año 250 A. de C., el matemático griego Arquímides estimó el número $\\pi$ como sigue:\n",
        "$ $\n",
        "<div style=\"text-align: justify\">\n",
        "Consideró un círculo con diámetro 1 y circunferencia $\\pi$. Inscribió un cuadrado, por lo que el lado del cuadrado es $1/\\sqrt{2} = \\sqrt{2}/2$ y su perímetro $2\\sqrt{2} \\approx 2.83$, que es menor que la circunferencia, por lo que es una cota inferior de $\\pi$. Luego, Arquímides consideró un octágono inscrito, un dieciseiságono, etc., cada vez duplicaba el número de lados del polígono inscrito y obtenía una mejor aproximación de $\\pi$. Usando un polígono inscrito y otro circunscrito, ambos de $96$ lados, pudo mostrar que\n",
        "</div>\n",
        "\n",
        "$$\\dfrac{223}{71} < \\pi < \\dfrac{22}{7}$$\n",
        "\n",
        "Existe una forma recursiva para estas estimaciones.\n",
        "\n",
        "**a)** Sea $p_n$ el perímetro del polígono inscrito con $2^n$ lados, $n\\geq2$. Entonces $p_2 = 2\\sqrt{2}$ es el perímetro del cuadrado inscrito. En general:\n",
        "\n",
        "\\begin{equation}\n",
        "    p_{n+1} = 2^n\\sqrt{2 - 2\\sqrt{1 - (p_n/2^n)^2}}\n",
        "\\label{1} \\tag{1} %$\\eqref{1}$\n",
        "\\end{equation}\n",
        "\n",
        "Elabora un programa que calcule $p_n$ para $n = 3,4,\\dots,60$. Trata de explicar tus resultados (este problema fue sugerido por Alan Cline). "
      ]
    },
    {
      "cell_type": "code",
      "execution_count": null,
      "metadata": {
        "id": "5eSh35jWyVLm"
      },
      "outputs": [],
      "source": [
        "import math\n",
        "def peripi(n):\n",
        "    p = 2*math.sqrt(2)\n",
        "    for i in range(2,n):\n",
        "        print(p)\n",
        "        p = 2**i*math.sqrt( 2 - 2*math.sqrt( 1 - (p/2**i)**2 ) )\n",
        "    return p"
      ]
    },
    {
      "cell_type": "code",
      "execution_count": null,
      "metadata": {
        "id": "svMv-M5byVLm",
        "outputId": "17f41041-44bd-4d3b-8f77-fc4a8d6a55b3"
      },
      "outputs": [
        {
          "data": {
            "text/plain": [
              "2.8284271247461903"
            ]
          },
          "execution_count": 99,
          "metadata": {},
          "output_type": "execute_result"
        }
      ],
      "source": [
        "peripi(2)"
      ]
    },
    {
      "cell_type": "code",
      "execution_count": null,
      "metadata": {
        "id": "O-kpENhZyVLn",
        "outputId": "b2aefb7e-a5fa-497c-fa96-3cf2e54a2926"
      },
      "outputs": [
        {
          "data": {
            "text/plain": [
              "2.8284271247461903"
            ]
          },
          "execution_count": 100,
          "metadata": {},
          "output_type": "execute_result"
        }
      ],
      "source": [
        "2*math.sqrt(2)"
      ]
    },
    {
      "cell_type": "code",
      "execution_count": null,
      "metadata": {
        "id": "SOQE8cFXyVLn",
        "outputId": "fd7f4ef0-592d-472d-f61c-8aac75f879ce"
      },
      "outputs": [
        {
          "name": "stdout",
          "output_type": "stream",
          "text": [
            "2.8284271247461903\n"
          ]
        },
        {
          "data": {
            "text/plain": [
              "3.0614674589207187"
            ]
          },
          "execution_count": 101,
          "metadata": {},
          "output_type": "execute_result"
        }
      ],
      "source": [
        "peripi(3)"
      ]
    },
    {
      "cell_type": "code",
      "execution_count": null,
      "metadata": {
        "id": "xDFDF3AiyVLn",
        "outputId": "bff7db0f-23dc-4d3c-b5b6-0a07fba42005"
      },
      "outputs": [
        {
          "data": {
            "text/plain": [
              "3.0614674589207187"
            ]
          },
          "execution_count": 102,
          "metadata": {},
          "output_type": "execute_result"
        }
      ],
      "source": [
        "p3 = 2**2*math.sqrt( 2 - 2*math.sqrt( 1 - ( 2*math.sqrt(2)/4 )**2 ) )\n",
        "p3"
      ]
    },
    {
      "cell_type": "code",
      "execution_count": null,
      "metadata": {
        "scrolled": true,
        "id": "u2Nk_ze_yVLn",
        "outputId": "fb383066-1fca-47c9-f3b9-8fe3713c3deb"
      },
      "outputs": [
        {
          "name": "stdout",
          "output_type": "stream",
          "text": [
            "2.8284271247461903\n",
            "3.0614674589207187\n"
          ]
        },
        {
          "data": {
            "text/plain": [
              "3.121445152258053"
            ]
          },
          "execution_count": 103,
          "metadata": {},
          "output_type": "execute_result"
        }
      ],
      "source": [
        "peripi(4)"
      ]
    },
    {
      "cell_type": "code",
      "execution_count": null,
      "metadata": {
        "id": "W4SgJKCPyVLo",
        "outputId": "31602f05-028d-46b7-bf50-651e491dd923"
      },
      "outputs": [
        {
          "data": {
            "text/plain": [
              "3.121445152258053"
            ]
          },
          "execution_count": 104,
          "metadata": {},
          "output_type": "execute_result"
        }
      ],
      "source": [
        "p4 = 2**3*math.sqrt( 2 - 2*math.sqrt( 1 - ( p3/2**3 )**2 ) )\n",
        "p4"
      ]
    },
    {
      "cell_type": "code",
      "execution_count": null,
      "metadata": {
        "id": "D-r4p70uyVLo",
        "outputId": "2ca881d5-5eea-4e85-fcbb-d7db38059226"
      },
      "outputs": [
        {
          "name": "stdout",
          "output_type": "stream",
          "text": [
            "2.8284271247461903\n",
            "3.0614674589207187\n",
            "3.121445152258053\n"
          ]
        },
        {
          "data": {
            "text/plain": [
              "3.1365484905459406"
            ]
          },
          "execution_count": 105,
          "metadata": {},
          "output_type": "execute_result"
        }
      ],
      "source": [
        "peripi(5)"
      ]
    },
    {
      "cell_type": "code",
      "execution_count": null,
      "metadata": {
        "scrolled": true,
        "id": "WGNG8KTlyVLo",
        "outputId": "44a8755c-3b8e-4683-eaf8-79d5ef133693"
      },
      "outputs": [
        {
          "data": {
            "text/plain": [
              "3.1365484905459406"
            ]
          },
          "execution_count": 106,
          "metadata": {},
          "output_type": "execute_result"
        }
      ],
      "source": [
        "p5 = 2**4*math.sqrt( 2 - 2*math.sqrt( 1 - ( p4/2**4 )**2 ) )\n",
        "p5"
      ]
    },
    {
      "cell_type": "code",
      "execution_count": null,
      "metadata": {
        "id": "9slrAkROyVLo",
        "outputId": "57668e13-5457-479a-cbe8-2547c3c66838"
      },
      "outputs": [
        {
          "name": "stdout",
          "output_type": "stream",
          "text": [
            "2.8284271247461903\n",
            "3.0614674589207187\n",
            "3.121445152258053\n",
            "3.1365484905459406\n",
            "3.140331156954739\n",
            "3.141277250932757\n",
            "3.1415138011441455\n",
            "3.1415729403678827\n",
            "3.141587725279961\n",
            "3.141591421504635\n",
            "3.141592345611077\n",
            "3.1415925765450043\n",
            "3.1415926334632482\n"
          ]
        }
      ],
      "source": [
        "pi1 = peripi(15)"
      ]
    },
    {
      "cell_type": "code",
      "execution_count": null,
      "metadata": {
        "id": "RlIBK_XUyVLo",
        "outputId": "a474b4a6-1e5c-44a0-be79-60ad110c94e1"
      },
      "outputs": [
        {
          "data": {
            "text/plain": [
              "3.141592653589793"
            ]
          },
          "execution_count": 108,
          "metadata": {},
          "output_type": "execute_result"
        }
      ],
      "source": [
        "math.pi"
      ]
    },
    {
      "cell_type": "code",
      "execution_count": null,
      "metadata": {
        "id": "-Tco1ZXpyVLp",
        "outputId": "b27815ff-b071-45f3-c76e-8ee3fa4ce5e8"
      },
      "outputs": [
        {
          "data": {
            "text/plain": [
              "3.8763653359172195e-10"
            ]
          },
          "execution_count": 109,
          "metadata": {},
          "output_type": "execute_result"
        }
      ],
      "source": [
        "(pi1-math.pi)/math.pi"
      ]
    },
    {
      "cell_type": "markdown",
      "metadata": {
        "id": "yddpL1_WyVLp"
      },
      "source": [
        "La mejor aproximación es para $n=15$ con un error relativo del orden de $10^{-10}$"
      ]
    },
    {
      "cell_type": "code",
      "execution_count": null,
      "metadata": {
        "id": "iMTQ-qTOyVLp",
        "outputId": "0a367401-fe21-4139-e609-e5e674a78a87"
      },
      "outputs": [
        {
          "name": "stdout",
          "output_type": "stream",
          "text": [
            "2.8284271247461903\n",
            "3.0614674589207187\n",
            "3.121445152258053\n",
            "3.1365484905459406\n",
            "3.140331156954739\n",
            "3.141277250932757\n",
            "3.1415138011441455\n",
            "3.1415729403678827\n",
            "3.141587725279961\n",
            "3.141591421504635\n",
            "3.141592345611077\n",
            "3.1415925765450043\n",
            "3.1415926334632482\n",
            "3.141592654807589\n",
            "3.1415926453212153\n",
            "3.1415926073757197\n",
            "3.1415929109396727\n",
            "3.141594125195191\n",
            "3.1415965537048196\n",
            "3.1415965537048196\n",
            "3.1416742650217575\n",
            "3.1418296818892015\n",
            "3.142451272494134\n",
            "3.142451272494134\n",
            "3.1622776601683795\n",
            "3.1622776601683795\n",
            "3.4641016151377544\n",
            "4.0\n"
          ]
        },
        {
          "data": {
            "text/plain": [
              "0.0"
            ]
          },
          "execution_count": 110,
          "metadata": {},
          "output_type": "execute_result"
        }
      ],
      "source": [
        "peripi(30)"
      ]
    },
    {
      "cell_type": "markdown",
      "metadata": {
        "id": "EONbGiTHyVLp"
      },
      "source": [
        "La fórmula $(1)$ se puede mejorar, evitando la cancelación numérica. Como\n",
        "\n",
        "$$p_{n+1} = 2^n \\sqrt{r_{n}}$$\n",
        "\n",
        "donde\n",
        "$$r_{n} = 2 - 2\\sqrt{1-(p_n/2^n)^2}$$\n",
        "\n",
        "con\n",
        "$$r_2 = 2 - 2\\sqrt{1-\\big(\\sqrt{2}/2\\big)^2} = \\big(2 - \\sqrt{2}\\big)\\dfrac{2 + \\sqrt{2}}{2 + \\sqrt{2}} = \\dfrac{2}{2 + \\sqrt{2}}$$\n",
        "\n",
        "por lo tanto\n",
        "$$p_3 = 2^2\\sqrt{r_2} = \\dfrac{2^2\\sqrt{2}}{\\sqrt{2 + \\sqrt{2}}}$$\n",
        "\n",
        "Ahora\n",
        "$$p_4 = 2^3\\sqrt{r_3} = 2^3\\sqrt{2 - 2\\sqrt{1 - \\left(p_3\\big/2^3\\right)^2}}$$\n",
        "\n",
        "con\n",
        "$$r_3 = 2 - 2\\sqrt{1 - \\left(p_3\\big/2^3\\right)^2} = 2 - 2\\sqrt{1 - \\dfrac{r_2}{2^2}} = \\big(2-\\sqrt{4-r_2}\\big)\\dfrac{2+\\sqrt{4-r_2}}{2+\\sqrt{4-r_2}} = \\dfrac{r_2}{2+\\sqrt{4-r_2}}$$\n",
        "\n",
        "de donde se obtiene que\n",
        "$$r_{n+1} = \\dfrac{r_n}{2 + \\sqrt{4-r_n}}$$\n",
        "\n",
        "Usa esta última iteración para calcular $p_n$ para $n = 3,4,\\dots,60$ (esta modificación es debida a W. Kahan). Comenta."
      ]
    },
    {
      "cell_type": "code",
      "execution_count": null,
      "metadata": {
        "id": "IAiBXs5RyVLp",
        "outputId": "c04151ce-bb02-4b82-89fb-e5d86907d8ac"
      },
      "outputs": [
        {
          "data": {
            "text/plain": [
              "'0.5857864376269050765699830662924796342849731445312500000'"
            ]
          },
          "execution_count": 111,
          "metadata": {},
          "output_type": "execute_result"
        }
      ],
      "source": [
        "# r2\n",
        "format( 2 - 2*math.sqrt( 1 - ( math.sqrt(2)/2 )**2 ), '.55f')"
      ]
    },
    {
      "cell_type": "code",
      "execution_count": null,
      "metadata": {
        "id": "P_Ob7CuDyVLp",
        "outputId": "e6a8e206-b51f-460d-f90a-c910877bd402"
      },
      "outputs": [
        {
          "data": {
            "text/plain": [
              "'0.5857864376269050765699830662924796342849731445312500000'"
            ]
          },
          "execution_count": 112,
          "metadata": {},
          "output_type": "execute_result"
        }
      ],
      "source": [
        "# r2\n",
        "format( 2-2/math.sqrt(2), '.55f')"
      ]
    },
    {
      "cell_type": "code",
      "execution_count": null,
      "metadata": {
        "id": "ZXyeFIZ4yVLp",
        "outputId": "1a34153b-5768-461e-e9ca-a0771f5e371d"
      },
      "outputs": [
        {
          "data": {
            "text/plain": [
              "'0.5857864376269048545253781412611715495586395263671875000'"
            ]
          },
          "execution_count": 113,
          "metadata": {},
          "output_type": "execute_result"
        }
      ],
      "source": [
        "# r2\n",
        "format( 2-math.sqrt(2), '.55f')"
      ]
    },
    {
      "cell_type": "code",
      "execution_count": null,
      "metadata": {
        "id": "wTlZD8ENyVLq",
        "outputId": "39178f24-da39-49e8-f7d7-bd0fcdb33d3e"
      },
      "outputs": [
        {
          "data": {
            "text/plain": [
              "11.779789167333817"
            ]
          },
          "execution_count": 114,
          "metadata": {},
          "output_type": "execute_result"
        }
      ],
      "source": [
        "8*math.sqrt(2-math.sqrt(2)) + 4*math.sqrt(2)"
      ]
    },
    {
      "cell_type": "code",
      "execution_count": null,
      "metadata": {
        "id": "pXx7lhCFyVLq",
        "outputId": "37b037ae-7ffc-4b23-d15b-3cefad1fb715"
      },
      "outputs": [
        {
          "data": {
            "text/plain": [
              "'0.5857864376269049655476806037768255919218063354492187500'"
            ]
          },
          "execution_count": 115,
          "metadata": {},
          "output_type": "execute_result"
        }
      ],
      "source": [
        "# r2 el bueno\n",
        "format( 2/(2+math.sqrt(2)), '.55f')"
      ]
    },
    {
      "cell_type": "code",
      "execution_count": null,
      "metadata": {
        "id": "GxgLhm0vyVLq",
        "outputId": "528e277d-0fe1-403d-cc98-cc281c10dc9c"
      },
      "outputs": [
        {
          "data": {
            "text/plain": [
              "'0.0000000000000000000000000000000000000000000000000000000'"
            ]
          },
          "execution_count": 116,
          "metadata": {},
          "output_type": "execute_result"
        }
      ],
      "source": [
        "# r2\n",
        "format( 2/(2+math.sqrt(2))-0.5857864376269049511983112757903, '.55f')"
      ]
    },
    {
      "cell_type": "code",
      "execution_count": null,
      "metadata": {
        "id": "ddNSj0tuyVLq",
        "outputId": "8a13083c-cca9-4341-d6f1-9cc2ee0e0631"
      },
      "outputs": [
        {
          "data": {
            "text/plain": [
              "'-0.0000000000000001110223024625156540423631668090820312500'"
            ]
          },
          "execution_count": 117,
          "metadata": {},
          "output_type": "execute_result"
        }
      ],
      "source": [
        "# r2 no tan bueno\n",
        "format( 2-math.sqrt(2)-0.5857864376269049511983112757903, '.55f')"
      ]
    },
    {
      "cell_type": "code",
      "execution_count": null,
      "metadata": {
        "id": "dXlx1StdyVLq",
        "outputId": "465b3094-6b9d-4fd6-f0a0-18c106b152a4"
      },
      "outputs": [
        {
          "data": {
            "text/plain": [
              "3.0614674589207183"
            ]
          },
          "execution_count": 118,
          "metadata": {},
          "output_type": "execute_result"
        }
      ],
      "source": [
        "# p3 = 2**2*r2\n",
        "2**2*math.sqrt(2/(2+math.sqrt(2)))"
      ]
    },
    {
      "cell_type": "code",
      "execution_count": null,
      "metadata": {
        "id": "-r0SpB1VyVLq",
        "outputId": "188b7f2e-783e-490f-c7cb-ef95604f9130"
      },
      "outputs": [
        {
          "data": {
            "text/plain": [
              "3.0614674589207187"
            ]
          },
          "execution_count": 119,
          "metadata": {},
          "output_type": "execute_result"
        }
      ],
      "source": [
        "p3"
      ]
    },
    {
      "cell_type": "code",
      "execution_count": null,
      "metadata": {
        "id": "-oOWs5nyyVLr",
        "outputId": "f8ccb673-e991-405a-a9ad-82e33b73bd4a"
      },
      "outputs": [
        {
          "data": {
            "text/plain": [
              "0.585786437626905"
            ]
          },
          "execution_count": 120,
          "metadata": {},
          "output_type": "execute_result"
        }
      ],
      "source": [
        "r2 = 2/(2+math.sqrt(2))\n",
        "r2"
      ]
    },
    {
      "cell_type": "code",
      "execution_count": null,
      "metadata": {
        "id": "dcqkEYvlyVLr",
        "outputId": "22357435-2d67-48cc-bfd1-7c90a2b33720"
      },
      "outputs": [
        {
          "data": {
            "text/plain": [
              "0.1522409349774265"
            ]
          },
          "execution_count": 121,
          "metadata": {},
          "output_type": "execute_result"
        }
      ],
      "source": [
        "r3 = r2/(2+math.sqrt(4-r2))\n",
        "r3"
      ]
    },
    {
      "cell_type": "code",
      "execution_count": null,
      "metadata": {
        "id": "6lkX4zwHyVLr",
        "outputId": "348d3235-a46c-473c-9477-5ec062f7a3d8"
      },
      "outputs": [
        {
          "data": {
            "text/plain": [
              "3.1214451522580524"
            ]
          },
          "execution_count": 122,
          "metadata": {},
          "output_type": "execute_result"
        }
      ],
      "source": [
        "# p4 = 2**3*r3\n",
        "2**3*math.sqrt(r3)"
      ]
    },
    {
      "cell_type": "code",
      "execution_count": null,
      "metadata": {
        "id": "QuQkwbY4yVLr",
        "outputId": "ce8ada25-090b-475a-9fba-6a1d8b6feced"
      },
      "outputs": [
        {
          "data": {
            "text/plain": [
              "3.121445152258053"
            ]
          },
          "execution_count": 123,
          "metadata": {},
          "output_type": "execute_result"
        }
      ],
      "source": [
        "p4"
      ]
    },
    {
      "cell_type": "code",
      "execution_count": null,
      "metadata": {
        "id": "MKU2cyOsyVLr"
      },
      "outputs": [],
      "source": [
        "def perpi(n):\n",
        "    r = 2/(2+math.sqrt(2)) #r2\n",
        "    p = 2**2*math.sqrt(r) #p2\n",
        "    for i in range(3,n):\n",
        "        r = r/( 2 + math.sqrt(4-r) )\n",
        "        p = 2**i*math.sqrt(r)\n",
        "        print(format(p,'.55f'))\n",
        "    return p"
      ]
    },
    {
      "cell_type": "code",
      "execution_count": null,
      "metadata": {
        "id": "oIE9GpvAyVLr",
        "outputId": "50380f95-6323-4fc1-9579-130c29851ad8"
      },
      "outputs": [
        {
          "name": "stdout",
          "output_type": "stream",
          "text": [
            "3.1214451522580524134298229910200461745262145996093750000\n",
            "3.1365484905459393161208936362527310848236083984375000000\n",
            "3.1403311569547529558121823356486856937408447265625000000\n",
            "3.1412772509327728798211865068878978490829467773437500000\n",
            "3.1415138011443013432710813503945246338844299316406250000\n",
            "3.1415729403670913377766282792435958981513977050781250000\n",
            "3.1415877252771595706803964276332408189773559570312500000\n",
            "3.1415914215111997442875235719839110970497131347656250000\n",
            "3.1415923455701175726062501780688762664794921875000000000\n",
            "3.1415925765848724537931957456748932600021362304687500000\n",
            "3.1415926343385627284021666127955541014671325683593750000\n",
            "3.1415926487769856301213167171226814389228820800781250000\n",
            "3.1415926523865911335064993181731551885604858398437500000\n",
            "3.1415926532889928424197023559827357530593872070312500000\n",
            "3.1415926535145928255587932653725147247314453125000000000\n",
            "3.1415926535709930433881709177512675523757934570312500000\n",
            "3.1415926535850933198901202558772638440132141113281250000\n",
            "3.1415926535886180559487002028618007898330688476562500000\n",
            "3.1415926535894995730302525771548971533775329589843750000\n",
            "3.1415926535897202853675480582751333713531494140625000000\n",
            "3.1415926535897753524295694660395383834838867187500000000\n",
            "3.1415926535897891191950748179806396365165710449218750000\n",
            "3.1415926535897926719087536184815689921379089355468750000\n",
            "3.1415926535897935600871733186068013310432434082031250000\n",
            "3.1415926535897935600871733186068013310432434082031250000\n",
            "3.1415926535897935600871733186068013310432434082031250000\n",
            "3.1415926535897935600871733186068013310432434082031250000\n"
          ]
        }
      ],
      "source": [
        "pi2 = perpi(30)"
      ]
    },
    {
      "cell_type": "code",
      "execution_count": null,
      "metadata": {
        "id": "1evka0lSyVLs",
        "outputId": "dd855563-113f-4288-ce7d-d8f86f5bdb8f"
      },
      "outputs": [
        {
          "data": {
            "text/plain": [
              "1.4135798584282297e-16"
            ]
          },
          "execution_count": 92,
          "metadata": {},
          "output_type": "execute_result"
        }
      ],
      "source": [
        "(pi2 - math.pi)/math.pi"
      ]
    },
    {
      "cell_type": "markdown",
      "metadata": {
        "id": "UGilRQdFyVLs"
      },
      "source": [
        "La mejor aproximación es a partir de $n=26$ con un error relativo del orden de $10^{-16}$"
      ]
    },
    {
      "cell_type": "code",
      "execution_count": null,
      "metadata": {
        "id": "4R74OvjayVLs",
        "outputId": "2db266f5-8059-4076-c7c1-55b6aa2285f5"
      },
      "outputs": [
        {
          "data": {
            "text/plain": [
              "'3.1415926535897931159979634685441851615905761718750000000'"
            ]
          },
          "execution_count": 127,
          "metadata": {},
          "output_type": "execute_result"
        }
      ],
      "source": [
        "format(math.pi,'.55f')"
      ]
    },
    {
      "cell_type": "code",
      "execution_count": null,
      "metadata": {
        "id": "C0I8GOP_yVLs"
      },
      "outputs": [],
      "source": [
        "# π desde calculadora de windows\n",
        "pi3 = 3.1415926535897932384626433832795\n",
        "# π desde julia\n",
        "pi4 = 3.141592653589793238462643383279502884197169399375105820974944592307816406286198"
      ]
    },
    {
      "cell_type": "code",
      "execution_count": null,
      "metadata": {
        "id": "AbGR8Pf4yVLs",
        "outputId": "f44312af-e6cb-43d6-f90d-b4d7583f129a"
      },
      "outputs": [
        {
          "data": {
            "text/plain": [
              "'3.1415926535897931159979634685441851615905761718750000000'"
            ]
          },
          "execution_count": 129,
          "metadata": {},
          "output_type": "execute_result"
        }
      ],
      "source": [
        "format(pi3, '.55f')"
      ]
    },
    {
      "cell_type": "code",
      "execution_count": null,
      "metadata": {
        "id": "dal_9b0OyVLs",
        "outputId": "8754f45f-89bf-49f6-c3ad-1a8a220e3083"
      },
      "outputs": [
        {
          "data": {
            "text/plain": [
              "'3.1415926535897931159979634685441851615905761718750000000'"
            ]
          },
          "execution_count": 130,
          "metadata": {},
          "output_type": "execute_result"
        }
      ],
      "source": [
        "format(pi4, '.55f')"
      ]
    },
    {
      "cell_type": "markdown",
      "metadata": {
        "id": "3y1pqjtgyVLs"
      },
      "source": [
        "**c)** Observe que eventualmente $4 - r_n$ se redondeará a $4$ y consecuentemente la fórmula alternativa se verá afectada también por errores de redondeo para valores grandes de $n$. ¿Nos debemos preocupar por esto?"
      ]
    },
    {
      "cell_type": "code",
      "execution_count": null,
      "metadata": {
        "id": "VMpY0hUnyVLt",
        "outputId": "27f8cbeb-de9e-4d5c-b976-67f692a76a28"
      },
      "outputs": [
        {
          "data": {
            "text/plain": [
              "1.1102230246251565e-16"
            ]
          },
          "execution_count": 83,
          "metadata": {},
          "output_type": "execute_result"
        }
      ],
      "source": [
        "ϵ = 2**-53\n",
        "ϵ"
      ]
    },
    {
      "cell_type": "markdown",
      "metadata": {
        "id": "_JubatLUyVLt"
      },
      "source": [
        "Como el error relativo de la aproximación de $\\pi$ a partir de $n=26$ es $1.41\\times10^{-16}$, que es del orden de la unidad de redondeo $\\epsilon_\\text{mach} = 2^{-53} \\approx 1.11\\times10^{-16}$, ya no se puede mejorar la aproximación."
      ]
    }
  ],
  "metadata": {
    "kernelspec": {
      "display_name": "Python 3",
      "language": "python",
      "name": "python3"
    },
    "language_info": {
      "codemirror_mode": {
        "name": "ipython",
        "version": 3
      },
      "file_extension": ".py",
      "mimetype": "text/x-python",
      "name": "python",
      "nbconvert_exporter": "python",
      "pygments_lexer": "ipython3",
      "version": "3.8.5"
    },
    "colab": {
      "provenance": [],
      "include_colab_link": true
    }
  },
  "nbformat": 4,
  "nbformat_minor": 0
}