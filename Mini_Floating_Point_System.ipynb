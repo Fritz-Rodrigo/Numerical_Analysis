{
  "cells": [
    {
      "cell_type": "markdown",
      "metadata": {
        "id": "view-in-github",
        "colab_type": "text"
      },
      "source": [
        "<a href=\"https://colab.research.google.com/github/Fritz-Rodrigo/Numerical_Analysis/blob/main/Mini_Floating_Point_System.ipynb\" target=\"_parent\"><img src=\"https://colab.research.google.com/assets/colab-badge.svg\" alt=\"Open In Colab\"/></a>"
      ]
    },
    {
      "cell_type": "markdown",
      "metadata": {
        "id": "347UbO1kxvA0"
      },
      "source": [
        "### Heath Example 1.9 Floating-Point System"
      ]
    },
    {
      "cell_type": "code",
      "execution_count": null,
      "metadata": {
        "id": "bN7mvx1axvA8"
      },
      "outputs": [],
      "source": [
        "import matplotlib.pyplot as plt\n",
        "import numpy as np"
      ]
    },
    {
      "cell_type": "code",
      "execution_count": null,
      "metadata": {
        "id": "z9jmwa64xvA_",
        "outputId": "1528dd2a-58e2-47cd-f1dc-bef9c9cd24f9"
      },
      "outputs": [
        {
          "data": {
            "text/plain": [
              "(array([1.  , 1.25, 1.5 , 1.75]),\n",
              " array([0.5  , 1.   , 2.   , 0.625, 1.25 , 2.5  , 0.75 , 1.5  , 3.   ,\n",
              "        0.875, 1.75 , 3.5  ]))"
            ]
          },
          "execution_count": 80,
          "metadata": {},
          "output_type": "execute_result"
        }
      ],
      "source": [
        "# Generate the positive elements of the system (2,3,-1,1)\n",
        "x = []\n",
        "mantissa = np.arange(1.0, 1.8, 0.25) # These are the decimal numbers for the binaries 1.00, 1.01, 1.10, 1.11\n",
        "for i in mantissa:\n",
        "    for j in range(-1,2):\n",
        "        x.append(i*2**(j))\n",
        "mantissa, np.hstack(x)"
      ]
    },
    {
      "cell_type": "code",
      "execution_count": null,
      "metadata": {
        "id": "73MQNF_TxvBC",
        "outputId": "f418e07f-284f-4e25-fe84-c81e1457df22"
      },
      "outputs": [
        {
          "data": {
            "text/plain": [
              "array([-3.5  , -3.   , -2.5  , -2.   , -1.75 , -1.5  , -1.25 , -1.   ,\n",
              "       -0.875, -0.75 , -0.625, -0.5  ,  0.   ,  0.5  ,  1.   ,  2.   ,\n",
              "        0.625,  1.25 ,  2.5  ,  0.75 ,  1.5  ,  3.   ,  0.875,  1.75 ,\n",
              "        3.5  ])"
            ]
          },
          "execution_count": 81,
          "metadata": {},
          "output_type": "execute_result"
        }
      ],
      "source": [
        "x = np.array(x)\n",
        "negs = -np.sort(x)[::-1]\n",
        "x = np.append(0,x)\n",
        "x = np.append(negs,x)\n",
        "y = np.zeros(len(x))\n",
        "x"
      ]
    },
    {
      "cell_type": "code",
      "execution_count": null,
      "metadata": {
        "id": "exA7u_WhxvBE",
        "outputId": "bc85d1a2-1a6c-4718-9a9b-41730ca7b344"
      },
      "outputs": [
        {
          "data": {
            "image/png": "[encoded data removed]",
            "text/plain": [
              "<Figure size 1440x288 with 1 Axes>"
            ]
          },
          "metadata": {
            "needs_background": "light"
          },
          "output_type": "display_data"
        }
      ],
      "source": [
        "# %matplotlib inline\n",
        "plt.figure(figsize=(20,4))\n",
        "plt.plot(x, y, '|', markersize=75)\n",
        "plt.xlim(-4,4)\n",
        "plt.yticks([-1,0,1])\n",
        "plt.title('Floating-Point System (2,3,-1,1)')\n",
        "plt.grid(axis='y', lw=2)\n",
        "# plt.show()"
      ]
    }
  ],
  "metadata": {
    "kernelspec": {
      "display_name": "Python 3",
      "language": "python",
      "name": "python3"
    },
    "language_info": {
      "codemirror_mode": {
        "name": "ipython",
        "version": 3
      },
      "file_extension": ".py",
      "mimetype": "text/x-python",
      "name": "python",
      "nbconvert_exporter": "python",
      "pygments_lexer": "ipython3",
      "version": "3.9.12"
    },
    "colab": {
      "provenance": [],
      "include_colab_link": true
    }
  },
  "nbformat": 4,
  "nbformat_minor": 0
}